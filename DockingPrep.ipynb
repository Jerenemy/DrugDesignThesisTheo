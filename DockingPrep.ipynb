{
 "cells": [
  {
   "cell_type": "code",
   "execution_count": 4,
   "id": "c194635a",
   "metadata": {
    "scrolled": true
   },
   "outputs": [
    {
     "ename": "ImportError",
     "evalue": "cannot import name 'pybel' from 'openbabel' (/home/theo/anaconda3/envs/prawn/lib/python3.7/site-packages/openbabel.py)",
     "output_type": "error",
     "traceback": [
      "\u001b[0;31m---------------------------------------------------------------------------\u001b[0m",
      "\u001b[0;31mImportError\u001b[0m                               Traceback (most recent call last)",
      "\u001b[0;32m/tmp/ipykernel_12990/3957938531.py\u001b[0m in \u001b[0;36m<module>\u001b[0;34m\u001b[0m\n\u001b[0;32m----> 1\u001b[0;31m \u001b[0;32mfrom\u001b[0m \u001b[0mopenbabel\u001b[0m \u001b[0;32mimport\u001b[0m \u001b[0mpybel\u001b[0m\u001b[0;34m\u001b[0m\u001b[0;34m\u001b[0m\u001b[0m\n\u001b[0m\u001b[1;32m      2\u001b[0m \u001b[0;32mfrom\u001b[0m \u001b[0mautodock\u001b[0m \u001b[0;32mimport\u001b[0m \u001b[0mVina\u001b[0m\u001b[0;34m\u001b[0m\u001b[0;34m\u001b[0m\u001b[0m\n",
      "\u001b[0;31mImportError\u001b[0m: cannot import name 'pybel' from 'openbabel' (/home/theo/anaconda3/envs/prawn/lib/python3.7/site-packages/openbabel.py)"
     ]
    }
   ],
   "source": [
    "from openbabel import pybel\n",
    "from autodock import Vina"
   ]
  },
  {
   "cell_type": "code",
   "execution_count": 5,
   "id": "9f1b588d",
   "metadata": {},
   "outputs": [],
   "source": [
    "import openbabel"
   ]
  },
  {
   "cell_type": "code",
   "execution_count": 3,
   "id": "d8489b22",
   "metadata": {},
   "outputs": [],
   "source": [
    "class PDB_Writer():\n",
    "    '''file for writing 3d pdb coordinates from smiles'''\n",
    "    def __init__(self,path,different_files = False):\n",
    "        self.path = path\n",
    "        self.different_files = different_files\n",
    "        self.idx = 0\n",
    "        \n",
    "    def __file_name_creator(self,smile_idx):\n",
    "        #returns path for writing the file to\n",
    "        if self.different_files:\n",
    "            path = self.path + '/' + 'pdb_folder' + self.idx + '/pdb'\n",
    "        else:\n",
    "            path = self.path +'pdb_' + str(self.idx)\n",
    "            \n",
    "\n",
    "    def write(self,smiles,overwrite = False):\n",
    "        for idx,smile in enumerate(smiles): \n",
    "            mol = pybel.readstring('smi',smile)\n",
    "            mol.make3D()\n",
    "            file_name = self.__file_name_creator(idx)\n",
    "            mol.write('PDB',mol,overwrite)\n",
    "        "
   ]
  },
  {
   "cell_type": "code",
   "execution_count": null,
   "id": "d04c4ebf",
   "metadata": {},
   "outputs": [],
   "source": []
  }
 ],
 "metadata": {
  "kernelspec": {
   "display_name": "Python 3 (ipykernel)",
   "language": "python",
   "name": "python3"
  },
  "language_info": {
   "codemirror_mode": {
    "name": "ipython",
    "version": 3
   },
   "file_extension": ".py",
   "mimetype": "text/x-python",
   "name": "python",
   "nbconvert_exporter": "python",
   "pygments_lexer": "ipython3",
   "version": "3.7.11"
  }
 },
 "nbformat": 4,
 "nbformat_minor": 5
}
