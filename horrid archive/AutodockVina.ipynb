{
 "cells": [
  {
   "cell_type": "code",
   "execution_count": null,
   "id": "d1f28133",
   "metadata": {},
   "outputs": [],
   "source": [
    "import subprocess\n",
    "from vina import Vina\n"
   ]
  },
  {
   "cell_type": "code",
   "execution_count": null,
   "id": "1a30c2c6",
   "metadata": {},
   "outputs": [],
   "source": [
    "class VinaWrapper():\n",
    "    def __init__(self, receptor_path):\n",
    "        self.receptor_path = receptor_path\n",
    "        \n",
    "        \n",
    "    def _generatePDBQT(self,SMILE):\n",
    "        sp = subprocess.Popen(['obabel','-:C-C',\"--gen3d\",\n",
    "                          '-o', \"pdbqt\", '-O', 'PDBQT/Ligands/mol.pdbqt'])\n",
    "        sp.wait()\n",
    "        \n",
    "    def _dock(self, path='PDBQT/Ligands/mol.pdbqt'):\n",
    "        self.v.set_ligand_from_file(path)\n",
    "        self.v.compute_vina_maps(center=[54.797*.375, 71.04*.375, 45.391*.375], box_size=[108*.375, 78*.375, 110*.375])\n",
    "        energy = self.v.score()\n",
    "        energy_minimized = self.v.optimize()\n",
    "        self.v.dock(exhaustiveness=32, n_poses=3)\n",
    "        return (self.v.energies())\n",
    "        \n",
    "    def CalculateEnergies(self,SMILE):\n",
    "        #weighted avergage based on energy\n",
    "        self.v = Vina(sf_name='vina')\n",
    "        self.v.set_receptor('./PDBQT/y220c_av.pdbqt')\n",
    "        self._generatePDBQT(SMILE)\n",
    "        \n",
    "        return sum(self._dock()[:,0])/3\n",
    "        "
   ]
  },
  {
   "cell_type": "code",
   "execution_count": null,
   "id": "cd2e9cd8",
   "metadata": {},
   "outputs": [],
   "source": [
    "# vinaWrapper = VinaWrapper('./PDBQT/y220c_av.pdbqt')\n",
    "# e = vinaWrapper.CalculateEnergies('C-C')\n",
    "# print(e)"
   ]
  },
  {
   "cell_type": "code",
   "execution_count": null,
   "id": "88448c14",
   "metadata": {},
   "outputs": [],
   "source": []
  },
  {
   "cell_type": "code",
   "execution_count": null,
   "id": "312676e7",
   "metadata": {},
   "outputs": [],
   "source": []
  }
 ],
 "metadata": {
  "kernelspec": {
   "display_name": "Python 3 (ipykernel)",
   "language": "python",
   "name": "python3"
  },
  "language_info": {
   "codemirror_mode": {
    "name": "ipython",
    "version": 3
   },
   "file_extension": ".py",
   "mimetype": "text/x-python",
   "name": "python",
   "nbconvert_exporter": "python",
   "pygments_lexer": "ipython3",
   "version": "3.7.11"
  }
 },
 "nbformat": 4,
 "nbformat_minor": 5
}
