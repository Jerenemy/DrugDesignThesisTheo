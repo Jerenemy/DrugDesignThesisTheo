{
 "cells": [
  {
   "cell_type": "code",
   "execution_count": null,
   "id": "5cf7ac56",
   "metadata": {},
   "outputs": [],
   "source": [
    "from gym import Env\n",
    "import gym\n",
    "from gym.spaces import Discrete, Box\n",
    "import numpy as np\n",
    "import deepchem as dc\n",
    "import tensorflow as tf\n",
    "from tensorflow import keras\n",
    "from tensorflow.keras import layers\n",
    "import numpy as np\n",
    "import torch\n",
    "from pysmiles import read_smiles\n",
    "import networkx as nx\n",
    "import dgllife\n",
    "from rdkit import Chem\n",
    "import random\n",
    "import spektral \n",
    "import dgl.nn.pytorch as dglnn\n",
    "import torch.nn as nn\n",
    "import dgl\n",
    "from dgl import DGLGraph\n",
    "from torch.nn.utils.rnn import pad_sequence\n",
    "\n",
    "\n",
    "\n",
    "import dgl.data\n",
    "import torch\n",
    "import torch.nn as nn\n",
    "import torch.nn.functional as F\n",
    "import dgl.function as fn\n",
    "from torch.distributions import Categorical\n",
    "import matplotlib.pyplot as plt\n",
    "\n",
    "from torch.utils.tensorboard import SummaryWriter\n",
    "\n",
    "%run MoleculeGenerator2.ipynb\n",
    "%run Discrim.ipynb\n",
    "%run Rewards.ipynb\n",
    "%run PPO_WITH_TRICKS.ipynb\n",
    "%run ISO_ENV.ipynb\n",
    "%run DiscTraining.ipynb\n"
   ]
  },
  {
   "cell_type": "code",
   "execution_count": null,
   "id": "a5741b7c",
   "metadata": {},
   "outputs": [],
   "source": [
    "max_nodes = 12\n",
    "num_atom_types = 14\n",
    "num_node_feats = 34\n",
    "num_edge_types = 3\n",
    "bond_padding = 12\n",
    "\n",
    "batch_size = 32\n",
    "timesteps_per_batch = 1200\n",
    "max_timesteps_per_episode = 30\n",
    "clip = 0.08\n",
    "a_lr = 1e-4\n",
    "c_lr = 3e-4\n",
    "n_updates_per_iteration = 6\n",
    "gamma = .95\n",
    "\n",
    "\n",
    "\n",
    "synthReward = Synthesizability()\n",
    "sizeReward = SizeReward()\n",
    "writer = SummaryWriter()\n",
    "\n",
    "\n",
    "rewardModel = FinalRewardModule(writer,[synthReward,sizeReward])\n",
    "\n",
    "env = GraphGenEnv(max_nodes,num_atom_types,num_node_feats,num_edge_types,bond_padding,rewardModel)\n",
    "\n",
    "\n",
    "\n",
    "testEnv = PPO_MAIN(env,batch_size,timesteps_per_batch,clip,a_lr,c_lr,n_updates_per_iteration,max_timesteps_per_episode,gamma)\n",
    "\n",
    "\n",
    "\n"
   ]
  },
  {
   "cell_type": "code",
   "execution_count": null,
   "id": "3f73195f",
   "metadata": {},
   "outputs": [],
   "source": [
    "path = '...'\n",
    "in_dim = num_node_feats\n",
    "hidden_dim = 300\n",
    "lr = 3e-4"
   ]
  },
  {
   "cell_type": "code",
   "execution_count": null,
   "id": "a4895e08",
   "metadata": {},
   "outputs": [],
   "source": [
    "discReward = DiscReward(path,in_dim,hidden_dim,lr)\n",
    "\n"
   ]
  },
  {
   "cell_type": "code",
   "execution_count": null,
   "id": "bf1109ec",
   "metadata": {},
   "outputs": [],
   "source": [
    "PPO_agent = testEnv\n",
    "Disc = discReward\n",
    "epochs = 20\n",
    "G_steps = 100\n",
    "D_steps = 100\n",
    "K = 1\n",
    "G_pretrain_steps = 100\n",
    "D_train_size = 256\n",
    "D_batch_size = 32\n",
    "smiles_values = smiles_values\n",
    "rewardModel = FinalRewardModule(writer,[synthReward,sizeReward,discReward])"
   ]
  },
  {
   "cell_type": "code",
   "execution_count": null,
   "id": "a0341703",
   "metadata": {},
   "outputs": [],
   "source": [
    "adversarialTraining = AdversarialTraining(testEnv,discReward,epochs,\n",
    "                                          G_steps, D_steps,K,G_pretrain_steps,\n",
    "                                          D_train_size, D_batch_size, smiles_values)"
   ]
  },
  {
   "cell_type": "code",
   "execution_count": null,
   "id": "72b633c2",
   "metadata": {},
   "outputs": [],
   "source": [
    "adversarialTraining.train(epochs=10)"
   ]
  },
  {
   "cell_type": "code",
   "execution_count": null,
   "id": "014d9fc6",
   "metadata": {},
   "outputs": [],
   "source": [
    "testEnv.learn(100000)"
   ]
  },
  {
   "cell_type": "code",
   "execution_count": null,
   "id": "a06a6211",
   "metadata": {},
   "outputs": [],
   "source": []
  }
 ],
 "metadata": {
  "kernelspec": {
   "display_name": "Python 3",
   "language": "python",
   "name": "python3"
  },
  "language_info": {
   "codemirror_mode": {
    "name": "ipython",
    "version": 3
   },
   "file_extension": ".py",
   "mimetype": "text/x-python",
   "name": "python",
   "nbconvert_exporter": "python",
   "pygments_lexer": "ipython3",
   "version": "3.8.12"
  }
 },
 "nbformat": 4,
 "nbformat_minor": 5
}
