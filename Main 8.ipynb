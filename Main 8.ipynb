{
 "cells": [
  {
   "cell_type": "code",
   "execution_count": 2,
   "id": "5cf7ac56",
   "metadata": {},
   "outputs": [
    {
     "name": "stdout",
     "output_type": "stream",
     "text": [
      "correct env\n",
      "correct env\n"
     ]
    }
   ],
   "source": [
    "\n",
    "import numpy as np\n",
    "#import deepchem as dc\n",
    "import tensorflow as tf\n",
    "from tensorflow import keras\n",
    "from tensorflow.keras import layers\n",
    "import numpy as np\n",
    "import torch\n",
    "from pysmiles import read_smiles\n",
    "import networkx as nx\n",
    "import dgllife\n",
    "from rdkit import Chem\n",
    "import random\n",
    "import dgl.nn.pytorch as dglnn\n",
    "import torch.nn as nn\n",
    "import dgl\n",
    "from dgl import DGLGraph\n",
    "from torch.nn.utils.rnn import pad_sequence\n",
    "from rdkit import Chem\n",
    "from rdkit.Chem.Draw import IPythonConsole\n",
    "from rdkit.Chem import Draw\n",
    "\n",
    "\n",
    "import dgl.data\n",
    "import torch\n",
    "import torch.nn as nn\n",
    "import torch.nn.functional as F\n",
    "import dgl.function as fn\n",
    "from torch.distributions import Categorical\n",
    "import matplotlib.pyplot as plt\n",
    "\n",
    "from torch.utils.tensorboard import SummaryWriter\n",
    "\n",
    "%run MoleculeGenerator2.ipynb\n",
    "%run Discrim.ipynb\n",
    "%run Rewards.ipynb\n",
    "%run PPO_WITH_TRICKS.ipynb\n",
    "%run ISO_ENV.ipynb\n",
    "%run TrainingRegimes.ipynb\n",
    "%run ChemEnv.ipynb\n"
   ]
  },
  {
   "cell_type": "code",
   "execution_count": 14,
   "id": "99fae146",
   "metadata": {},
   "outputs": [],
   "source": [
    "device = torch.device(\"cuda:0\" if torch.cuda.is_available() else \"cpu\")\n"
   ]
  },
  {
   "cell_type": "code",
   "execution_count": 15,
   "id": "7817be72",
   "metadata": {},
   "outputs": [
    {
     "data": {
      "text/plain": [
       "device(type='cuda', index=0)"
      ]
     },
     "execution_count": 15,
     "metadata": {},
     "output_type": "execute_result"
    }
   ],
   "source": [
    "device"
   ]
  },
  {
   "cell_type": "code",
   "execution_count": 3,
   "id": "a5741b7c",
   "metadata": {},
   "outputs": [
    {
     "ename": "TypeError",
     "evalue": "__init__() missing 1 required positional argument: 'writer'",
     "output_type": "error",
     "traceback": [
      "\u001b[0;31m---------------------------------------------------------------------------\u001b[0m",
      "\u001b[0;31mTypeError\u001b[0m                                 Traceback (most recent call last)",
      "\u001b[0;32m/tmp/ipykernel_3004430/864582198.py\u001b[0m in \u001b[0;36m<module>\u001b[0;34m\u001b[0m\n\u001b[1;32m     26\u001b[0m \u001b[0;34m\u001b[0m\u001b[0m\n\u001b[1;32m     27\u001b[0m env = ChemEnv(max_nodes,num_atom_types,num_node_feats,\n\u001b[0;32m---> 28\u001b[0;31m               num_edge_types,bond_padding,rewardModel,mol_to_graph_full)\n\u001b[0m\u001b[1;32m     29\u001b[0m \u001b[0;34m\u001b[0m\u001b[0m\n\u001b[1;32m     30\u001b[0m \u001b[0mtestEnv\u001b[0m \u001b[0;34m=\u001b[0m \u001b[0mPPO_MAIN\u001b[0m\u001b[0;34m(\u001b[0m\u001b[0menv\u001b[0m\u001b[0;34m,\u001b[0m\u001b[0mbatch_size\u001b[0m\u001b[0;34m,\u001b[0m\u001b[0mtimesteps_per_batch\u001b[0m\u001b[0;34m,\u001b[0m\u001b[0mclip\u001b[0m\u001b[0;34m,\u001b[0m\u001b[0ma_lr\u001b[0m\u001b[0;34m,\u001b[0m\u001b[0mc_lr\u001b[0m\u001b[0;34m,\u001b[0m\u001b[0mn_updates_per_iteration\u001b[0m\u001b[0;34m,\u001b[0m\u001b[0mmax_timesteps_per_episode\u001b[0m\u001b[0;34m,\u001b[0m\u001b[0mgamma\u001b[0m\u001b[0;34m)\u001b[0m\u001b[0;34m\u001b[0m\u001b[0;34m\u001b[0m\u001b[0m\n",
      "\u001b[0;31mTypeError\u001b[0m: __init__() missing 1 required positional argument: 'writer'"
     ]
    }
   ],
   "source": [
    "max_nodes = 12\n",
    "num_atom_types = 14\n",
    "num_node_feats = 54\n",
    "num_edge_types = 3\n",
    "bond_padding = 12\n",
    "\n",
    "batch_size = 32\n",
    "timesteps_per_batch = 1200\n",
    "max_timesteps_per_episode = 48\n",
    "clip = 0.08\n",
    "a_lr = 1e-4\n",
    "c_lr = 3e-4\n",
    "n_updates_per_iteration = 6\n",
    "gamma = .95\n",
    "\n",
    "\n",
    "\n",
    "synthReward = Synthesizability()\n",
    "sizeReward = SizeReward()\n",
    "writer = SummaryWriter()\n",
    "\n",
    "\n",
    "rewardModel = FinalRewardModule(writer,[synthReward,sizeReward])\n",
    "\n",
    "# env = GraphGenEnv(max_nodes,num_atom_types,num_node_feats,num_edge_types,bond_padding,rewardModel)\n",
    "\n",
    "env = ChemEnv(max_nodes,num_atom_types,num_node_feats,\n",
    "              num_edge_types,bond_padding,rewardModel,mol_to_graph_full)\n",
    "\n",
    "testEnv = PPO_MAIN(env,batch_size,timesteps_per_batch,clip,a_lr,c_lr,n_updates_per_iteration,max_timesteps_per_episode,gamma)\n",
    "testEnv.to_device(device)\n",
    "\n",
    "\n"
   ]
  },
  {
   "cell_type": "code",
   "execution_count": null,
   "id": "40d46f4a",
   "metadata": {},
   "outputs": [],
   "source": [
    "mol\n",
    "IPythonConsole.Draw.MolDraw2D.DrawMolecule(mol)"
   ]
  },
  {
   "cell_type": "code",
   "execution_count": null,
   "id": "5af0dd41",
   "metadata": {},
   "outputs": [],
   "source": [
    "device = torch.device(\"cuda:0\" if torch.cuda.is_available() else \"cpu\")"
   ]
  },
  {
   "cell_type": "code",
   "execution_count": null,
   "id": "8c387466",
   "metadata": {},
   "outputs": [],
   "source": [
    "path = '...'\n",
    "in_dim = num_node_feats\n",
    "hidden_dim = 300\n",
    "lr = 3e-4"
   ]
  },
  {
   "cell_type": "code",
   "execution_count": null,
   "id": "24147a5a",
   "metadata": {},
   "outputs": [],
   "source": [
    "discReward = DiscReward(path,in_dim,hidden_dim,lr)\n",
    "\n"
   ]
  },
  {
   "cell_type": "code",
   "execution_count": null,
   "id": "d0d19f53",
   "metadata": {},
   "outputs": [],
   "source": [
    "PPO_agent = testEnv\n",
    "Disc = discReward\n",
    "epochs = 20\n",
    "G_steps = 100\n",
    "D_steps = 100\n",
    "K = 1\n",
    "G_pretrain_steps = 100\n",
    "D_train_size = 12\n",
    "D_batch_size = 4\n",
    "smiles_values = smiles_values\n",
    "\n",
    "preRewardModel = FinalRewardModule(writer,[synthReward,sizeReward])\n",
    "rewardModel = FinalRewardModule(writer,[synthReward,sizeReward,discReward])\n",
    "\n",
    "env = GraphGenEnv(max_nodes,num_atom_types,num_node_feats,num_edge_types,bond_padding,rewardModel)\n",
    "\n",
    "testEnv = PPO_MAIN(env,batch_size,timesteps_per_batch,clip,a_lr,c_lr,n_updates_per_iteration,max_timesteps_per_episode,gamma)\n",
    "\n"
   ]
  },
  {
   "cell_type": "code",
   "execution_count": null,
   "id": "d202ec77",
   "metadata": {},
   "outputs": [],
   "source": [
    "adversarialTraining = AdversarialTraining(testEnv,discReward,epochs,\n",
    "                                          G_steps, D_steps,K,G_pretrain_steps,\n",
    "                                          D_train_size, D_batch_size,preRewardModel, smiles_values)"
   ]
  },
  {
   "cell_type": "code",
   "execution_count": null,
   "id": "39c7b8fa",
   "metadata": {},
   "outputs": [],
   "source": [
    "adversarialTraining.train(10)"
   ]
  },
  {
   "cell_type": "code",
   "execution_count": null,
   "id": "014d9fc6",
   "metadata": {},
   "outputs": [],
   "source": [
    "testEnv.learn(100000)"
   ]
  },
  {
   "cell_type": "code",
   "execution_count": null,
   "id": "a06a6211",
   "metadata": {},
   "outputs": [],
   "source": []
  }
 ],
 "metadata": {
  "kernelspec": {
   "display_name": "Python 3 (ipykernel)",
   "language": "python",
   "name": "python3"
  },
  "language_info": {
   "codemirror_mode": {
    "name": "ipython",
    "version": 3
   },
   "file_extension": ".py",
   "mimetype": "text/x-python",
   "name": "python",
   "nbconvert_exporter": "python",
   "pygments_lexer": "ipython3",
   "version": "3.7.11"
  }
 },
 "nbformat": 4,
 "nbformat_minor": 5
}
