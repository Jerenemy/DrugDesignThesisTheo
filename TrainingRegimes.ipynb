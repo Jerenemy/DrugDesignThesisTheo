{
 "cells": [
  {
   "cell_type": "code",
   "execution_count": null,
   "id": "564f5cf6",
   "metadata": {},
   "outputs": [],
   "source": [
    "import copy\n"
   ]
  },
  {
   "cell_type": "code",
   "execution_count": null,
   "id": "6c930cb4",
   "metadata": {
    "scrolled": true
   },
   "outputs": [],
   "source": [
    "if __name__ == '__main__':   \n",
    "    %run Tests.ipynb\n",
    "    %run MoleculeGenerator2.ipynb\n",
    "    %run Discrim.ipynb\n",
    "    %run Rewards.ipynb\n",
    "    %run PPO_WITH_TRICKS.ipynb\n",
    "    %run ChemEnv.ipynb\n",
    "    %run SupervisedPreTraining.ipynb"
   ]
  },
  {
   "cell_type": "code",
   "execution_count": null,
   "id": "b0d10e63",
   "metadata": {},
   "outputs": [],
   "source": [
    "device = torch.device(\"cuda:0\" if torch.cuda.is_available() else \"cpu\")\n"
   ]
  },
  {
   "cell_type": "code",
   "execution_count": null,
   "id": "223d1dce",
   "metadata": {},
   "outputs": [],
   "source": [
    "# wants: a single class for pretraining and rl training\n",
    "#     also want a singler logger for everything\n",
    "#     also should put in cross validation for the supervised portion\n",
    "#     means a logger instance in the init method\n",
    "\n",
    "class SupervisedToReinforcement():\n",
    "    def __init__(self,run_title, rewards_list, chem_env_kwargs, PPO_kwargs, svw_kwargs):\n",
    "        \n",
    "        self.run_title = run_title\n",
    "        self.writer = SummaryWriter(f'./tb_logs/{run_title}/{run_title}_logs')\n",
    "        \n",
    "        self.reward_module =  FinalRewardModule(self.writer,rewards_list)\n",
    "        \n",
    "        chem_env_kwargs['num_chunks'] = train_kwargs['num_chunks']\n",
    "        chem_env_kwargs['RewardModule'] = self.reward_module\n",
    "        chem_env_kwargs['writer'] = self.writer\n",
    "        \n",
    "        self.ChemEnv = ChemEnv(**chem_env_kwargs)\n",
    "        \n",
    "        \n",
    "        input_dim = chem_env_kwargs['num_node_feats']\n",
    "        \n",
    "        #self.policy = Spin2(input_dim,300,chem_env_kwargs['num_atom_types']).cuda()\n",
    "        self.policy = BaseLine(input_dim,800,chem_env_kwargs['num_atom_types']+1).cuda()\n",
    "        self.policy.apply(init_weights_recursive)\n",
    "        \n",
    "        \n",
    "        \n",
    "        svw_kwargs['writer'] = self.writer\n",
    "        svw_kwargs['input_dim'] = input_dim\n",
    "        svw_kwargs['num_atom_types'] = chem_env_kwargs['num_atom_types']\n",
    "        \n",
    "        print(svw_kwargs)\n",
    "        self.svw = Supervised_Trainer(self.policy, **svw_kwargs)\n",
    "        \n",
    "        PPO_kwargs['env'] = self.ChemEnv\n",
    "        PPO_kwargs['actor'] = self.policy\n",
    "        PPO_kwargs['writer'] = self.writer\n",
    "        self.PPO = PPO_MAIN(**PPO_kwargs)\n",
    "        self.PPO.to_device(device)\n",
    "        \n",
    "    \n",
    "    def Train(self,total_epochs, batch_size, epochs_per_chunk, num_chunks, PPO_steps, cv_path):\n",
    "        \n",
    "        self.svw.TrainModel(total_epochs)\n",
    "    \n",
    "#         torch.save({\n",
    "#             'model_state_dict': self.policy.state_dict(),\n",
    "#             'optimizer_state_dict': self.svw.optim.state_dict()\n",
    "#             }, f'./{self.run_title}/SavedModel')\n",
    "        \n",
    "        print(\"fra\")\n",
    "#         self.PPO.learn(PPO_steps)\n",
    "        "
   ]
  },
  {
   "cell_type": "code",
   "execution_count": null,
   "id": "fdc07c83",
   "metadata": {},
   "outputs": [],
   "source": [
    "%run SupervisedPreTraining.ipynb"
   ]
  },
  {
   "cell_type": "code",
   "execution_count": null,
   "id": "4080a881",
   "metadata": {
    "scrolled": true
   },
   "outputs": [],
   "source": [
    "# rewards_list = [SizeSynth_norm()]\n",
    "# rewards_list = [Synthesizability(), SizeReward()]\n",
    "rewards_list = [ Synthesizability()]\n",
    "\n",
    "chem_env_kwargs = {'max_nodes' : 12, \n",
    "                   'num_atom_types' : 17, \n",
    "                   'num_node_feats' : 54,\n",
    "                   'num_edge_types' : 3, \n",
    "                   'bond_padding' : 12, \n",
    "                   'mol_featurizer': mol_to_graph_full, \n",
    "                   'RewardModule' : None, \n",
    "                   'writer' : None}\n",
    "\n",
    "\n",
    "PPO_kwargs = {'env' : None,\n",
    "              'batch_size' : 32,\n",
    "              'timesteps_per_batch' : 1200,\n",
    "              'clip' : 0.08,\n",
    "              'a_lr' : 1e-4,\n",
    "              'c_lr' : 3e-4,\n",
    "              'n_updates_per_iteration' : 6,\n",
    "              'max_timesteps_per_episode' : 40,\n",
    "              'gamma' : .95,\n",
    "              'actor' : None}\n",
    "svw_kwargs = {'batch_size' : 128, 'data_set_size' : 507528}\n",
    "train_kwargs = {'total_epochs' : 15,\n",
    "                'batch_size' : 256,\n",
    "                'epochs_per_chunk' : 1,\n",
    "                'num_chunks' : 0,\n",
    "                'cv_path' : './CrossVal/chunk_11',\n",
    "                'PPO_steps' : 150000}\n",
    "\n",
    "\n",
    "%run ChemEnv.ipynb\n",
    "svtr = SupervisedToReinforcement('test_18',rewards_list,chem_env_kwargs,PPO_kwargs,svw_kwargs)\n",
    "svtr.Train(**train_kwargs)\n",
    "\n"
   ]
  },
  {
   "cell_type": "code",
   "execution_count": null,
   "id": "b546fbfe",
   "metadata": {},
   "outputs": [],
   "source": [
    "Chem.MolFromSmiles('CCCN(CC)C(=O)S')"
   ]
  },
  {
   "cell_type": "code",
   "execution_count": null,
   "id": "8410b764",
   "metadata": {
    "scrolled": true
   },
   "outputs": [],
   "source": [
    "svtr.PPO.inference()"
   ]
  },
  {
   "cell_type": "code",
   "execution_count": null,
   "id": "04fe3267",
   "metadata": {},
   "outputs": [],
   "source": [
    "env = svtr.ChemEnv"
   ]
  },
  {
   "cell_type": "code",
   "execution_count": null,
   "id": "e969e2c0",
   "metadata": {},
   "outputs": [],
   "source": [
    "env.assignMol(Chem.MolFromSmiles('CCC(C)C(=O)O'))\n",
    "print(env.last_action_node)\n",
    "env.StateSpace"
   ]
  },
  {
   "cell_type": "code",
   "execution_count": null,
   "id": "6540957b",
   "metadata": {},
   "outputs": [],
   "source": [
    "env.step(0,verbose=True)\n",
    "env.StateSpace"
   ]
  },
  {
   "cell_type": "code",
   "execution_count": null,
   "id": "995153e7",
   "metadata": {},
   "outputs": [],
   "source": [
    "PPO_kwargs = {'env' : env,\n",
    "              'batch_size' : 32,\n",
    "              'timesteps_per_batch' : 1200,\n",
    "              'clip' : 0.08,\n",
    "              'a_lr' : 1e-4,\n",
    "              'c_lr' : 3e-4,\n",
    "              'n_updates_per_iteration' : 6,\n",
    "              'max_timesteps_per_episode' : 40,\n",
    "              'gamma' : .95,\n",
    "              'actor' : svtr.svw.policy,\n",
    "             'writer': SummaryWriter(f'./tb_logs/3/3_logs')}\n",
    "ppo_test = PPO_MAIN(**PPO_kwargs)\n",
    "ppo_test.inference()\n"
   ]
  },
  {
   "cell_type": "code",
   "execution_count": null,
   "id": "0006e387",
   "metadata": {},
   "outputs": [],
   "source": [
    "Chem.MolFromSmiles('CCC(C(N)=O)N1CC(C)CC1=O')"
   ]
  },
  {
   "cell_type": "code",
   "execution_count": null,
   "id": "06d3df6c",
   "metadata": {},
   "outputs": [],
   "source": [
    "Chem.MolFromSmiles('CCCNC(=O)n1ccnc1C')"
   ]
  },
  {
   "cell_type": "code",
   "execution_count": null,
   "id": "773f53ef",
   "metadata": {},
   "outputs": [],
   "source": [
    "env.assignMol(Chem.MolFromSmiles('C.C'))\n",
    "env.step(19,verbose=True)\n",
    "env.StateSpace"
   ]
  },
  {
   "cell_type": "code",
   "execution_count": null,
   "id": "9c8cd7e5",
   "metadata": {},
   "outputs": [],
   "source": [
    "chem_env_kwargs = {'max_nodes' : 12, \n",
    "                   'num_atom_types' : 17, \n",
    "                   'num_node_feats' : 54,\n",
    "                   'num_edge_types' : 3, \n",
    "                   'bond_padding' : 12, \n",
    "                   'mol_featurizer': mol_to_graph_full, \n",
    "                   'RewardModule' : rewards_list, \n",
    "                   'writer' : SummaryWriter(f'./tb_logs/3/3_logs'),\n",
    "                   'num_chunks': 1}"
   ]
  },
  {
   "cell_type": "code",
   "execution_count": null,
   "id": "5168e008",
   "metadata": {},
   "outputs": [],
   "source": [
    "%run ChemEnv.ipynb"
   ]
  },
  {
   "cell_type": "code",
   "execution_count": null,
   "id": "5866fc64",
   "metadata": {},
   "outputs": [],
   "source": [
    "env = ChemEnv(**chem_env_kwargs)"
   ]
  },
  {
   "cell_type": "code",
   "execution_count": null,
   "id": "343e94a7",
   "metadata": {},
   "outputs": [],
   "source": [
    "env.assignMol(Chem.MolFromSmiles('CCC.N'))"
   ]
  },
  {
   "cell_type": "code",
   "execution_count": null,
   "id": "2e289267",
   "metadata": {},
   "outputs": [],
   "source": [
    "env.step(2, verbose=True)\n",
    "env.StateSpace"
   ]
  },
  {
   "cell_type": "code",
   "execution_count": null,
   "id": "0690fba2",
   "metadata": {},
   "outputs": [],
   "source": [
    "ppo_test = PPO_MAIN(**PPO_kwargs)"
   ]
  },
  {
   "cell_type": "code",
   "execution_count": null,
   "id": "1dd11ae9",
   "metadata": {},
   "outputs": [],
   "source": [
    "svtr.PPO.actor = svtr.policy"
   ]
  },
  {
   "cell_type": "code",
   "execution_count": null,
   "id": "adf751fc",
   "metadata": {},
   "outputs": [],
   "source": [
    "Chem.MolFromSmiles('CCC.N')"
   ]
  },
  {
   "cell_type": "code",
   "execution_count": null,
   "id": "367d72de",
   "metadata": {},
   "outputs": [],
   "source": [
    "ppo_test.inference(True)"
   ]
  },
  {
   "cell_type": "code",
   "execution_count": null,
   "id": "1e3f8761",
   "metadata": {},
   "outputs": [],
   "source": [
    "torch.save({\n",
    "            'model_state_dict': svtr.policy.state_dict(),\n",
    "            'optimizer_state_dict': svtr.svw.optim.state_dict()\n",
    "            }, './test_1/ah')"
   ]
  },
  {
   "cell_type": "code",
   "execution_count": null,
   "id": "9c39ef22",
   "metadata": {},
   "outputs": [],
   "source": [
    "svtr.policy.state_dict()\n",
    "model = Spin2(54,300,17)\n",
    "model.load_state_dict(svtr.policy.state_dict())"
   ]
  },
  {
   "cell_type": "code",
   "execution_count": null,
   "id": "68f60cd9",
   "metadata": {},
   "outputs": [],
   "source": [
    "%run ChemEnv.ipynb\n",
    "svtr = SupervisedToReinforcement('test',rewards_list,chem_env_kwargs,PPO_kwargs)\n",
    "env = svtr.ChemEnv"
   ]
  },
  {
   "cell_type": "code",
   "execution_count": null,
   "id": "13e5a28b",
   "metadata": {},
   "outputs": [],
   "source": [
    "svtr.PPO.inference()"
   ]
  },
  {
   "cell_type": "code",
   "execution_count": null,
   "id": "5850bcde",
   "metadata": {},
   "outputs": [],
   "source": [
    "torch.save(svtr.PPO.actor.state_dict(), './model')"
   ]
  },
  {
   "cell_type": "code",
   "execution_count": null,
   "id": "1647003d",
   "metadata": {},
   "outputs": [],
   "source": [
    "env = svtr.ChemEnv\n",
    "env.reset()\n",
    "env.step(14)\n",
    "env.step(17)\n",
    "env.step(14)\n",
    "env.StateSpace"
   ]
  },
  {
   "cell_type": "code",
   "execution_count": null,
   "id": "02598563",
   "metadata": {},
   "outputs": [],
   "source": [
    "(Chem.MolFromSmiles('NCc1cccc([SH]=O)c1', sanitize = True))\n"
   ]
  },
  {
   "cell_type": "code",
   "execution_count": null,
   "id": "1c6610e8",
   "metadata": {},
   "outputs": [],
   "source": [
    "Chem.MolFromSmiles('Nc1cc2ccc1SSC(S)C2O.c1ccnc1', sanitize = False)"
   ]
  },
  {
   "cell_type": "code",
   "execution_count": null,
   "id": "5478fdcc",
   "metadata": {},
   "outputs": [],
   "source": [
    "\n",
    "\n",
    "env.reset()\n",
    "#env.StateSpace = Chem.RWMol(Chem.MolFromSmiles('Nc1cc2ccc1SSC(S)C2O.c1ccnc1', sanitize = False))\n",
    "#env.step(16)\n",
    "\n",
    "#env.addEdge(1,0)\n",
    "\n",
    "env.addBenzine()\n",
    "env.addEdge(1,0)\n",
    "env.StateSpace\n",
    "env.addPyrrole()\n",
    "env.addEdge(1,11) \n",
    "# env.StateSpace.RemoveAtom(17)\n",
    "# env.StateSpace.RemoveAtom(16)\n",
    "# env.StateSpace.RemoveAtom(15)\n",
    "# env.StateSpace.RemoveAtom(14)\n",
    "# env.StateSpace.RemoveAtom(13)\n",
    "#Chem.SanitizeMol(env.StateSpace)\n",
    "env.StateSpace"
   ]
  },
  {
   "cell_type": "code",
   "execution_count": null,
   "id": "d9826053",
   "metadata": {},
   "outputs": [],
   "source": []
  },
  {
   "cell_type": "code",
   "execution_count": null,
   "id": "470b32e1",
   "metadata": {},
   "outputs": [],
   "source": [
    "for atom in env.StateSpace.GetAtoms():\n",
    "    print(atom.GetDegree(),atom.GetSymbol(),atom.GetIsAromatic())"
   ]
  },
  {
   "cell_type": "code",
   "execution_count": null,
   "id": "d619ae03",
   "metadata": {},
   "outputs": [],
   "source": [
    "t_mol = Chem.RWMol(Chem.MolFromSmiles('FC(CBr)c1ccccc1',sanitize = True))\n",
    "t_mol"
   ]
  },
  {
   "cell_type": "code",
   "execution_count": null,
   "id": "49cac93a",
   "metadata": {},
   "outputs": [],
   "source": [
    "env.reset()\n",
    "env.addBenzine()\n",
    "env.addEdge(2,0)\n",
    "env.StateSpace"
   ]
  },
  {
   "cell_type": "code",
   "execution_count": null,
   "id": "867741f2",
   "metadata": {},
   "outputs": [],
   "source": [
    "t_mol = Chem.RWMol(Chem.MolFromSmiles('FC(CBr)c1ccccc1',sanitize = True))\n",
    "env = svtr.ChemEnv\n",
    "env.reset()\n",
    "env.StateSpace = t_mol\n",
    "# env.StateSpace\n",
    "env.addEdge(2,7)\n",
    "env.StateSpace"
   ]
  },
  {
   "cell_type": "code",
   "execution_count": null,
   "id": "0544075f",
   "metadata": {},
   "outputs": [],
   "source": [
    "env = svtr.ChemEnv\n",
    "env.reset()\n",
    "# env.addPyrrole()\n",
    "env.addBenzine()\n",
    "env.addEdge(1,2)\n",
    "# env.addNode('C')\n",
    "# env.addEdge(2,4)\n",
    "#env.addNode('C')\n",
    "#env.addEdge(1,3)\n",
    "env.StateSpace"
   ]
  },
  {
   "cell_type": "code",
   "execution_count": null,
   "id": "0a18e1fd",
   "metadata": {},
   "outputs": [],
   "source": [
    "mol2 = SanitizeNoKEKU(mol2)"
   ]
  },
  {
   "cell_type": "code",
   "execution_count": null,
   "id": "e096f646",
   "metadata": {},
   "outputs": [],
   "source": [
    "mol2"
   ]
  },
  {
   "cell_type": "code",
   "execution_count": null,
   "id": "d568c294",
   "metadata": {},
   "outputs": [],
   "source": [
    "\n",
    "mol2 = Chem.RWMol(Chem.MolFromSmiles('O=CC(=Bc1ccccc1P)P(Br)c1ccccc1.[NaH]', sanitize = True))\n",
    "mol1 = Chem.RWMol(Chem.MolFromSmiles('CC.c1ccnc1', sanitize = False))\n",
    "mol2.UpdatePropertyCache()\n",
    "#mol2.AddAtom(Chem.Atom('C'))\n",
    "#mol2.AddBond(0,5,Chem.BondType.SINGLE)\n",
    "# print(mol2.NeedsUpdatePropertyCache())\n",
    "# mol2.UpdatePropertyCache()\n",
    "Chem.SanitizeMol(mol2)\n",
    "mol1.AddBond(0,5,Chem.BondType.SINGLE)\n",
    "Chem.SanitizeMol(mol1)\n",
    "mol2"
   ]
  },
  {
   "cell_type": "code",
   "execution_count": null,
   "id": "4b2165e9",
   "metadata": {},
   "outputs": [],
   "source": [
    "for atom in mol2.GetAtoms():\n",
    "    print(atom.GetSymbol(),atom.GetImplicitValence())"
   ]
  },
  {
   "cell_type": "code",
   "execution_count": null,
   "id": "37775bfe",
   "metadata": {},
   "outputs": [],
   "source": [
    "SanitizeNoKEKU(mol2)\n",
    "cycles = list(mol2.GetRingInfo().AtomRings())\n",
    "for cycle in cycles:\n",
    "    for atom_idx in cycle:\n",
    "        bonds = mol2.GetAtomWithIdx(atom_idx).GetBonds()\n",
    "        for bond_x in bonds:\n",
    "            if bond_x.GetBondType() == Chem.BondType.DOUBLE:\n",
    "                print(\"fraraf\")"
   ]
  },
  {
   "cell_type": "code",
   "execution_count": null,
   "id": "6560e98f",
   "metadata": {},
   "outputs": [],
   "source": [
    "for atom in mol2.GetAtoms():\n",
    "    atom.UpdatePropertyCache()\n",
    "    print(atom.GetExplicitValence())"
   ]
  },
  {
   "cell_type": "code",
   "execution_count": null,
   "id": "49321ae0",
   "metadata": {},
   "outputs": [],
   "source": [
    "for bond in atom.GetBonds():\n",
    "    print(bond.GetBondType())"
   ]
  },
  {
   "cell_type": "code",
   "execution_count": null,
   "id": "7e391d2d",
   "metadata": {},
   "outputs": [],
   "source": [
    "#env.reset()\n",
    "env.addPyrrole()"
   ]
  },
  {
   "cell_type": "code",
   "execution_count": null,
   "id": "3f2158ba",
   "metadata": {},
   "outputs": [],
   "source": [
    "env.StateSpace"
   ]
  },
  {
   "cell_type": "code",
   "execution_count": null,
   "id": "72884336",
   "metadata": {},
   "outputs": [],
   "source": [
    "env.step(17)"
   ]
  },
  {
   "cell_type": "code",
   "execution_count": null,
   "id": "adc75da7",
   "metadata": {},
   "outputs": [],
   "source": [
    "mol = Chem.MolFromSmiles('n1cccc1', sanitize = False)\n",
    "mol.UpdatePropertyCache()\n",
    "for bond in mol.GetBonds():\n",
    "    print(bond.GetBondType())"
   ]
  },
  {
   "cell_type": "code",
   "execution_count": null,
   "id": "254afd5d",
   "metadata": {},
   "outputs": [],
   "source": [
    "mol"
   ]
  },
  {
   "cell_type": "code",
   "execution_count": null,
   "id": "e9084c86",
   "metadata": {},
   "outputs": [],
   "source": [
    "Chem.MolFromSmiles('[nH]1cccc1')"
   ]
  },
  {
   "cell_type": "code",
   "execution_count": null,
   "id": "b53c7ed0",
   "metadata": {},
   "outputs": [],
   "source": [
    "def SanitizeNoKEKU(mol):\n",
    "    s_dict = {'SANITIZE_ADJUSTHS': Chem.rdmolops.SanitizeFlags.SANITIZE_ADJUSTHS,\n",
    "    'SANITIZE_ALL': Chem.rdmolops.SanitizeFlags.SANITIZE_ALL, \n",
    "    'SANITIZE_CLEANUP': Chem.rdmolops.SanitizeFlags.SANITIZE_CLEANUP, \n",
    "    'SANITIZE_CLEANUPCHIRALITY': Chem.rdmolops.SanitizeFlags.SANITIZE_CLEANUPCHIRALITY, \n",
    "    'SANITIZE_FINDRADICALS': Chem.rdmolops.SanitizeFlags.SANITIZE_FINDRADICALS, \n",
    "    'SANITIZE_KEKULIZE': Chem.rdmolops.SanitizeFlags.SANITIZE_KEKULIZE, \n",
    "    'SANITIZE_NONE': Chem.rdmolops.SanitizeFlags.SANITIZE_NONE, \n",
    "    'SANITIZE_PROPERTIES': Chem.rdmolops.SanitizeFlags.SANITIZE_PROPERTIES, \n",
    "    'SANITIZE_SETAROMATICITY': Chem.rdmolops.SanitizeFlags.SANITIZE_SETAROMATICITY, \n",
    "    'SANITIZE_SETCONJUGATION': Chem.rdmolops.SanitizeFlags.SANITIZE_SETCONJUGATION, \n",
    "    'SANITIZE_SETHYBRIDIZATION': Chem.rdmolops.SanitizeFlags.SANITIZE_SETHYBRIDIZATION, \n",
    "    'SANITIZE_SYMMRINGS': Chem.rdmolops.SanitizeFlags.SANITIZE_SYMMRINGS}\n",
    "    \n",
    "    #mol = Chem.SanitizeMol(mol,s_dict['SANITIZE_KEKULIZE'])\n",
    "    mol = Chem.SanitizeMol(mol, s_dict['SANITIZE_ADJUSTHS'] | s_dict['SANITIZE_SETAROMATICITY'] | \n",
    "                           s_dict['SANITIZE_CLEANUP'] | s_dict['SANITIZE_CLEANUPCHIRALITY'] | \n",
    "                           s_dict['SANITIZE_FINDRADICALS'] | s_dict['SANITIZE_NONE'] | \n",
    "                           s_dict['SANITIZE_PROPERTIES'] | s_dict['SANITIZE_SETCONJUGATION'] | \n",
    "                           s_dict['SANITIZE_SETHYBRIDIZATION'] | s_dict['SANITIZE_SYMMRINGS'] \n",
    "                          )\n",
    "    return mol"
   ]
  },
  {
   "cell_type": "code",
   "execution_count": null,
   "id": "f3c15796",
   "metadata": {},
   "outputs": [],
   "source": [
    "True | False"
   ]
  },
  {
   "cell_type": "code",
   "execution_count": null,
   "id": "ba7fffff",
   "metadata": {},
   "outputs": [],
   "source": [
    "mol = Chem.RWMol(Chem.MolFromSmiles('CC.c1ccnc1', sanitize = False))\n",
    "#mol.AddBond(8,mol.GetNumAtoms()-1,Chem.BondType.SINGLE)\n",
    "print(SanitizeNoKEKU(mol))\n",
    "print(mol.GetAromaticAtoms().__len__())\n",
    "mol"
   ]
  },
  {
   "cell_type": "code",
   "execution_count": null,
   "id": "bdcfd13f",
   "metadata": {},
   "outputs": [],
   "source": [
    "from rdkit import Chem\n",
    "m = Chem.MolFromSmiles('CN(C)(C)C', sanitize=False)\n",
    "problems = Chem.DetectChemistryProblems(m)\n",
    "print(len(problems))\n",
    "m"
   ]
  },
  {
   "cell_type": "code",
   "execution_count": null,
   "id": "997f30e6",
   "metadata": {},
   "outputs": [],
   "source": [
    "SanitizeNoKEKU(m)"
   ]
  },
  {
   "cell_type": "code",
   "execution_count": null,
   "id": "411456b9",
   "metadata": {},
   "outputs": [],
   "source": [
    "Chem.SanitizeFlags.SANITIZE_ADJUSTHS"
   ]
  },
  {
   "cell_type": "code",
   "execution_count": null,
   "id": "f6697521",
   "metadata": {},
   "outputs": [],
   "source": [
    "print(problems[0].GetType())\n",
    "#print(problems[0].GetAtomIdx())\n",
    "print(problems[0].Message())"
   ]
  },
  {
   "cell_type": "code",
   "execution_count": null,
   "id": "963ebe81",
   "metadata": {},
   "outputs": [],
   "source": [
    "Chem.MolFromSmiles('CN1C=CC=CC1=O')"
   ]
  },
  {
   "cell_type": "code",
   "execution_count": null,
   "id": "c978843b",
   "metadata": {},
   "outputs": [],
   "source": [
    "Chem.MolFromSmiles('CN(C)(C)C', sanitize=False)"
   ]
  },
  {
   "cell_type": "code",
   "execution_count": null,
   "id": "eddb80b3",
   "metadata": {},
   "outputs": [],
   "source": [
    "# wants: a single class for pretraining and rl training\n",
    "#     also want a singler logger for everything\n",
    "#     also should put in cross validation for the supervised portion\n",
    "#     means a logger instance in the init method\n",
    "\n",
    "class SupervisedToReinforcement():\n",
    "    def __init__(self, PPO_env, PPO_Train_Steps, policy_model,rewards, run_title):\n",
    "        \n",
    "        \n",
    "        self.writer = SummaryWriter('./run_title')\n",
    "        self.reward_module =  FinalRewardModule(sef.writer,rewards)\n",
    "        \n",
    "        \n",
    "        self.PPO_env = PPO_env\n",
    "        self.PPO_Train_Steps = PPO_Train_Steps        \n",
    "        self.SV_trainer = Supervised_trainer(policy_model)\n",
    "       \n",
    "    \n",
    "        self.SV_trainer.writer = self.writer\n",
    "        self.PPO_env.env.RewardModule = self.reward_module\n",
    "        self.PPO_env.actor = self.policy_model\n",
    "    \n",
    "    def Train():\n",
    "        sv_trainer.Train(20,16, 1,24)\n",
    "        self.PPO_env.learn(self.PPO_Train_Steps)\n",
    "        "
   ]
  },
  {
   "cell_type": "code",
   "execution_count": null,
   "id": "4341f863",
   "metadata": {},
   "outputs": [],
   "source": [
    "class AdversarialTraining():\n",
    "    def __init__(self, PPO_agent,Disc, epochs, G_steps,\n",
    "                 D_steps, K, G_pretrain_steps, D_train_size,\n",
    "                 D_batch_size,pre_train_env, smiles_values):\n",
    "        \n",
    "        self.PPO_agent = PPO_agent\n",
    "        self.Disc = Disc\n",
    "        \n",
    "        self.epochs = epochs\n",
    "        self.G_steps = G_steps\n",
    "        self.D_steps = D_steps\n",
    "        self.K = K \n",
    "        \n",
    "        self.pre_train_env = pre_train_env\n",
    "        \n",
    "        self.D_batch_size = D_batch_size \n",
    "        self.D_train_size = D_train_size\n",
    "        self.smiles_values = smiles_values\n",
    "        \n",
    "    def mini_batch_reward_train(self, batch_size, num_batch):\n",
    "        for j in range(num_batch):\n",
    "            graphs = self.PPO_agent.generate_graphs(batch_size)\n",
    "            for model in self.reward_models:\n",
    "                model.TrainOnBatch(graphs)\n",
    "            \n",
    "    def _preTrain(self):\n",
    "        \n",
    "        \n",
    "        env,batch_size,timesteps_per_batch,clip,a_lr,c_lr,\n",
    "        n_updates_per_iteration,max_timesteps_per_episode,gamma\n",
    "\n",
    "        \n",
    "        t_dict = vars(self.PPO_agent)\n",
    "        PPO_agent_pre = PPO_MAIN(t_dict['env'],t_dict['batch_size'],t_dict['timesteps_per_batch'],\n",
    "                                 t_dict['clip'],t_dict['a_lr'], t_dict['c_lr'],\n",
    "                                 t_dict['n_updates_per_iteration'],t_dict['max_timesteps_per_episode'],\n",
    "                                 t_dict['gamma'])\n",
    "        \n",
    "        \n",
    "        \n",
    "        PPO_agent_pre.learn(G_pretrain_steps)\n",
    "        self.PPO_agent.assignActor(PPO_agent_pre.actor)\n",
    "        \n",
    "        \n",
    "        \n",
    "    def pull_real_samples(self, g_number):\n",
    "        graphs = smiles_to_graph([self.smiles_values[random.randint(0,len(self.smiles_values))] for _ in range(g_number)])\n",
    "        print(len(graphs), \"graph len\")\n",
    "            \n",
    "        return graphs\n",
    "    def i_hate_python(self):\n",
    "        a = self.PPO_agent.generate_graphs(10)\n",
    "    def train(self, epochs):\n",
    "        self._preTrain()\n",
    "        for epoch in range(epochs):\n",
    "            print('G_train')\n",
    "            self.PPO_agent.learn(G_steps) \n",
    "            \n",
    "            print('D_train')\n",
    "            for d_step in range(self.D_steps):\n",
    "                \n",
    "                x_fake = self.PPO_agent.generate_graphs(self.D_steps)\n",
    "                x_real = self.pull_real_samples(self.D_train_size)\n",
    "                for k_step in range(self.K):\n",
    "                    slices = list(range(0,self.D_train_size,self.D_batch_size)) + [self.D_train_size]\n",
    "                    for idx in range(1,len(slices)):\n",
    "                        slice_= slice(slices[idx-1],slices[idx])\n",
    "                        print(slice_)\n",
    "                        \n",
    "                        \n",
    "                        x_fake_batch = x_fake[slice_]\n",
    "                        if x_fake_batch != []:\n",
    "                            Y_fake_batch = torch.zeros(len(x_fake_batch),1)\n",
    "\n",
    "\n",
    "                            x_real_batch = x_real[slice_]\n",
    "                            Y_real_batch = torch.ones(len(x_real_batch),1)\n",
    "\n",
    "\n",
    "                            self.Disc.train(x_fake_batch, Y_fake_batch)\n",
    "                            self.Disc.train(x_real_batch,Y_real_batch)\n",
    "                        \n",
    "                \n",
    "                \n",
    "            \n",
    "                \n",
    "        "
   ]
  },
  {
   "cell_type": "code",
   "execution_count": null,
   "id": "6f3a83a8",
   "metadata": {},
   "outputs": [],
   "source": []
  }
 ],
 "metadata": {
  "kernelspec": {
   "display_name": "Python 3 (ipykernel)",
   "language": "python",
   "name": "python3"
  },
  "language_info": {
   "codemirror_mode": {
    "name": "ipython",
    "version": 3
   },
   "file_extension": ".py",
   "mimetype": "text/x-python",
   "name": "python",
   "nbconvert_exporter": "python",
   "pygments_lexer": "ipython3",
   "version": "3.7.11"
  }
 },
 "nbformat": 4,
 "nbformat_minor": 5
}
