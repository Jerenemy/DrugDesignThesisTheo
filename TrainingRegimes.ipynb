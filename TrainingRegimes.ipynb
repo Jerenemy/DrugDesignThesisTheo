{
 "cells": [
  {
   "cell_type": "code",
   "execution_count": 1,
   "id": "564f5cf6",
   "metadata": {},
   "outputs": [],
   "source": [
    "import copy\n"
   ]
  },
  {
   "cell_type": "code",
   "execution_count": 393,
   "id": "6c930cb4",
   "metadata": {
    "scrolled": true
   },
   "outputs": [],
   "source": [
    "if __name__ == '__main__':   \n",
    "    %run Tests.ipynb\n",
    "    %run MoleculeGenerator2.ipynb\n",
    "    %run Discrim.ipynb\n",
    "    %run Rewards.ipynb\n",
    "    %run PPO_WITH_TRICKS.ipynb\n",
    "    %run ChemEnv.ipynb\n",
    "    %run SupervisedPreTraining.ipynb"
   ]
  },
  {
   "cell_type": "code",
   "execution_count": 388,
   "id": "b0d10e63",
   "metadata": {},
   "outputs": [],
   "source": [
    "device = torch.device(\"cuda:0\" if torch.cuda.is_available() else \"cpu\")\n"
   ]
  },
  {
   "cell_type": "code",
   "execution_count": 389,
   "id": "223d1dce",
   "metadata": {},
   "outputs": [],
   "source": [
    "# wants: a single class for pretraining and rl training\n",
    "#     also want a singler logger for everything\n",
    "#     also should put in cross validation for the supervised portion\n",
    "#     means a logger instance in the init method\n",
    "\n",
    "class SupervisedToReinforcement():\n",
    "    def __init__(self,run_title, rewards_list, chem_env_kwargs, PPO_kwargs, svw_kwargs):\n",
    "        \n",
    "        self.run_title = run_title\n",
    "        self.writer = SummaryWriter(f'./tb_logs/{run_title}/{run_title}_logs')\n",
    "        \n",
    "        self.reward_module =  FinalRewardModule(self.writer,rewards_list)\n",
    "        \n",
    "        chem_env_kwargs['num_chunks'] = train_kwargs['num_chunks']\n",
    "        chem_env_kwargs['RewardModule'] = self.reward_module\n",
    "        chem_env_kwargs['writer'] = self.writer\n",
    "        \n",
    "        self.ChemEnv = ChemEnv(**chem_env_kwargs)\n",
    "        \n",
    "        \n",
    "        input_dim = chem_env_kwargs['num_node_feats']\n",
    "        \n",
    "        #self.policy = Spin2(input_dim,300,chem_env_kwargs['num_atom_types']).cuda()\n",
    "        self.policy = BaseLine(input_dim,800,chem_env_kwargs['num_atom_types']+1).cuda()\n",
    "        self.policy.apply(init_weights_recursive)\n",
    "        \n",
    "        \n",
    "        \n",
    "        svw_kwargs['writer'] = self.writer\n",
    "        svw_kwargs['input_dim'] = input_dim\n",
    "        svw_kwargs['num_atom_types'] = chem_env_kwargs['num_atom_types']\n",
    "        \n",
    "        print(svw_kwargs)\n",
    "        self.svw = Supervised_Trainer(self.policy, **svw_kwargs)\n",
    "        \n",
    "        PPO_kwargs['env'] = self.ChemEnv\n",
    "        PPO_kwargs['actor'] = self.policy\n",
    "        PPO_kwargs['writer'] = self.writer\n",
    "        self.PPO = PPO_MAIN(**PPO_kwargs)\n",
    "        self.PPO.to_device(device)\n",
    "        \n",
    "    \n",
    "    def Train(self,total_epochs, batch_size, epochs_per_chunk, num_chunks, PPO_steps, cv_path):\n",
    "        \n",
    "        self.svw.TrainModel(total_epochs)\n",
    "    \n",
    "#         torch.save({\n",
    "#             'model_state_dict': self.policy.state_dict(),\n",
    "#             'optimizer_state_dict': self.svw.optim.state_dict()\n",
    "#             }, f'./{self.run_title}/SavedModel')\n",
    "        \n",
    "        print(\"fra\")\n",
    "#         self.PPO.learn(PPO_steps)\n",
    "        "
   ]
  },
  {
   "cell_type": "code",
   "execution_count": 390,
   "id": "fdc07c83",
   "metadata": {},
   "outputs": [],
   "source": [
    "%run SupervisedPreTraining.ipynb"
   ]
  },
  {
   "cell_type": "code",
   "execution_count": 392,
   "id": "4080a881",
   "metadata": {
    "scrolled": true
   },
   "outputs": [
    {
     "name": "stdout",
     "output_type": "stream",
     "text": [
      "{'batch_size': 128, 'data_set_size': 507528, 'writer': <torch.utils.tensorboard.writer.SummaryWriter object at 0x7f18035f9210>, 'input_dim': 54, 'num_atom_types': 17}\n",
      "507528\n",
      "correcto\n",
      "Time for epoch 0 is 511.0425159931183, random accuracy is 0.0234375\n",
      "Time for epoch 1 is 372.5785608291626, random accuracy is 0.5390625\n",
      "Time for epoch 2 is 371.0341217517853, random accuracy is 0.5859375\n",
      "Time for epoch 3 is 370.72069692611694, random accuracy is 0.640625\n",
      "Time for epoch 4 is 367.9514820575714, random accuracy is 0.5390625\n",
      "Time for epoch 5 is 365.5165026187897, random accuracy is 0.4453125\n",
      "Time for epoch 6 is 358.8044502735138, random accuracy is 0.484375\n",
      "Time for epoch 7 is 357.86900663375854, random accuracy is 0.5703125\n",
      "Time for epoch 8 is 360.4918885231018, random accuracy is 0.5859375\n",
      "Time for epoch 9 is 358.5659158229828, random accuracy is 0.609375\n",
      "Time for epoch 10 is 361.24948596954346, random accuracy is 0.5390625\n",
      "Time for epoch 11 is 361.11463260650635, random accuracy is 0.5078125\n",
      "Time for epoch 12 is 358.51489448547363, random accuracy is 0.609375\n",
      "Time for epoch 13 is 356.94875955581665, random accuracy is 0.5625\n",
      "Time for epoch 14 is 362.54542994499207, random accuracy is 0.5546875\n",
      "fra\n"
     ]
    }
   ],
   "source": [
    "# rewards_list = [SizeSynth_norm()]\n",
    "# rewards_list = [Synthesizability(), SizeReward()]\n",
    "rewards_list = [ Synthesizability()]\n",
    "\n",
    "chem_env_kwargs = {'max_nodes' : 12, \n",
    "                   'num_atom_types' : 17, \n",
    "                   'num_node_feats' : 54,\n",
    "                   'num_edge_types' : 3, \n",
    "                   'bond_padding' : 12, \n",
    "                   'mol_featurizer': mol_to_graph_full, \n",
    "                   'RewardModule' : None, \n",
    "                   'writer' : None}\n",
    "\n",
    "\n",
    "PPO_kwargs = {'env' : None,\n",
    "              'batch_size' : 32,\n",
    "              'timesteps_per_batch' : 1200,\n",
    "              'clip' : 0.08,\n",
    "              'a_lr' : 1e-4,\n",
    "              'c_lr' : 3e-4,\n",
    "              'n_updates_per_iteration' : 6,\n",
    "              'max_timesteps_per_episode' : 40,\n",
    "              'gamma' : .95,\n",
    "              'actor' : None}\n",
    "svw_kwargs = {'batch_size' : 128, 'data_set_size' : 507528}\n",
    "train_kwargs = {'total_epochs' : 15,\n",
    "                'batch_size' : 256,\n",
    "                'epochs_per_chunk' : 1,\n",
    "                'num_chunks' : 0,\n",
    "                'cv_path' : './CrossVal/chunk_11',\n",
    "                'PPO_steps' : 150000}\n",
    "\n",
    "\n",
    "%run ChemEnv.ipynb\n",
    "svtr = SupervisedToReinforcement('test_18',rewards_list,chem_env_kwargs,PPO_kwargs,svw_kwargs)\n",
    "svtr.Train(**train_kwargs)\n",
    "\n"
   ]
  },
  {
   "cell_type": "code",
   "execution_count": 376,
   "id": "b546fbfe",
   "metadata": {},
   "outputs": [
    {
     "data": {
      "image/png": "[encoded data removed]",
      "text/plain": [
       "<rdkit.Chem.rdchem.Mol at 0x7f18d41cbe40>"
      ]
     },
     "execution_count": 376,
     "metadata": {},
     "output_type": "execute_result"
    }
   ],
   "source": [
    "Chem.MolFromSmiles('CCCN(CC)C(=O)S')"
   ]
  },
  {
   "cell_type": "code",
   "execution_count": 386,
   "id": "8410b764",
   "metadata": {
    "scrolled": true
   },
   "outputs": [
    {
     "name": "stdout",
     "output_type": "stream",
     "text": [
      "CN1CC2CC1CN2.O\n",
      "[24]\n",
      "[35]\n",
      "[34]\n",
      "[27]\n",
      "[21]\n",
      "[19]\n",
      "[20]\n",
      "[13]\n",
      "[27]\n",
      "[11]\n",
      "[28]\n",
      "[35]\n",
      "[25]\n",
      "[1]\n",
      "[32]\n",
      "[21]\n",
      "[14]\n",
      "[45]\n",
      "[44]\n",
      "[47]\n",
      "[24]\n",
      "[22]\n",
      "[52]\n",
      "[18]\n",
      "[38]\n",
      "[28]\n",
      "[33]\n",
      "[49]\n",
      "[30]\n",
      "[51]\n",
      "[36]\n",
      "[49]\n",
      "[31]\n",
      "[27]\n",
      "[17]\n",
      "[39]\n",
      "[7]\n",
      "[20]\n",
      "[28]\n",
      "[33]\n"
     ]
    },
    {
     "data": {
      "image/png": "[encoded data removed]",
      "text/plain": [
       "<rdkit.Chem.rdchem.RWMol at 0x7f199cec5ab0>"
      ]
     },
     "execution_count": 386,
     "metadata": {},
     "output_type": "execute_result"
    }
   ],
   "source": [
    "svtr.PPO.inference()"
   ]
  },
  {
   "cell_type": "code",
   "execution_count": 385,
   "id": "04fe3267",
   "metadata": {},
   "outputs": [],
   "source": [
    "env = svtr.ChemEnv"
   ]
  },
  {
   "cell_type": "code",
   "execution_count": 345,
   "id": "e969e2c0",
   "metadata": {},
   "outputs": [
    {
     "name": "stdout",
     "output_type": "stream",
     "text": [
      "tensor([[0.]], device='cuda:0')\n"
     ]
    },
    {
     "data": {
      "image/png": "[encoded data removed]",
      "text/plain": [
       "<rdkit.Chem.rdchem.RWMol at 0x7f196035feb0>"
      ]
     },
     "execution_count": 345,
     "metadata": {},
     "output_type": "execute_result"
    }
   ],
   "source": [
    "env.assignMol(Chem.MolFromSmiles('CCC(C)C(=O)O'))\n",
    "print(env.last_action_node)\n",
    "env.StateSpace"
   ]
  },
  {
   "cell_type": "code",
   "execution_count": 310,
   "id": "6540957b",
   "metadata": {},
   "outputs": [
    {
     "name": "stdout",
     "output_type": "stream",
     "text": [
      "terminating \n",
      "\n"
     ]
    },
    {
     "data": {
      "image/png": "[encoded data removed]",
      "text/plain": [
       "<rdkit.Chem.rdchem.RWMol at 0x7f18035d04f0>"
      ]
     },
     "execution_count": 310,
     "metadata": {},
     "output_type": "execute_result"
    }
   ],
   "source": [
    "env.step(0,verbose=True)\n",
    "env.StateSpace"
   ]
  },
  {
   "cell_type": "code",
   "execution_count": 597,
   "id": "995153e7",
   "metadata": {},
   "outputs": [
    {
     "name": "stdout",
     "output_type": "stream",
     "text": [
      "correcto\n",
      "C.CCNC\n",
      "[25]\n",
      "[25]\n",
      "[25]\n",
      "[25]\n",
      "[21]\n",
      "[3]\n",
      "[25]\n",
      "[2]\n",
      "[29]\n",
      "[29]\n",
      "[21]\n",
      "[2]\n",
      "[27]\n",
      "[3]\n",
      "[25]\n",
      "[3]\n",
      "[25]\n",
      "[2]\n",
      "[35]\n",
      "[2]\n",
      "[25]\n",
      "[33]\n",
      "[2]\n",
      "[39]\n",
      "[2]\n",
      "[43]\n",
      "[25]\n",
      "[33]\n",
      "[25]\n",
      "[31]\n",
      "[2]\n",
      "[43]\n",
      "[2]\n",
      "[25]\n",
      "[39]\n",
      "[2]\n",
      "[49]\n",
      "[43]\n",
      "[2]\n",
      "[51]\n"
     ]
    },
    {
     "data": {
      "image/png": "[encoded data removed]",
      "text/plain": [
       "<rdkit.Chem.rdchem.RWMol at 0x7f18382e0770>"
      ]
     },
     "execution_count": 597,
     "metadata": {},
     "output_type": "execute_result"
    }
   ],
   "source": [
    "PPO_kwargs = {'env' : env,\n",
    "              'batch_size' : 32,\n",
    "              'timesteps_per_batch' : 1200,\n",
    "              'clip' : 0.08,\n",
    "              'a_lr' : 1e-4,\n",
    "              'c_lr' : 3e-4,\n",
    "              'n_updates_per_iteration' : 6,\n",
    "              'max_timesteps_per_episode' : 40,\n",
    "              'gamma' : .95,\n",
    "              'actor' : svtr.svw.policy,\n",
    "             'writer': SummaryWriter(f'./tb_logs/3/3_logs')}\n",
    "ppo_test = PPO_MAIN(**PPO_kwargs)\n",
    "ppo_test.inference()\n"
   ]
  },
  {
   "cell_type": "code",
   "execution_count": 580,
   "id": "0006e387",
   "metadata": {},
   "outputs": [
    {
     "data": {
      "image/png": "[encoded data removed]",
      "text/plain": [
       "<rdkit.Chem.rdchem.Mol at 0x7f18c84fc4e0>"
      ]
     },
     "execution_count": 580,
     "metadata": {},
     "output_type": "execute_result"
    }
   ],
   "source": [
    "Chem.MolFromSmiles('CCC(C(N)=O)N1CC(C)CC1=O')"
   ]
  },
  {
   "cell_type": "code",
   "execution_count": 497,
   "id": "06d3df6c",
   "metadata": {},
   "outputs": [
    {
     "data": {
      "image/png": "[encoded data removed]",
      "text/plain": [
       "<rdkit.Chem.rdchem.Mol at 0x7f18c832b490>"
      ]
     },
     "execution_count": 497,
     "metadata": {},
     "output_type": "execute_result"
    }
   ],
   "source": [
    "Chem.MolFromSmiles('CCCNC(=O)n1ccnc1C')"
   ]
  },
  {
   "cell_type": "code",
   "execution_count": 533,
   "id": "773f53ef",
   "metadata": {},
   "outputs": [
    {
     "name": "stdout",
     "output_type": "stream",
     "text": [
      "------attempting to add 1 bond between last atom added and atom 1------ \n",
      "\n"
     ]
    },
    {
     "data": {
      "image/png": "[encoded data removed]",
      "text/plain": [
       "<rdkit.Chem.rdchem.RWMol at 0x7f18382e5af0>"
      ]
     },
     "execution_count": 533,
     "metadata": {},
     "output_type": "execute_result"
    }
   ],
   "source": [
    "env.assignMol(Chem.MolFromSmiles('C.C'))\n",
    "env.step(19,verbose=True)\n",
    "env.StateSpace"
   ]
  },
  {
   "cell_type": "code",
   "execution_count": 265,
   "id": "9c8cd7e5",
   "metadata": {},
   "outputs": [],
   "source": [
    "chem_env_kwargs = {'max_nodes' : 12, \n",
    "                   'num_atom_types' : 17, \n",
    "                   'num_node_feats' : 54,\n",
    "                   'num_edge_types' : 3, \n",
    "                   'bond_padding' : 12, \n",
    "                   'mol_featurizer': mol_to_graph_full, \n",
    "                   'RewardModule' : rewards_list, \n",
    "                   'writer' : SummaryWriter(f'./tb_logs/3/3_logs'),\n",
    "                   'num_chunks': 1}"
   ]
  },
  {
   "cell_type": "code",
   "execution_count": 256,
   "id": "5168e008",
   "metadata": {},
   "outputs": [],
   "source": [
    "%run ChemEnv.ipynb"
   ]
  },
  {
   "cell_type": "code",
   "execution_count": 411,
   "id": "5866fc64",
   "metadata": {},
   "outputs": [],
   "source": [
    "env = ChemEnv(**chem_env_kwargs)"
   ]
  },
  {
   "cell_type": "code",
   "execution_count": 235,
   "id": "343e94a7",
   "metadata": {},
   "outputs": [],
   "source": [
    "env.assignMol(Chem.MolFromSmiles('CCC.N'))"
   ]
  },
  {
   "cell_type": "code",
   "execution_count": 239,
   "id": "2e289267",
   "metadata": {},
   "outputs": [
    {
     "name": "stdout",
     "output_type": "stream",
     "text": [
      "------adding C atom------ \n",
      "\n"
     ]
    },
    {
     "data": {
      "image/png": "[encoded data removed]",
      "text/plain": [
       "<rdkit.Chem.rdchem.RWMol at 0x7f18701551b0>"
      ]
     },
     "execution_count": 239,
     "metadata": {},
     "output_type": "execute_result"
    }
   ],
   "source": [
    "env.step(2, verbose=True)\n",
    "env.StateSpace"
   ]
  },
  {
   "cell_type": "code",
   "execution_count": 267,
   "id": "0690fba2",
   "metadata": {},
   "outputs": [
    {
     "name": "stdout",
     "output_type": "stream",
     "text": [
      "correcto\n"
     ]
    }
   ],
   "source": [
    "ppo_test = PPO_MAIN(**PPO_kwargs)"
   ]
  },
  {
   "cell_type": "code",
   "execution_count": 268,
   "id": "1dd11ae9",
   "metadata": {},
   "outputs": [],
   "source": [
    "svtr.PPO.actor = svtr.policy"
   ]
  },
  {
   "cell_type": "code",
   "execution_count": 269,
   "id": "adf751fc",
   "metadata": {},
   "outputs": [
    {
     "data": {
      "image/png": "[encoded data removed]",
      "text/plain": [
       "<rdkit.Chem.rdchem.Mol at 0x7f18c8704350>"
      ]
     },
     "execution_count": 269,
     "metadata": {},
     "output_type": "execute_result"
    }
   ],
   "source": [
    "Chem.MolFromSmiles('CCC.N')"
   ]
  },
  {
   "cell_type": "code",
   "execution_count": 270,
   "id": "367d72de",
   "metadata": {},
   "outputs": [
    {
     "name": "stdout",
     "output_type": "stream",
     "text": [
      "C.c1ccc2ncccc2c1\n",
      "[29]\n"
     ]
    },
    {
     "ename": "AttributeError",
     "evalue": "'list' object has no attribute 'GiveReward'",
     "output_type": "error",
     "traceback": [
      "\u001b[0;31m---------------------------------------------------------------------------\u001b[0m",
      "\u001b[0;31mAttributeError\u001b[0m                            Traceback (most recent call last)",
      "\u001b[0;32m/tmp/ipykernel_4308/826389278.py\u001b[0m in \u001b[0;36m<module>\u001b[0;34m\u001b[0m\n\u001b[0;32m----> 1\u001b[0;31m \u001b[0mppo_test\u001b[0m\u001b[0;34m.\u001b[0m\u001b[0minference\u001b[0m\u001b[0;34m(\u001b[0m\u001b[0;32mTrue\u001b[0m\u001b[0;34m)\u001b[0m\u001b[0;34m\u001b[0m\u001b[0;34m\u001b[0m\u001b[0m\n\u001b[0m",
      "\u001b[0;32m/tmp/ipykernel_4308/1583320266.py\u001b[0m in \u001b[0;36minference\u001b[0;34m(self, verbose)\u001b[0m\n\u001b[1;32m    224\u001b[0m             \u001b[0maction\u001b[0m\u001b[0;34m,\u001b[0m \u001b[0mlog_prob\u001b[0m \u001b[0;34m=\u001b[0m \u001b[0mself\u001b[0m\u001b[0;34m.\u001b[0m\u001b[0mget_action\u001b[0m\u001b[0;34m(\u001b[0m\u001b[0mobs\u001b[0m\u001b[0;34m)\u001b[0m\u001b[0;34m\u001b[0m\u001b[0;34m\u001b[0m\u001b[0m\n\u001b[1;32m    225\u001b[0m             \u001b[0mprint\u001b[0m\u001b[0;34m(\u001b[0m\u001b[0maction\u001b[0m\u001b[0;34m)\u001b[0m\u001b[0;34m\u001b[0m\u001b[0;34m\u001b[0m\u001b[0m\n\u001b[0;32m--> 226\u001b[0;31m             \u001b[0mobs\u001b[0m\u001b[0;34m,\u001b[0m \u001b[0mrew\u001b[0m\u001b[0;34m,\u001b[0m \u001b[0mdone\u001b[0m\u001b[0;34m,\u001b[0m \u001b[0mreward_dict\u001b[0m  \u001b[0;34m=\u001b[0m \u001b[0mself\u001b[0m\u001b[0;34m.\u001b[0m\u001b[0menv\u001b[0m\u001b[0;34m.\u001b[0m\u001b[0mstep\u001b[0m\u001b[0;34m(\u001b[0m\u001b[0maction\u001b[0m\u001b[0;34m[\u001b[0m\u001b[0;36m0\u001b[0m\u001b[0;34m]\u001b[0m\u001b[0;34m,\u001b[0m\u001b[0mverbose\u001b[0m\u001b[0;34m)\u001b[0m\u001b[0;34m\u001b[0m\u001b[0;34m\u001b[0m\u001b[0m\n\u001b[0m\u001b[1;32m    227\u001b[0m             \u001b[0mreward\u001b[0m \u001b[0;34m+=\u001b[0m \u001b[0mrew\u001b[0m\u001b[0;34m\u001b[0m\u001b[0;34m\u001b[0m\u001b[0m\n\u001b[1;32m    228\u001b[0m             \u001b[0;32mif\u001b[0m \u001b[0mdone\u001b[0m\u001b[0;34m:\u001b[0m\u001b[0;34m\u001b[0m\u001b[0;34m\u001b[0m\u001b[0m\n",
      "\u001b[0;32m/tmp/ipykernel_4308/1038435369.py\u001b[0m in \u001b[0;36mstep\u001b[0;34m(self, action, final_step, verbose)\u001b[0m\n\u001b[1;32m    347\u001b[0m             \u001b[0mself\u001b[0m\u001b[0;34m.\u001b[0m\u001b[0mwriter\u001b[0m\u001b[0;34m.\u001b[0m\u001b[0madd_scalar\u001b[0m\u001b[0;34m(\u001b[0m\u001b[0;34m\"Average Step Reward\"\u001b[0m\u001b[0;34m,\u001b[0m \u001b[0mself\u001b[0m\u001b[0;34m.\u001b[0m\u001b[0mepisode_step_reward\u001b[0m\u001b[0;34m/\u001b[0m\u001b[0mself\u001b[0m\u001b[0;34m.\u001b[0m\u001b[0mepisode_length\u001b[0m\u001b[0;34m,\u001b[0m \u001b[0mself\u001b[0m\u001b[0;34m.\u001b[0m\u001b[0mnum_episodes\u001b[0m\u001b[0;34m)\u001b[0m\u001b[0;34m\u001b[0m\u001b[0;34m\u001b[0m\u001b[0m\n\u001b[1;32m    348\u001b[0m             \u001b[0mself\u001b[0m\u001b[0;34m.\u001b[0m\u001b[0mwriter\u001b[0m\u001b[0;34m.\u001b[0m\u001b[0madd_scalar\u001b[0m\u001b[0;34m(\u001b[0m\u001b[0;34m\"Episode Length\"\u001b[0m\u001b[0;34m,\u001b[0m \u001b[0mself\u001b[0m\u001b[0;34m.\u001b[0m\u001b[0mepisode_length\u001b[0m\u001b[0;34m,\u001b[0m \u001b[0mself\u001b[0m\u001b[0;34m.\u001b[0m\u001b[0mnum_episodes\u001b[0m\u001b[0;34m)\u001b[0m\u001b[0;34m\u001b[0m\u001b[0;34m\u001b[0m\u001b[0m\n\u001b[0;32m--> 349\u001b[0;31m             \u001b[0mmodel_rewards\u001b[0m \u001b[0;34m=\u001b[0m \u001b[0mself\u001b[0m\u001b[0;34m.\u001b[0m\u001b[0mmodelRewards\u001b[0m\u001b[0;34m(\u001b[0m\u001b[0mself\u001b[0m\u001b[0;34m.\u001b[0m\u001b[0mStateSpace\u001b[0m\u001b[0;34m)\u001b[0m\u001b[0;34m\u001b[0m\u001b[0;34m\u001b[0m\u001b[0m\n\u001b[0m\u001b[1;32m    350\u001b[0m             \u001b[0mself\u001b[0m\u001b[0;34m.\u001b[0m\u001b[0mreward\u001b[0m\u001b[0;34m+=\u001b[0m \u001b[0mmodel_rewards\u001b[0m\u001b[0;34m\u001b[0m\u001b[0;34m\u001b[0m\u001b[0m\n\u001b[1;32m    351\u001b[0m             \u001b[0mself\u001b[0m\u001b[0;34m.\u001b[0m\u001b[0mnum_episodes\u001b[0m \u001b[0;34m+=\u001b[0m \u001b[0;36m1\u001b[0m\u001b[0;34m\u001b[0m\u001b[0;34m\u001b[0m\u001b[0m\n",
      "\u001b[0;32m/tmp/ipykernel_4308/1038435369.py\u001b[0m in \u001b[0;36mmodelRewards\u001b[0;34m(self, mol)\u001b[0m\n\u001b[1;32m    273\u001b[0m \u001b[0;34m\u001b[0m\u001b[0m\n\u001b[1;32m    274\u001b[0m     \u001b[0;32mdef\u001b[0m \u001b[0mmodelRewards\u001b[0m\u001b[0;34m(\u001b[0m\u001b[0mself\u001b[0m\u001b[0;34m,\u001b[0m \u001b[0mmol\u001b[0m\u001b[0;34m)\u001b[0m\u001b[0;34m:\u001b[0m\u001b[0;34m\u001b[0m\u001b[0;34m\u001b[0m\u001b[0m\n\u001b[0;32m--> 275\u001b[0;31m         \u001b[0;32mreturn\u001b[0m \u001b[0mself\u001b[0m\u001b[0;34m.\u001b[0m\u001b[0mRewardModule\u001b[0m\u001b[0;34m.\u001b[0m\u001b[0mGiveReward\u001b[0m\u001b[0;34m(\u001b[0m\u001b[0mmol\u001b[0m\u001b[0;34m)\u001b[0m\u001b[0;34m\u001b[0m\u001b[0;34m\u001b[0m\u001b[0m\n\u001b[0m\u001b[1;32m    276\u001b[0m \u001b[0;34m\u001b[0m\u001b[0m\n\u001b[1;32m    277\u001b[0m     \u001b[0;32mdef\u001b[0m \u001b[0mgraphObs\u001b[0m\u001b[0;34m(\u001b[0m\u001b[0mself\u001b[0m\u001b[0;34m)\u001b[0m\u001b[0;34m:\u001b[0m\u001b[0;34m\u001b[0m\u001b[0;34m\u001b[0m\u001b[0m\n",
      "\u001b[0;31mAttributeError\u001b[0m: 'list' object has no attribute 'GiveReward'"
     ]
    }
   ],
   "source": [
    "ppo_test.inference(True)"
   ]
  },
  {
   "cell_type": "code",
   "execution_count": 115,
   "id": "1e3f8761",
   "metadata": {},
   "outputs": [
    {
     "ename": "FileNotFoundError",
     "evalue": "[Errno 2] No such file or directory: './test_1/ah'",
     "output_type": "error",
     "traceback": [
      "\u001b[0;31m---------------------------------------------------------------------------\u001b[0m",
      "\u001b[0;31mFileNotFoundError\u001b[0m                         Traceback (most recent call last)",
      "\u001b[0;32m/tmp/ipykernel_4308/4260031024.py\u001b[0m in \u001b[0;36m<module>\u001b[0;34m\u001b[0m\n\u001b[1;32m      2\u001b[0m             \u001b[0;34m'model_state_dict'\u001b[0m\u001b[0;34m:\u001b[0m \u001b[0msvtr\u001b[0m\u001b[0;34m.\u001b[0m\u001b[0mpolicy\u001b[0m\u001b[0;34m.\u001b[0m\u001b[0mstate_dict\u001b[0m\u001b[0;34m(\u001b[0m\u001b[0;34m)\u001b[0m\u001b[0;34m,\u001b[0m\u001b[0;34m\u001b[0m\u001b[0;34m\u001b[0m\u001b[0m\n\u001b[1;32m      3\u001b[0m             \u001b[0;34m'optimizer_state_dict'\u001b[0m\u001b[0;34m:\u001b[0m \u001b[0msvtr\u001b[0m\u001b[0;34m.\u001b[0m\u001b[0msvw\u001b[0m\u001b[0;34m.\u001b[0m\u001b[0moptim\u001b[0m\u001b[0;34m.\u001b[0m\u001b[0mstate_dict\u001b[0m\u001b[0;34m(\u001b[0m\u001b[0;34m)\u001b[0m\u001b[0;34m\u001b[0m\u001b[0;34m\u001b[0m\u001b[0m\n\u001b[0;32m----> 4\u001b[0;31m             }, './test_1/ah')\n\u001b[0m",
      "\u001b[0;32m~/anaconda3/envs/prawn/lib/python3.7/site-packages/torch/serialization.py\u001b[0m in \u001b[0;36msave\u001b[0;34m(obj, f, pickle_module, pickle_protocol, _use_new_zipfile_serialization)\u001b[0m\n\u001b[1;32m    374\u001b[0m     \u001b[0m_check_dill_version\u001b[0m\u001b[0;34m(\u001b[0m\u001b[0mpickle_module\u001b[0m\u001b[0;34m)\u001b[0m\u001b[0;34m\u001b[0m\u001b[0;34m\u001b[0m\u001b[0m\n\u001b[1;32m    375\u001b[0m \u001b[0;34m\u001b[0m\u001b[0m\n\u001b[0;32m--> 376\u001b[0;31m     \u001b[0;32mwith\u001b[0m \u001b[0m_open_file_like\u001b[0m\u001b[0;34m(\u001b[0m\u001b[0mf\u001b[0m\u001b[0;34m,\u001b[0m \u001b[0;34m'wb'\u001b[0m\u001b[0;34m)\u001b[0m \u001b[0;32mas\u001b[0m \u001b[0mopened_file\u001b[0m\u001b[0;34m:\u001b[0m\u001b[0;34m\u001b[0m\u001b[0;34m\u001b[0m\u001b[0m\n\u001b[0m\u001b[1;32m    377\u001b[0m         \u001b[0;32mif\u001b[0m \u001b[0m_use_new_zipfile_serialization\u001b[0m\u001b[0;34m:\u001b[0m\u001b[0;34m\u001b[0m\u001b[0;34m\u001b[0m\u001b[0m\n\u001b[1;32m    378\u001b[0m             \u001b[0;32mwith\u001b[0m \u001b[0m_open_zipfile_writer\u001b[0m\u001b[0;34m(\u001b[0m\u001b[0mopened_file\u001b[0m\u001b[0;34m)\u001b[0m \u001b[0;32mas\u001b[0m \u001b[0mopened_zipfile\u001b[0m\u001b[0;34m:\u001b[0m\u001b[0;34m\u001b[0m\u001b[0;34m\u001b[0m\u001b[0m\n",
      "\u001b[0;32m~/anaconda3/envs/prawn/lib/python3.7/site-packages/torch/serialization.py\u001b[0m in \u001b[0;36m_open_file_like\u001b[0;34m(name_or_buffer, mode)\u001b[0m\n\u001b[1;32m    228\u001b[0m \u001b[0;32mdef\u001b[0m \u001b[0m_open_file_like\u001b[0m\u001b[0;34m(\u001b[0m\u001b[0mname_or_buffer\u001b[0m\u001b[0;34m,\u001b[0m \u001b[0mmode\u001b[0m\u001b[0;34m)\u001b[0m\u001b[0;34m:\u001b[0m\u001b[0;34m\u001b[0m\u001b[0;34m\u001b[0m\u001b[0m\n\u001b[1;32m    229\u001b[0m     \u001b[0;32mif\u001b[0m \u001b[0m_is_path\u001b[0m\u001b[0;34m(\u001b[0m\u001b[0mname_or_buffer\u001b[0m\u001b[0;34m)\u001b[0m\u001b[0;34m:\u001b[0m\u001b[0;34m\u001b[0m\u001b[0;34m\u001b[0m\u001b[0m\n\u001b[0;32m--> 230\u001b[0;31m         \u001b[0;32mreturn\u001b[0m \u001b[0m_open_file\u001b[0m\u001b[0;34m(\u001b[0m\u001b[0mname_or_buffer\u001b[0m\u001b[0;34m,\u001b[0m \u001b[0mmode\u001b[0m\u001b[0;34m)\u001b[0m\u001b[0;34m\u001b[0m\u001b[0;34m\u001b[0m\u001b[0m\n\u001b[0m\u001b[1;32m    231\u001b[0m     \u001b[0;32melse\u001b[0m\u001b[0;34m:\u001b[0m\u001b[0;34m\u001b[0m\u001b[0;34m\u001b[0m\u001b[0m\n\u001b[1;32m    232\u001b[0m         \u001b[0;32mif\u001b[0m \u001b[0;34m'w'\u001b[0m \u001b[0;32min\u001b[0m \u001b[0mmode\u001b[0m\u001b[0;34m:\u001b[0m\u001b[0;34m\u001b[0m\u001b[0;34m\u001b[0m\u001b[0m\n",
      "\u001b[0;32m~/anaconda3/envs/prawn/lib/python3.7/site-packages/torch/serialization.py\u001b[0m in \u001b[0;36m__init__\u001b[0;34m(self, name, mode)\u001b[0m\n\u001b[1;32m    209\u001b[0m \u001b[0;32mclass\u001b[0m \u001b[0m_open_file\u001b[0m\u001b[0;34m(\u001b[0m\u001b[0m_opener\u001b[0m\u001b[0;34m)\u001b[0m\u001b[0;34m:\u001b[0m\u001b[0;34m\u001b[0m\u001b[0;34m\u001b[0m\u001b[0m\n\u001b[1;32m    210\u001b[0m     \u001b[0;32mdef\u001b[0m \u001b[0m__init__\u001b[0m\u001b[0;34m(\u001b[0m\u001b[0mself\u001b[0m\u001b[0;34m,\u001b[0m \u001b[0mname\u001b[0m\u001b[0;34m,\u001b[0m \u001b[0mmode\u001b[0m\u001b[0;34m)\u001b[0m\u001b[0;34m:\u001b[0m\u001b[0;34m\u001b[0m\u001b[0;34m\u001b[0m\u001b[0m\n\u001b[0;32m--> 211\u001b[0;31m         \u001b[0msuper\u001b[0m\u001b[0;34m(\u001b[0m\u001b[0m_open_file\u001b[0m\u001b[0;34m,\u001b[0m \u001b[0mself\u001b[0m\u001b[0;34m)\u001b[0m\u001b[0;34m.\u001b[0m\u001b[0m__init__\u001b[0m\u001b[0;34m(\u001b[0m\u001b[0mopen\u001b[0m\u001b[0;34m(\u001b[0m\u001b[0mname\u001b[0m\u001b[0;34m,\u001b[0m \u001b[0mmode\u001b[0m\u001b[0;34m)\u001b[0m\u001b[0;34m)\u001b[0m\u001b[0;34m\u001b[0m\u001b[0;34m\u001b[0m\u001b[0m\n\u001b[0m\u001b[1;32m    212\u001b[0m \u001b[0;34m\u001b[0m\u001b[0m\n\u001b[1;32m    213\u001b[0m     \u001b[0;32mdef\u001b[0m \u001b[0m__exit__\u001b[0m\u001b[0;34m(\u001b[0m\u001b[0mself\u001b[0m\u001b[0;34m,\u001b[0m \u001b[0;34m*\u001b[0m\u001b[0margs\u001b[0m\u001b[0;34m)\u001b[0m\u001b[0;34m:\u001b[0m\u001b[0;34m\u001b[0m\u001b[0;34m\u001b[0m\u001b[0m\n",
      "\u001b[0;31mFileNotFoundError\u001b[0m: [Errno 2] No such file or directory: './test_1/ah'"
     ]
    }
   ],
   "source": [
    "torch.save({\n",
    "            'model_state_dict': svtr.policy.state_dict(),\n",
    "            'optimizer_state_dict': svtr.svw.optim.state_dict()\n",
    "            }, './test_1/ah')"
   ]
  },
  {
   "cell_type": "code",
   "execution_count": null,
   "id": "9c39ef22",
   "metadata": {},
   "outputs": [],
   "source": [
    "svtr.policy.state_dict()\n",
    "model = Spin2(54,300,17)\n",
    "model.load_state_dict(svtr.policy.state_dict())"
   ]
  },
  {
   "cell_type": "code",
   "execution_count": null,
   "id": "68f60cd9",
   "metadata": {},
   "outputs": [],
   "source": [
    "%run ChemEnv.ipynb\n",
    "svtr = SupervisedToReinforcement('test',rewards_list,chem_env_kwargs,PPO_kwargs)\n",
    "env = svtr.ChemEnv"
   ]
  },
  {
   "cell_type": "code",
   "execution_count": null,
   "id": "13e5a28b",
   "metadata": {},
   "outputs": [],
   "source": [
    "svtr.PPO.inference()"
   ]
  },
  {
   "cell_type": "code",
   "execution_count": 128,
   "id": "5850bcde",
   "metadata": {},
   "outputs": [],
   "source": [
    "torch.save(svtr.PPO.actor.state_dict(), './model')"
   ]
  },
  {
   "cell_type": "code",
   "execution_count": null,
   "id": "1647003d",
   "metadata": {},
   "outputs": [],
   "source": [
    "env = svtr.ChemEnv\n",
    "env.reset()\n",
    "env.step(14)\n",
    "env.step(17)\n",
    "env.step(14)\n",
    "env.StateSpace"
   ]
  },
  {
   "cell_type": "code",
   "execution_count": 66,
   "id": "02598563",
   "metadata": {},
   "outputs": [
    {
     "data": {
      "image/png": "[encoded data removed]",
      "text/plain": [
       "<rdkit.Chem.rdchem.Mol at 0x7f8b80c918f0>"
      ]
     },
     "execution_count": 66,
     "metadata": {},
     "output_type": "execute_result"
    }
   ],
   "source": [
    "(Chem.MolFromSmiles('NCc1cccc([SH]=O)c1', sanitize = True))\n"
   ]
  },
  {
   "cell_type": "code",
   "execution_count": 980,
   "id": "1c6610e8",
   "metadata": {},
   "outputs": [
    {
     "data": {
      "image/png": "[encoded data removed]",
      "text/plain": [
       "<rdkit.Chem.rdchem.Mol at 0x7f6b661a9080>"
      ]
     },
     "execution_count": 980,
     "metadata": {},
     "output_type": "execute_result"
    }
   ],
   "source": [
    "Chem.MolFromSmiles('Nc1cc2ccc1SSC(S)C2O.c1ccnc1', sanitize = False)"
   ]
  },
  {
   "cell_type": "code",
   "execution_count": 962,
   "id": "5478fdcc",
   "metadata": {},
   "outputs": [
    {
     "data": {
      "image/png": "[encoded data removed]",
      "text/plain": [
       "<rdkit.Chem.rdchem.RWMol at 0x7f6b6e192970>"
      ]
     },
     "execution_count": 962,
     "metadata": {},
     "output_type": "execute_result"
    }
   ],
   "source": [
    "\n",
    "\n",
    "env.reset()\n",
    "#env.StateSpace = Chem.RWMol(Chem.MolFromSmiles('Nc1cc2ccc1SSC(S)C2O.c1ccnc1', sanitize = False))\n",
    "#env.step(16)\n",
    "\n",
    "#env.addEdge(1,0)\n",
    "\n",
    "env.addBenzine()\n",
    "env.addEdge(1,0)\n",
    "env.StateSpace\n",
    "env.addPyrrole()\n",
    "env.addEdge(1,11) \n",
    "# env.StateSpace.RemoveAtom(17)\n",
    "# env.StateSpace.RemoveAtom(16)\n",
    "# env.StateSpace.RemoveAtom(15)\n",
    "# env.StateSpace.RemoveAtom(14)\n",
    "# env.StateSpace.RemoveAtom(13)\n",
    "#Chem.SanitizeMol(env.StateSpace)\n",
    "env.StateSpace"
   ]
  },
  {
   "cell_type": "code",
   "execution_count": null,
   "id": "d9826053",
   "metadata": {},
   "outputs": [],
   "source": []
  },
  {
   "cell_type": "code",
   "execution_count": 822,
   "id": "470b32e1",
   "metadata": {},
   "outputs": [
    {
     "name": "stdout",
     "output_type": "stream",
     "text": [
      "1 C False\n",
      "1 C False\n",
      "2 C True\n",
      "2 C True\n",
      "2 C True\n",
      "2 C True\n",
      "2 N True\n"
     ]
    }
   ],
   "source": [
    "for atom in env.StateSpace.GetAtoms():\n",
    "    print(atom.GetDegree(),atom.GetSymbol(),atom.GetIsAromatic())"
   ]
  },
  {
   "cell_type": "code",
   "execution_count": 731,
   "id": "d619ae03",
   "metadata": {},
   "outputs": [
    {
     "data": {
      "image/png": "[encoded data removed]",
      "text/plain": [
       "<rdkit.Chem.rdchem.RWMol at 0x7f6b00965330>"
      ]
     },
     "execution_count": 731,
     "metadata": {},
     "output_type": "execute_result"
    }
   ],
   "source": [
    "t_mol = Chem.RWMol(Chem.MolFromSmiles('FC(CBr)c1ccccc1',sanitize = True))\n",
    "t_mol"
   ]
  },
  {
   "cell_type": "code",
   "execution_count": 737,
   "id": "49cac93a",
   "metadata": {},
   "outputs": [
    {
     "data": {
      "image/png": "[encoded data removed]",
      "text/plain": [
       "<rdkit.Chem.rdchem.RWMol at 0x7f6b60188bf0>"
      ]
     },
     "execution_count": 737,
     "metadata": {},
     "output_type": "execute_result"
    }
   ],
   "source": [
    "env.reset()\n",
    "env.addBenzine()\n",
    "env.addEdge(2,0)\n",
    "env.StateSpace"
   ]
  },
  {
   "cell_type": "code",
   "execution_count": 735,
   "id": "867741f2",
   "metadata": {},
   "outputs": [
    {
     "data": {
      "image/png": "[encoded data removed]",
      "text/plain": [
       "<rdkit.Chem.rdchem.RWMol at 0x7f6ae04a7030>"
      ]
     },
     "execution_count": 735,
     "metadata": {},
     "output_type": "execute_result"
    }
   ],
   "source": [
    "t_mol = Chem.RWMol(Chem.MolFromSmiles('FC(CBr)c1ccccc1',sanitize = True))\n",
    "env = svtr.ChemEnv\n",
    "env.reset()\n",
    "env.StateSpace = t_mol\n",
    "# env.StateSpace\n",
    "env.addEdge(2,7)\n",
    "env.StateSpace"
   ]
  },
  {
   "cell_type": "code",
   "execution_count": 651,
   "id": "0544075f",
   "metadata": {},
   "outputs": [
    {
     "data": {
      "image/png": "[encoded data removed]",
      "text/plain": [
       "<rdkit.Chem.rdchem.RWMol at 0x7f6af8c60bb0>"
      ]
     },
     "execution_count": 651,
     "metadata": {},
     "output_type": "execute_result"
    }
   ],
   "source": [
    "env = svtr.ChemEnv\n",
    "env.reset()\n",
    "# env.addPyrrole()\n",
    "env.addBenzine()\n",
    "env.addEdge(1,2)\n",
    "# env.addNode('C')\n",
    "# env.addEdge(2,4)\n",
    "#env.addNode('C')\n",
    "#env.addEdge(1,3)\n",
    "env.StateSpace"
   ]
  },
  {
   "cell_type": "code",
   "execution_count": 609,
   "id": "0a18e1fd",
   "metadata": {},
   "outputs": [],
   "source": [
    "mol2 = SanitizeNoKEKU(mol2)"
   ]
  },
  {
   "cell_type": "code",
   "execution_count": 610,
   "id": "e096f646",
   "metadata": {},
   "outputs": [
    {
     "data": {
      "text/plain": [
       "rdkit.Chem.rdmolops.SanitizeFlags.SANITIZE_NONE"
      ]
     },
     "execution_count": 610,
     "metadata": {},
     "output_type": "execute_result"
    }
   ],
   "source": [
    "mol2"
   ]
  },
  {
   "cell_type": "code",
   "execution_count": 625,
   "id": "d568c294",
   "metadata": {},
   "outputs": [
    {
     "data": {
      "image/png": "[encoded data removed]",
      "text/plain": [
       "<rdkit.Chem.rdchem.RWMol at 0x7f6af9ff8e70>"
      ]
     },
     "execution_count": 625,
     "metadata": {},
     "output_type": "execute_result"
    }
   ],
   "source": [
    "\n",
    "mol2 = Chem.RWMol(Chem.MolFromSmiles('O=CC(=Bc1ccccc1P)P(Br)c1ccccc1.[NaH]', sanitize = True))\n",
    "mol1 = Chem.RWMol(Chem.MolFromSmiles('CC.c1ccnc1', sanitize = False))\n",
    "mol2.UpdatePropertyCache()\n",
    "#mol2.AddAtom(Chem.Atom('C'))\n",
    "#mol2.AddBond(0,5,Chem.BondType.SINGLE)\n",
    "# print(mol2.NeedsUpdatePropertyCache())\n",
    "# mol2.UpdatePropertyCache()\n",
    "Chem.SanitizeMol(mol2)\n",
    "mol1.AddBond(0,5,Chem.BondType.SINGLE)\n",
    "Chem.SanitizeMol(mol1)\n",
    "mol2"
   ]
  },
  {
   "cell_type": "code",
   "execution_count": 469,
   "id": "4b2165e9",
   "metadata": {},
   "outputs": [
    {
     "name": "stdout",
     "output_type": "stream",
     "text": [
      "N 0\n",
      "C 1\n",
      "C 1\n",
      "C 1\n",
      "C 1\n"
     ]
    }
   ],
   "source": [
    "for atom in mol2.GetAtoms():\n",
    "    print(atom.GetSymbol(),atom.GetImplicitValence())"
   ]
  },
  {
   "cell_type": "code",
   "execution_count": 390,
   "id": "37775bfe",
   "metadata": {},
   "outputs": [
    {
     "name": "stdout",
     "output_type": "stream",
     "text": [
      "fraraf\n",
      "fraraf\n",
      "fraraf\n"
     ]
    }
   ],
   "source": [
    "SanitizeNoKEKU(mol2)\n",
    "cycles = list(mol2.GetRingInfo().AtomRings())\n",
    "for cycle in cycles:\n",
    "    for atom_idx in cycle:\n",
    "        bonds = mol2.GetAtomWithIdx(atom_idx).GetBonds()\n",
    "        for bond_x in bonds:\n",
    "            if bond_x.GetBondType() == Chem.BondType.DOUBLE:\n",
    "                print(\"fraraf\")"
   ]
  },
  {
   "cell_type": "code",
   "execution_count": 343,
   "id": "6560e98f",
   "metadata": {},
   "outputs": [
    {
     "name": "stdout",
     "output_type": "stream",
     "text": [
      "1\n",
      "4\n",
      "2\n",
      "4\n",
      "3\n",
      "3\n",
      "4\n",
      "4\n",
      "1\n",
      "3\n",
      "4\n",
      "1\n"
     ]
    }
   ],
   "source": [
    "for atom in mol2.GetAtoms():\n",
    "    atom.UpdatePropertyCache()\n",
    "    print(atom.GetExplicitValence())"
   ]
  },
  {
   "cell_type": "code",
   "execution_count": 303,
   "id": "49321ae0",
   "metadata": {},
   "outputs": [
    {
     "name": "stdout",
     "output_type": "stream",
     "text": [
      "AROMATIC\n",
      "AROMATIC\n"
     ]
    }
   ],
   "source": [
    "for bond in atom.GetBonds():\n",
    "    print(bond.GetBondType())"
   ]
  },
  {
   "cell_type": "code",
   "execution_count": 271,
   "id": "7e391d2d",
   "metadata": {},
   "outputs": [],
   "source": [
    "#env.reset()\n",
    "env.addPyrrole()"
   ]
  },
  {
   "cell_type": "code",
   "execution_count": 274,
   "id": "3f2158ba",
   "metadata": {},
   "outputs": [
    {
     "data": {
      "image/png": "[encoded data removed]",
      "text/plain": [
       "<rdkit.Chem.rdchem.RWMol at 0x7f6b662d0930>"
      ]
     },
     "execution_count": 274,
     "metadata": {},
     "output_type": "execute_result"
    }
   ],
   "source": [
    "env.StateSpace"
   ]
  },
  {
   "cell_type": "code",
   "execution_count": 273,
   "id": "72884336",
   "metadata": {},
   "outputs": [
    {
     "name": "stdout",
     "output_type": "stream",
     "text": [
      "17\n",
      "frafraprafp\n",
      "CCn1cccc1\n"
     ]
    },
    {
     "data": {
      "text/plain": [
       "((Graph(num_nodes=7, num_edges=21,\n",
       "        ndata_schemes={'atomic': Scheme(shape=(54,), dtype=torch.float32)}\n",
       "        edata_schemes={'type': Scheme(shape=(1,), dtype=torch.float32)}),\n",
       "  tensor([[0.]]),\n",
       "  tensor([[1.0000, 0.0000, 0.0000, 0.0000, 0.0000, 0.0000, 0.0000, 0.0000, 0.0000,\n",
       "           0.0000, 0.0000, 0.0000, 0.0000, 0.0000, 0.0000, 0.0000, 0.0000, 0.0000,\n",
       "           0.0000, 0.0000, 1.0000, 0.0000, 0.0000, 0.0000, 0.0000, 0.0000, 1.0000,\n",
       "           0.0000, 0.0000, 0.0000, 0.0000, 0.0000, 0.0000, 0.0000, 0.0000, 1.0000,\n",
       "           0.0000, 0.0000, 0.0000, 1.0000, 0.0000, 0.0000, 1.0000, 0.0000, 0.0000,\n",
       "           0.0000, 1.0000, 0.0000, 0.0000, 0.0000, 0.0000, 0.0000, 0.0000, 0.1103]],\n",
       "         device='cuda:0')),\n",
       " 0.1,\n",
       " False,\n",
       " {'model_reward': 0, 'property_reward': 0, 'step_reward': 0.1})"
      ]
     },
     "execution_count": 273,
     "metadata": {},
     "output_type": "execute_result"
    }
   ],
   "source": [
    "env.step(17)"
   ]
  },
  {
   "cell_type": "code",
   "execution_count": 185,
   "id": "adc75da7",
   "metadata": {},
   "outputs": [
    {
     "name": "stdout",
     "output_type": "stream",
     "text": [
      "AROMATIC\n",
      "AROMATIC\n",
      "AROMATIC\n",
      "AROMATIC\n",
      "AROMATIC\n"
     ]
    }
   ],
   "source": [
    "mol = Chem.MolFromSmiles('n1cccc1', sanitize = False)\n",
    "mol.UpdatePropertyCache()\n",
    "for bond in mol.GetBonds():\n",
    "    print(bond.GetBondType())"
   ]
  },
  {
   "cell_type": "code",
   "execution_count": 186,
   "id": "254afd5d",
   "metadata": {},
   "outputs": [
    {
     "data": {
      "image/png": "[encoded data removed]",
      "text/plain": [
       "<rdkit.Chem.rdchem.Mol at 0x7f6ae07c6b20>"
      ]
     },
     "execution_count": 186,
     "metadata": {},
     "output_type": "execute_result"
    }
   ],
   "source": [
    "mol"
   ]
  },
  {
   "cell_type": "code",
   "execution_count": 175,
   "id": "e9084c86",
   "metadata": {},
   "outputs": [
    {
     "data": {
      "image/png": "[encoded data removed]",
      "text/plain": [
       "<rdkit.Chem.rdchem.Mol at 0x7f6af0091170>"
      ]
     },
     "execution_count": 175,
     "metadata": {},
     "output_type": "execute_result"
    }
   ],
   "source": [
    "Chem.MolFromSmiles('[nH]1cccc1')"
   ]
  },
  {
   "cell_type": "code",
   "execution_count": 161,
   "id": "b53c7ed0",
   "metadata": {},
   "outputs": [],
   "source": [
    "def SanitizeNoKEKU(mol):\n",
    "    s_dict = {'SANITIZE_ADJUSTHS': Chem.rdmolops.SanitizeFlags.SANITIZE_ADJUSTHS,\n",
    "    'SANITIZE_ALL': Chem.rdmolops.SanitizeFlags.SANITIZE_ALL, \n",
    "    'SANITIZE_CLEANUP': Chem.rdmolops.SanitizeFlags.SANITIZE_CLEANUP, \n",
    "    'SANITIZE_CLEANUPCHIRALITY': Chem.rdmolops.SanitizeFlags.SANITIZE_CLEANUPCHIRALITY, \n",
    "    'SANITIZE_FINDRADICALS': Chem.rdmolops.SanitizeFlags.SANITIZE_FINDRADICALS, \n",
    "    'SANITIZE_KEKULIZE': Chem.rdmolops.SanitizeFlags.SANITIZE_KEKULIZE, \n",
    "    'SANITIZE_NONE': Chem.rdmolops.SanitizeFlags.SANITIZE_NONE, \n",
    "    'SANITIZE_PROPERTIES': Chem.rdmolops.SanitizeFlags.SANITIZE_PROPERTIES, \n",
    "    'SANITIZE_SETAROMATICITY': Chem.rdmolops.SanitizeFlags.SANITIZE_SETAROMATICITY, \n",
    "    'SANITIZE_SETCONJUGATION': Chem.rdmolops.SanitizeFlags.SANITIZE_SETCONJUGATION, \n",
    "    'SANITIZE_SETHYBRIDIZATION': Chem.rdmolops.SanitizeFlags.SANITIZE_SETHYBRIDIZATION, \n",
    "    'SANITIZE_SYMMRINGS': Chem.rdmolops.SanitizeFlags.SANITIZE_SYMMRINGS}\n",
    "    \n",
    "    #mol = Chem.SanitizeMol(mol,s_dict['SANITIZE_KEKULIZE'])\n",
    "    mol = Chem.SanitizeMol(mol, s_dict['SANITIZE_ADJUSTHS'] | s_dict['SANITIZE_SETAROMATICITY'] | \n",
    "                           s_dict['SANITIZE_CLEANUP'] | s_dict['SANITIZE_CLEANUPCHIRALITY'] | \n",
    "                           s_dict['SANITIZE_FINDRADICALS'] | s_dict['SANITIZE_NONE'] | \n",
    "                           s_dict['SANITIZE_PROPERTIES'] | s_dict['SANITIZE_SETCONJUGATION'] | \n",
    "                           s_dict['SANITIZE_SETHYBRIDIZATION'] | s_dict['SANITIZE_SYMMRINGS'] \n",
    "                          )\n",
    "    return mol"
   ]
  },
  {
   "cell_type": "code",
   "execution_count": 143,
   "id": "f3c15796",
   "metadata": {},
   "outputs": [
    {
     "data": {
      "text/plain": [
       "True"
      ]
     },
     "execution_count": 143,
     "metadata": {},
     "output_type": "execute_result"
    }
   ],
   "source": [
    "True | False"
   ]
  },
  {
   "cell_type": "code",
   "execution_count": 162,
   "id": "ba7fffff",
   "metadata": {},
   "outputs": [
    {
     "name": "stdout",
     "output_type": "stream",
     "text": [
      "SANITIZE_NONE\n",
      "5\n"
     ]
    },
    {
     "data": {
      "image/png": "[encoded data removed]",
      "text/plain": [
       "<rdkit.Chem.rdchem.RWMol at 0x7f6af04857f0>"
      ]
     },
     "execution_count": 162,
     "metadata": {},
     "output_type": "execute_result"
    }
   ],
   "source": [
    "mol = Chem.RWMol(Chem.MolFromSmiles('CC.c1ccnc1', sanitize = False))\n",
    "#mol.AddBond(8,mol.GetNumAtoms()-1,Chem.BondType.SINGLE)\n",
    "print(SanitizeNoKEKU(mol))\n",
    "print(mol.GetAromaticAtoms().__len__())\n",
    "mol"
   ]
  },
  {
   "cell_type": "code",
   "execution_count": 164,
   "id": "bdcfd13f",
   "metadata": {},
   "outputs": [
    {
     "name": "stdout",
     "output_type": "stream",
     "text": [
      "1\n"
     ]
    },
    {
     "data": {
      "image/png": "[encoded data removed]",
      "text/plain": [
       "<rdkit.Chem.rdchem.Mol at 0x7f6af8117c60>"
      ]
     },
     "execution_count": 164,
     "metadata": {},
     "output_type": "execute_result"
    }
   ],
   "source": [
    "from rdkit import Chem\n",
    "m = Chem.MolFromSmiles('CN(C)(C)C', sanitize=False)\n",
    "problems = Chem.DetectChemistryProblems(m)\n",
    "print(len(problems))\n",
    "m"
   ]
  },
  {
   "cell_type": "code",
   "execution_count": 165,
   "id": "997f30e6",
   "metadata": {},
   "outputs": [
    {
     "ename": "AtomValenceException",
     "evalue": "Explicit valence for atom # 1 N, 4, is greater than permitted",
     "output_type": "error",
     "traceback": [
      "\u001b[0;31m---------------------------------------------------------------------------\u001b[0m",
      "\u001b[0;31mAtomValenceException\u001b[0m                      Traceback (most recent call last)",
      "\u001b[0;32m/tmp/ipykernel_3004527/4111311375.py\u001b[0m in \u001b[0;36m<module>\u001b[0;34m\u001b[0m\n\u001b[0;32m----> 1\u001b[0;31m \u001b[0mSanitizeNoKEKU\u001b[0m\u001b[0;34m(\u001b[0m\u001b[0mm\u001b[0m\u001b[0;34m)\u001b[0m\u001b[0;34m\u001b[0m\u001b[0;34m\u001b[0m\u001b[0m\n\u001b[0m",
      "\u001b[0;32m/tmp/ipykernel_3004527/575841447.py\u001b[0m in \u001b[0;36mSanitizeNoKEKU\u001b[0;34m(mol)\u001b[0m\n\u001b[1;32m     18\u001b[0m                            \u001b[0ms_dict\u001b[0m\u001b[0;34m[\u001b[0m\u001b[0;34m'SANITIZE_FINDRADICALS'\u001b[0m\u001b[0;34m]\u001b[0m \u001b[0;34m|\u001b[0m \u001b[0ms_dict\u001b[0m\u001b[0;34m[\u001b[0m\u001b[0;34m'SANITIZE_NONE'\u001b[0m\u001b[0;34m]\u001b[0m \u001b[0;34m|\u001b[0m\u001b[0;34m\u001b[0m\u001b[0;34m\u001b[0m\u001b[0m\n\u001b[1;32m     19\u001b[0m                            \u001b[0ms_dict\u001b[0m\u001b[0;34m[\u001b[0m\u001b[0;34m'SANITIZE_PROPERTIES'\u001b[0m\u001b[0;34m]\u001b[0m \u001b[0;34m|\u001b[0m \u001b[0ms_dict\u001b[0m\u001b[0;34m[\u001b[0m\u001b[0;34m'SANITIZE_SETCONJUGATION'\u001b[0m\u001b[0;34m]\u001b[0m \u001b[0;34m|\u001b[0m\u001b[0;34m\u001b[0m\u001b[0;34m\u001b[0m\u001b[0m\n\u001b[0;32m---> 20\u001b[0;31m                            \u001b[0ms_dict\u001b[0m\u001b[0;34m[\u001b[0m\u001b[0;34m'SANITIZE_SETHYBRIDIZATION'\u001b[0m\u001b[0;34m]\u001b[0m \u001b[0;34m|\u001b[0m \u001b[0ms_dict\u001b[0m\u001b[0;34m[\u001b[0m\u001b[0;34m'SANITIZE_SYMMRINGS'\u001b[0m\u001b[0;34m]\u001b[0m\u001b[0;34m\u001b[0m\u001b[0;34m\u001b[0m\u001b[0m\n\u001b[0m\u001b[1;32m     21\u001b[0m                           )\n\u001b[1;32m     22\u001b[0m     \u001b[0;32mreturn\u001b[0m \u001b[0mmol\u001b[0m\u001b[0;34m\u001b[0m\u001b[0;34m\u001b[0m\u001b[0m\n",
      "\u001b[0;31mAtomValenceException\u001b[0m: Explicit valence for atom # 1 N, 4, is greater than permitted"
     ]
    }
   ],
   "source": [
    "SanitizeNoKEKU(m)"
   ]
  },
  {
   "cell_type": "code",
   "execution_count": 131,
   "id": "411456b9",
   "metadata": {},
   "outputs": [
    {
     "data": {
      "text/plain": [
       "rdkit.Chem.rdmolops.SanitizeFlags.SANITIZE_ADJUSTHS"
      ]
     },
     "execution_count": 131,
     "metadata": {},
     "output_type": "execute_result"
    }
   ],
   "source": [
    "Chem.SanitizeFlags.SANITIZE_ADJUSTHS"
   ]
  },
  {
   "cell_type": "code",
   "execution_count": 118,
   "id": "f6697521",
   "metadata": {},
   "outputs": [
    {
     "name": "stdout",
     "output_type": "stream",
     "text": [
      "KekulizeException\n",
      "Can't kekulize mol.  Unkekulized atoms: 2 3 4 5 6\n",
      "\n"
     ]
    }
   ],
   "source": [
    "print(problems[0].GetType())\n",
    "#print(problems[0].GetAtomIdx())\n",
    "print(problems[0].Message())"
   ]
  },
  {
   "cell_type": "code",
   "execution_count": 119,
   "id": "963ebe81",
   "metadata": {},
   "outputs": [
    {
     "data": {
      "image/png": "[encoded data removed]",
      "text/plain": [
       "<rdkit.Chem.rdchem.Mol at 0x7f6af048a850>"
      ]
     },
     "execution_count": 119,
     "metadata": {},
     "output_type": "execute_result"
    }
   ],
   "source": [
    "Chem.MolFromSmiles('CN1C=CC=CC1=O')"
   ]
  },
  {
   "cell_type": "code",
   "execution_count": 114,
   "id": "c978843b",
   "metadata": {},
   "outputs": [
    {
     "data": {
      "image/png": "[encoded data removed]",
      "text/plain": [
       "<rdkit.Chem.rdchem.Mol at 0x7f6af04bd8a0>"
      ]
     },
     "execution_count": 114,
     "metadata": {},
     "output_type": "execute_result"
    }
   ],
   "source": [
    "Chem.MolFromSmiles('CN(C)(C)C', sanitize=False)"
   ]
  },
  {
   "cell_type": "code",
   "execution_count": null,
   "id": "eddb80b3",
   "metadata": {},
   "outputs": [],
   "source": [
    "# wants: a single class for pretraining and rl training\n",
    "#     also want a singler logger for everything\n",
    "#     also should put in cross validation for the supervised portion\n",
    "#     means a logger instance in the init method\n",
    "\n",
    "class SupervisedToReinforcement():\n",
    "    def __init__(self, PPO_env, PPO_Train_Steps, policy_model,rewards, run_title):\n",
    "        \n",
    "        \n",
    "        self.writer = SummaryWriter('./run_title')\n",
    "        self.reward_module =  FinalRewardModule(sef.writer,rewards)\n",
    "        \n",
    "        \n",
    "        self.PPO_env = PPO_env\n",
    "        self.PPO_Train_Steps = PPO_Train_Steps        \n",
    "        self.SV_trainer = Supervised_trainer(policy_model)\n",
    "       \n",
    "    \n",
    "        self.SV_trainer.writer = self.writer\n",
    "        self.PPO_env.env.RewardModule = self.reward_module\n",
    "        self.PPO_env.actor = self.policy_model\n",
    "    \n",
    "    def Train():\n",
    "        sv_trainer.Train(20,16, 1,24)\n",
    "        self.PPO_env.learn(self.PPO_Train_Steps)\n",
    "        "
   ]
  },
  {
   "cell_type": "code",
   "execution_count": 1,
   "id": "4341f863",
   "metadata": {},
   "outputs": [],
   "source": [
    "class AdversarialTraining():\n",
    "    def __init__(self, PPO_agent,Disc, epochs, G_steps,\n",
    "                 D_steps, K, G_pretrain_steps, D_train_size,\n",
    "                 D_batch_size,pre_train_env, smiles_values):\n",
    "        \n",
    "        self.PPO_agent = PPO_agent\n",
    "        self.Disc = Disc\n",
    "        \n",
    "        self.epochs = epochs\n",
    "        self.G_steps = G_steps\n",
    "        self.D_steps = D_steps\n",
    "        self.K = K \n",
    "        \n",
    "        self.pre_train_env = pre_train_env\n",
    "        \n",
    "        self.D_batch_size = D_batch_size \n",
    "        self.D_train_size = D_train_size\n",
    "        self.smiles_values = smiles_values\n",
    "        \n",
    "    def mini_batch_reward_train(self, batch_size, num_batch):\n",
    "        for j in range(num_batch):\n",
    "            graphs = self.PPO_agent.generate_graphs(batch_size)\n",
    "            for model in self.reward_models:\n",
    "                model.TrainOnBatch(graphs)\n",
    "            \n",
    "    def _preTrain(self):\n",
    "        \n",
    "        \n",
    "        env,batch_size,timesteps_per_batch,clip,a_lr,c_lr,\n",
    "        n_updates_per_iteration,max_timesteps_per_episode,gamma\n",
    "\n",
    "        \n",
    "        t_dict = vars(self.PPO_agent)\n",
    "        PPO_agent_pre = PPO_MAIN(t_dict['env'],t_dict['batch_size'],t_dict['timesteps_per_batch'],\n",
    "                                 t_dict['clip'],t_dict['a_lr'], t_dict['c_lr'],\n",
    "                                 t_dict['n_updates_per_iteration'],t_dict['max_timesteps_per_episode'],\n",
    "                                 t_dict['gamma'])\n",
    "        \n",
    "        \n",
    "        \n",
    "        PPO_agent_pre.learn(G_pretrain_steps)\n",
    "        self.PPO_agent.assignActor(PPO_agent_pre.actor)\n",
    "        \n",
    "        \n",
    "        \n",
    "    def pull_real_samples(self, g_number):\n",
    "        graphs = smiles_to_graph([self.smiles_values[random.randint(0,len(self.smiles_values))] for _ in range(g_number)])\n",
    "        print(len(graphs), \"graph len\")\n",
    "            \n",
    "        return graphs\n",
    "    def i_hate_python(self):\n",
    "        a = self.PPO_agent.generate_graphs(10)\n",
    "    def train(self, epochs):\n",
    "        self._preTrain()\n",
    "        for epoch in range(epochs):\n",
    "            print('G_train')\n",
    "            self.PPO_agent.learn(G_steps) \n",
    "            \n",
    "            print('D_train')\n",
    "            for d_step in range(self.D_steps):\n",
    "                \n",
    "                x_fake = self.PPO_agent.generate_graphs(self.D_steps)\n",
    "                x_real = self.pull_real_samples(self.D_train_size)\n",
    "                for k_step in range(self.K):\n",
    "                    slices = list(range(0,self.D_train_size,self.D_batch_size)) + [self.D_train_size]\n",
    "                    for idx in range(1,len(slices)):\n",
    "                        slice_= slice(slices[idx-1],slices[idx])\n",
    "                        print(slice_)\n",
    "                        \n",
    "                        \n",
    "                        x_fake_batch = x_fake[slice_]\n",
    "                        if x_fake_batch != []:\n",
    "                            Y_fake_batch = torch.zeros(len(x_fake_batch),1)\n",
    "\n",
    "\n",
    "                            x_real_batch = x_real[slice_]\n",
    "                            Y_real_batch = torch.ones(len(x_real_batch),1)\n",
    "\n",
    "\n",
    "                            self.Disc.train(x_fake_batch, Y_fake_batch)\n",
    "                            self.Disc.train(x_real_batch,Y_real_batch)\n",
    "                        \n",
    "                \n",
    "                \n",
    "            \n",
    "                \n",
    "        "
   ]
  },
  {
   "cell_type": "code",
   "execution_count": null,
   "id": "6f3a83a8",
   "metadata": {},
   "outputs": [],
   "source": []
  }
 ],
 "metadata": {
  "kernelspec": {
   "display_name": "Python 3 (ipykernel)",
   "language": "python",
   "name": "python3"
  },
  "language_info": {
   "codemirror_mode": {
    "name": "ipython",
    "version": 3
   },
   "file_extension": ".py",
   "mimetype": "text/x-python",
   "name": "python",
   "nbconvert_exporter": "python",
   "pygments_lexer": "ipython3",
   "version": "3.7.11"
  }
 },
 "nbformat": 4,
 "nbformat_minor": 5
}
