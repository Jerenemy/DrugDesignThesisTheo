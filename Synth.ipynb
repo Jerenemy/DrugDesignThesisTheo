{
 "cells": [
  {
   "cell_type": "code",
   "execution_count": null,
   "id": "538ed439",
   "metadata": {},
   "outputs": [],
   "source": []
  },
  {
   "cell_type": "code",
   "execution_count": null,
   "id": "4ae973c5",
   "metadata": {},
   "outputs": [],
   "source": [
    "\n",
    "from math import log2\n",
    "\n",
    "import os, sys\n",
    "import rdkit.Chem as Chem \n",
    "import rdkit.Chem.AllChem as AllChem\n",
    "import random \n",
    "import numpy as np\n",
    "import torch\n",
    "\n",
    "\n",
    "sys.path.insert(0, '/home/theo/Desktop/Shrimp/scscore/scscore')\n",
    "from utils.SA_Score import sascorer\n",
    "import sys  \n",
    "\n",
    "\n",
    "\n",
    "\n",
    "\n",
    "\n"
   ]
  },
  {
   "cell_type": "code",
   "execution_count": null,
   "id": "19ff528e",
   "metadata": {},
   "outputs": [],
   "source": [
    "def synthScore(smi):\n",
    "    return sascorer.calculateScore(Chem.MolFromSmiles(smi))"
   ]
  },
  {
   "cell_type": "code",
   "execution_count": null,
   "id": "0f2655c2",
   "metadata": {},
   "outputs": [],
   "source": [
    "def get_score_from_smi(smi):\n",
    "    try:\n",
    "        return (smi, sascorer.calculateScore(Chem.MolFromSmiles(smi)))\n",
    "    except Exception:\n",
    "        return (smi, 0.)"
   ]
  },
  {
   "cell_type": "code",
   "execution_count": null,
   "id": "23e7fb51",
   "metadata": {},
   "outputs": [],
   "source": [
    "def score_list(smiles):\n",
    "    return [get_score_from_smi(smile) for smile in smiles]"
   ]
  },
  {
   "cell_type": "code",
   "execution_count": null,
   "id": "5b05aa18",
   "metadata": {},
   "outputs": [],
   "source": [
    "score_list(['OCc1cccc2ccccc12','OCc1cccc2ccccc12'])"
   ]
  },
  {
   "cell_type": "code",
   "execution_count": null,
   "id": "b23d674a",
   "metadata": {},
   "outputs": [],
   "source": [
    "# sascorer.calculateScore('OCc1cccc2ccccc12')"
   ]
  },
  {
   "cell_type": "code",
   "execution_count": null,
   "id": "38fa5a53",
   "metadata": {},
   "outputs": [],
   "source": [
    "torch.sigmoid(torch.tensor(synthScore('[Na]N=CCS')))"
   ]
  },
  {
   "cell_type": "code",
   "execution_count": null,
   "id": "cceda87c",
   "metadata": {},
   "outputs": [],
   "source": [
    "Chem.MolFromSmiles('[Na]N=CCS')"
   ]
  },
  {
   "cell_type": "code",
   "execution_count": null,
   "id": "a1eaf5ca",
   "metadata": {},
   "outputs": [],
   "source": []
  }
 ],
 "metadata": {
  "kernelspec": {
   "display_name": "Python 3 (ipykernel)",
   "language": "python",
   "name": "python3"
  },
  "language_info": {
   "codemirror_mode": {
    "name": "ipython",
    "version": 3
   },
   "file_extension": ".py",
   "mimetype": "text/x-python",
   "name": "python",
   "nbconvert_exporter": "python",
   "pygments_lexer": "ipython3",
   "version": "3.7.11"
  }
 },
 "nbformat": 4,
 "nbformat_minor": 5
}
