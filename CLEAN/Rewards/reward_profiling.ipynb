{
 "cells": [
  {
   "cell_type": "code",
   "execution_count": 17,
   "metadata": {},
   "outputs": [],
   "source": [
    "from torch import Size\n",
    "from rewards import SingleReward, SizeReward\n",
    "\n",
    "import pandas as pd \n",
    "import numpy as np\n",
    "\n",
    "from scipy.stats import norm, skewnorm\n",
    "import matplotlib.pyplot as plt\n",
    "import matplotlib.mlab as mlab\n",
    "from rdkit import Chem"
   ]
  },
  {
   "cell_type": "code",
   "execution_count": 4,
   "metadata": {},
   "outputs": [],
   "source": [
    "drugs = pd.read_csv('../GraphDecomp/SmallDrug.csv',error_bad_lines=False,delimiter=';')\n",
    "smiles_values = drugs['Smiles'].values\n",
    "reward = SizeReward()\n"
   ]
  },
  {
   "cell_type": "code",
   "execution_count": 59,
   "metadata": {},
   "outputs": [
    {
     "name": "stdout",
     "output_type": "stream",
     "text": [
      "succesfuly read in 38597 molecules, failed on 86\n"
     ]
    }
   ],
   "source": [
    "class RewardProfiler():\n",
    "    def __init__(self,path):\n",
    "        \n",
    "        drugs = pd.read_csv(path,error_bad_lines=False,delimiter=';')\n",
    "        smiles_values = drugs['Smiles']\n",
    "        \n",
    "        self.mols  = []\n",
    "        self.bad_smiles = []\n",
    "        \n",
    "        for smile in smiles_values:\n",
    "            try:\n",
    "                mol = Chem.MolFromSmiles(smile)\n",
    "                self.mols.append(mol)\n",
    "            \n",
    "            except:\n",
    "                self.bad_smiles.append(smile)\n",
    "                \n",
    "        print(f'succesfuly read in {len(self.mols)} molecules, failed on {len(self.bad_smiles)}')\n",
    "        \n",
    "    def profile(self,reward_module: SingleReward):\n",
    "        rewards = list(map(lambda x: reward_module.giveReward(x), self.mols))            \n",
    "        ae, loce, scalee = skewnorm.fit(rewards)\n",
    "        mean = np.mean(rewards)\n",
    "        \n",
    "        plt.figure()\n",
    "        plt.hist(rewards, bins=[i for i in range(20)], density=True, alpha=0.6, color='g')\n",
    "        xmin, xmax = plt.xlim()\n",
    "        x = np.linspace(xmin, xmax, 100)\n",
    "        p = skewnorm.pdf(x,ae, loce, scalee)\n",
    "        plt.plot(x, p, 'k', linewidth=2)\n",
    "        \n",
    "        \n",
    "        plt.xlabel('Reward Value')\n",
    "        plt.ylabel('Probability')\n",
    "        plt.title(f'Histogram of {reward_module.name()} Mean: {mean:.3f}')\n",
    "                \n",
    "rewardProfiler = RewardProfiler('../GraphDecomp/SmallDrug.csv')        "
   ]
  },
  {
   "cell_type": "code",
   "execution_count": 60,
   "metadata": {},
   "outputs": [
    {
     "data": {
      "image/png": "[encoded data removed]",
      "text/plain": [
       "<Figure size 432x288 with 1 Axes>"
      ]
     },
     "metadata": {
      "needs_background": "light"
     },
     "output_type": "display_data"
    }
   ],
   "source": [
    "rewardProfiler.profile(SizeReward())\n"
   ]
  },
  {
   "cell_type": "code",
   "execution_count": null,
   "metadata": {},
   "outputs": [],
   "source": []
  }
 ],
 "metadata": {
  "interpreter": {
   "hash": "ec606fc085fe86530c35cef2373cc343a007c8f5f2b5ac3b7e79a3e17604272c"
  },
  "kernelspec": {
   "display_name": "Python 3.7.10 ('lab1')",
   "language": "python",
   "name": "python3"
  },
  "language_info": {
   "codemirror_mode": {
    "name": "ipython",
    "version": 3
   },
   "file_extension": ".py",
   "mimetype": "text/x-python",
   "name": "python",
   "nbconvert_exporter": "python",
   "pygments_lexer": "ipython3",
   "version": "3.7.10"
  },
  "orig_nbformat": 4
 },
 "nbformat": 4,
 "nbformat_minor": 2
}
