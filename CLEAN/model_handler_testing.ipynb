{
 "cells": [
  {
   "cell_type": "code",
   "execution_count": 2,
   "metadata": {},
   "outputs": [],
   "source": []
  },
  {
   "cell_type": "code",
   "execution_count": 1,
   "metadata": {},
   "outputs": [
    {
     "name": "stderr",
     "output_type": "stream",
     "text": [
      "Using backend: pytorch\n"
     ]
    }
   ],
   "source": [
    "import copy\n",
    "from collections import deque\n",
    "\n",
    "from rdkit.Chem.Draw import IPythonConsole\n",
    "\n",
    "import torch\n",
    "import torch.nn as nn\n",
    "from torch.utils.tensorboard import SummaryWriter\n",
    "\n",
    "from rdkit import Chem\n",
    "from rdkit.Chem import RWMol\n",
    "\n",
    "from enviroment.ChemEnv import ChemEnv\n",
    "from enviroment.Utils import mol_to_graph_full\n",
    "\n",
    "from Rewards.rewards import SizeReward, SingleReward, FinalRewardModule\n",
    "\n",
    "from models import BaseLine\n"
   ]
  },
  {
   "cell_type": "code",
   "execution_count": 39,
   "metadata": {},
   "outputs": [],
   "source": [
    "from rdkit import Chem\n",
    "from rdkit.Chem import rdBase\n",
    "from rdkit.Chem import Draw\n",
    "from rdkit.Chem.Draw import rdMolDraw2D\n",
    "from rdkit.Chem.Draw import IPythonConsole\n",
    "from IPython.display import SVG\n",
    "import networkx as nx\n",
    "from networkx.readwrite import cytoscape_data\n",
    "import cyjupyter\n",
    "from cyjupyter import Cytoscape\n",
    "from rdkit.Chem import AllChem\n",
    "from rdkit.Chem.Scaffolds import rdScaffoldNetwork\n",
    "from urllib import parse\n"
   ]
  },
  {
   "cell_type": "code",
   "execution_count": 4,
   "metadata": {},
   "outputs": [],
   "source": [
    "writer = SummaryWriter(f'./logs_test/_logs/tb')\n",
    "reward_module = FinalRewardModule(writer, [SizeReward()])\n",
    "env = ChemEnv(54,reward_module,mol_to_graph_full,writer)\n",
    "\n"
   ]
  },
  {
   "cell_type": "code",
   "execution_count": 5,
   "metadata": {},
   "outputs": [],
   "source": [
    "\n",
    "class MolTree():\n",
    "    \"\"\"Class for holding molecular iteration tree\n",
    "    \"\"\"\n",
    "    def __init__(self,root_mol: Chem.RWMol, idx: int):\n",
    "        \"\"\"init fn\n",
    "\n",
    "        Args:\n",
    "            root_mol (Chem.RWMol): the molecule to use as the node\n",
    "        \"\"\"\n",
    "        self.root_mol = root_mol\n",
    "        self.idx = idx    \n",
    "        self.children = []\n",
    "        \n",
    "    def addChild(self, mol: Chem.RWMol):\n",
    "        \"\"\"add a child molecule\n",
    "\n",
    "        Args:\n",
    "            mol (Chem.RWMol): [description]\n",
    "        \"\"\"\n",
    "        child = MolTree(mol)\n",
    "        self.children.append(child)\n",
    "        \n",
    "    def addChildren(self, mols: 'list[Chem.RWMol]', i: int):\n",
    "        \"\"\"adds children molecules\n",
    "\n",
    "        Args:\n",
    "            mols (list[Chem.RWMol]): mols to add\n",
    "            i (int): starting idx for node numbering\n",
    "\n",
    "        Returns:\n",
    "            int: number of children added\n",
    "        \"\"\"\n",
    "        # self.children += list(map(lambda mol: MolTree(mol), mols))\n",
    "        for j,mol in enumerate(mols):\n",
    "            self.children.append(MolTree(mol,i+j))\n",
    "            \n",
    "        return len(self.children)\n",
    "        "
   ]
  },
  {
   "cell_type": "code",
   "execution_count": 6,
   "metadata": {},
   "outputs": [],
   "source": [
    "\n",
    "class Handler():\n",
    "    \"\"\"Class for handling model. inference and that sort of stuff\"\"\"\n",
    "    def __init__(self, path: str, model: nn.Module, env: ChemEnv):\n",
    "        \"\"\"create handler insance\n",
    "\n",
    "        Args:\n",
    "            path (str): path to saved model\n",
    "            model (nn.Module): model for params to be loaded into\n",
    "            env ([type]): Chem environment\n",
    "        \"\"\"\n",
    "        self.model = model\n",
    "        # self.model.load(path)\n",
    "        \n",
    "        self.env = env\n",
    "\n",
    "    def __get_n_best(self,mol: Chem.RWMol, n: int):\n",
    "        \"\"\"gets the top n most likely actions given mol\n",
    "\n",
    "        Args:\n",
    "            mol (Chem.RWMol): mol to set as state\n",
    "            n (int): number of actions to return\n",
    "\n",
    "        Returns:\n",
    "            Torch.tensor: tensor containing the actions\n",
    "        \"\"\"\n",
    "        # mol = Chem.RWMol(Chem.MolFromSmiles('CC-N'))\n",
    "        self.env.assignMol(mol)\n",
    "        obs = self.env.getObs()\n",
    "        predictions = self.model(*obs) \n",
    "        _, actions = torch.topk(predictions,n)\n",
    "        return actions\n",
    "\n",
    "    def __run_actions(self, mol: Chem.RWMol, actions: 'list[int]'):\n",
    "        \"\"\"calculates new mols updated by actions\n",
    "\n",
    "        Args:\n",
    "            mol (Chem.RWMol): starting structure\n",
    "            actions (list[int]): actions to take    \n",
    "\n",
    "        Returns:\n",
    "            list[Chem.RWMol]: newly generated molecules\n",
    "        \"\"\"\n",
    "        new_mols = []\n",
    "        for action in torch.squeeze(actions):\n",
    "            action_int = int(action)\n",
    "            mol_copy = copy.deepcopy(mol)\n",
    "            self.env.assignMol(mol_copy)\n",
    "            _,_,_,reward_dict = self.env.step(action_int)\n",
    "            \n",
    "            if reward_dict['step_reward'] > 0:\n",
    "                new_mols.append(self.env.StateSpace)\n",
    "        \n",
    "        \n",
    "        return new_mols\n",
    "    \n",
    "    def iterate(self, mol, n):\n",
    "        \"\"\"Expands the passed molecule by one step\n",
    "\n",
    "        Args:\n",
    "            mol (Chem.RWMol): base molecule to iterate on\n",
    "            n (int): How many different one step iterations to make\n",
    "\n",
    "        Returns:\n",
    "            list[Chem.RWMol]: The mutated molecules\n",
    "        \"\"\"\n",
    "        actions = self.__get_n_best(mol, n)\n",
    "        mols = self.__run_actions(mol,actions)\n",
    "        \n",
    "        return mols\n",
    "    \n",
    "    def treeSearch(self,initial_mol: Chem.RWMol, width: int, size: int):\n",
    "        \"\"\"search chemical space around the initial molecule\n",
    "\n",
    "        Args:\n",
    "            initial_mol (Chem.RWMol): starting\n",
    "            width (int): how many branches to make at each step\n",
    "            size (int): total size of the tree\n",
    "\n",
    "        Returns:\n",
    "            [type]: [description]\n",
    "        \"\"\"\n",
    "        \n",
    "        molTree = MolTree(initial_mol,0)\n",
    "        queue = deque([molTree])\n",
    "        i = 1\n",
    "        \n",
    "        while queue:\n",
    "            if size <= 0:\n",
    "                break\n",
    "            mol_node = queue.pop()\n",
    "            children = self.iterate(mol_node.root_mol, width)\n",
    "            j = mol_node.addChildren(children,i)\n",
    "            i = i+j\n",
    "            \n",
    "            for child in mol_node.children:\n",
    "                print(Chem.MolToSmiles(child.root_mol))\n",
    "                queue.appendleft(child)\n",
    "            \n",
    "            size -= 1\n",
    "            \n",
    "            \n",
    "        return molTree\n",
    "\n",
    "    def inference():\n",
    "        pass"
   ]
  },
  {
   "cell_type": "code",
   "execution_count": 122,
   "metadata": {},
   "outputs": [],
   "source": [
    "def smi2svg(mol):\n",
    "    try:\n",
    "        Chem.rdmolops.Kekulize(mol)\n",
    "    except:\n",
    "        pass\n",
    "    drawer = rdMolDraw2D.MolDraw2DSVG(690, 400)\n",
    "    AllChem.Compute2DCoords(mol)\n",
    "    drawer.DrawMolecule(mol)\n",
    "    drawer.FinishDrawing()\n",
    "    svg = drawer.GetDrawingText().replace(\"svg:\", \"\")\n",
    "    return svg"
   ]
  },
  {
   "cell_type": "code",
   "execution_count": 124,
   "metadata": {},
   "outputs": [
    {
     "data": {
      "text/plain": [
       "\"<?xml version='1.0' encoding='iso-8859-1'?>\\n<svg version='1.1' baseProfile='full'\\n              xmlns='http://www.w3.org/2000/svg'\\n                      xmlns:rdkit='http://www.rdkit.org/xml'\\n                      xmlns:xlink='http://www.w3.org/1999/xlink'\\n                  xml:space='preserve'\\nwidth='690px' height='400px' viewBox='0 0 690 400'>\\n<!-- END OF HEADER -->\\n<rect style='opacity:1.0;fill:#FFFFFF;stroke:none' width='690' height='400' x='0' y='0'> </rect>\\n<path class='bond-0 atom-0 atom-1' d='M 31.3636,271.085 L 322.184,103.179' style='fill:none;fill-rule:evenodd;stroke:#000000;stroke-width:2.0px;stroke-linecap:butt;stroke-linejoin:miter;stroke-opacity:1' />\\n<path class='bond-1 atom-1 atom-2' d='M 322.184,103.179 L 458.027,181.608' style='fill:none;fill-rule:evenodd;stroke:#000000;stroke-width:2.0px;stroke-linecap:butt;stroke-linejoin:miter;stroke-opacity:1' />\\n<path class='bond-1 atom-1 atom-2' d='M 458.027,181.608 L 593.869,260.037' style='fill:none;fill-rule:evenodd;stroke:#0000FF;stroke-width:2.0px;stroke-linecap:butt;stroke-linejoin:miter;stroke-opacity:1' />\\n<path  class='atom-2' d='M 606.745 256.925\\nL 616.025 271.925\\nQ 616.945 273.405, 618.425 276.085\\nQ 619.905 278.765, 619.985 278.925\\nL 619.985 256.925\\nL 623.745 256.925\\nL 623.745 285.245\\nL 619.865 285.245\\nL 609.905 268.845\\nQ 608.745 266.925, 607.505 264.725\\nQ 606.305 262.525, 605.945 261.845\\nL 605.945 285.245\\nL 602.265 285.245\\nL 602.265 256.925\\nL 606.745 256.925\\n' fill='#0000FF'/>\\n<path  class='atom-2' d='M 627.145 256.925\\nL 630.985 256.925\\nL 630.985 268.965\\nL 645.465 268.965\\nL 645.465 256.925\\nL 649.305 256.925\\nL 649.305 285.245\\nL 645.465 285.245\\nL 645.465 272.165\\nL 630.985 272.165\\nL 630.985 285.245\\nL 627.145 285.245\\nL 627.145 256.925\\n' fill='#0000FF'/>\\n<path  class='atom-2' d='M 650.677 284.251\\nQ 651.364 282.482, 653.001 281.505\\nQ 654.637 280.502, 656.908 280.502\\nQ 659.733 280.502, 661.317 282.033\\nQ 662.901 283.565, 662.901 286.284\\nQ 662.901 289.056, 660.841 291.643\\nQ 658.809 294.23, 654.585 297.293\\nL 663.217 297.293\\nL 663.217 299.405\\nL 650.625 299.405\\nL 650.625 297.636\\nQ 654.109 295.154, 656.169 293.306\\nQ 658.254 291.458, 659.257 289.795\\nQ 660.261 288.132, 660.261 286.416\\nQ 660.261 284.621, 659.363 283.617\\nQ 658.465 282.614, 656.908 282.614\\nQ 655.403 282.614, 654.4 283.221\\nQ 653.397 283.829, 652.684 285.175\\nL 650.677 284.251\\n' fill='#0000FF'/>\\n</svg>\\n\""
      ]
     },
     "execution_count": 124,
     "metadata": {},
     "output_type": "execute_result"
    }
   ],
   "source": [
    "(smi2svg(mol))"
   ]
  },
  {
   "cell_type": "code",
   "execution_count": 91,
   "metadata": {},
   "outputs": [
    {
     "data": {
      "image/svg+xml": [
       "<svg baseProfile=\"full\" height=\"400px\" version=\"1.1\" viewBox=\"0 0 690 400\" width=\"690px\" xml:space=\"preserve\" xmlns=\"http://www.w3.org/2000/svg\" xmlns:rdkit=\"http://www.rdkit.org/xml\" xmlns:xlink=\"http://www.w3.org/1999/xlink\">\n",
       "<!-- END OF HEADER -->\n",
       "<rect height=\"400\" style=\"opacity:1.0;fill:#FFFFFF;stroke:none\" width=\"690\" x=\"0\" y=\"0\"> </rect>\n",
       "<path class=\"bond-0 atom-0 atom-1\" d=\"M 31.3636,271.085 L 322.184,103.179\" style=\"fill:none;fill-rule:evenodd;stroke:#000000;stroke-width:2.0px;stroke-linecap:butt;stroke-linejoin:miter;stroke-opacity:1\"/>\n",
       "<path class=\"bond-1 atom-1 atom-2\" d=\"M 322.184,103.179 L 458.027,181.608\" style=\"fill:none;fill-rule:evenodd;stroke:#000000;stroke-width:2.0px;stroke-linecap:butt;stroke-linejoin:miter;stroke-opacity:1\"/>\n",
       "<path class=\"bond-1 atom-1 atom-2\" d=\"M 458.027,181.608 L 593.869,260.037\" style=\"fill:none;fill-rule:evenodd;stroke:#0000FF;stroke-width:2.0px;stroke-linecap:butt;stroke-linejoin:miter;stroke-opacity:1\"/>\n",
       "<path class=\"atom-2\" d=\"M 606.745 256.925 L 616.025 271.925 Q 616.945 273.405, 618.425 276.085 Q 619.905 278.765, 619.985 278.925 L 619.985 256.925 L 623.745 256.925 L 623.745 285.245 L 619.865 285.245 L 609.905 268.845 Q 608.745 266.925, 607.505 264.725 Q 606.305 262.525, 605.945 261.845 L 605.945 285.245 L 602.265 285.245 L 602.265 256.925 L 606.745 256.925 \" fill=\"#0000FF\"/>\n",
       "<path class=\"atom-2\" d=\"M 627.145 256.925 L 630.985 256.925 L 630.985 268.965 L 645.465 268.965 L 645.465 256.925 L 649.305 256.925 L 649.305 285.245 L 645.465 285.245 L 645.465 272.165 L 630.985 272.165 L 630.985 285.245 L 627.145 285.245 L 627.145 256.925 \" fill=\"#0000FF\"/>\n",
       "<path class=\"atom-2\" d=\"M 650.677 284.251 Q 651.364 282.482, 653.001 281.505 Q 654.637 280.502, 656.908 280.502 Q 659.733 280.502, 661.317 282.033 Q 662.901 283.565, 662.901 286.284 Q 662.901 289.056, 660.841 291.643 Q 658.809 294.23, 654.585 297.293 L 663.217 297.293 L 663.217 299.405 L 650.625 299.405 L 650.625 297.636 Q 654.109 295.154, 656.169 293.306 Q 658.254 291.458, 659.257 289.795 Q 660.261 288.132, 660.261 286.416 Q 660.261 284.621, 659.363 283.617 Q 658.465 282.614, 656.908 282.614 Q 655.403 282.614, 654.4 283.221 Q 653.397 283.829, 652.684 285.175 L 650.677 284.251 \" fill=\"#0000FF\"/>\n",
       "</svg>"
      ],
      "text/plain": [
       "<IPython.core.display.SVG object>"
      ]
     },
     "execution_count": 91,
     "metadata": {},
     "output_type": "execute_result"
    }
   ],
   "source": [
    "mol = Chem.MolFromSmiles(\"CC-N\")\n",
    "drawer = rdMolDraw2D.MolDraw2DSVG(690, 400)\n",
    "drawer.DrawMolecule(mol)\n",
    "drawer.FinishDrawing()\n",
    "SVG(drawer.GetDrawingText())"
   ]
  },
  {
   "cell_type": "code",
   "execution_count": 159,
   "metadata": {},
   "outputs": [],
   "source": [
    "def GraphFromMolTree(mol: MolTree):\n",
    "    \"\"\"Function for transforming a Molecule Tree to a nx Graph for use with cytoscape\n",
    "\n",
    "    Args:\n",
    "        mol (MolTree): Tree to be converted\n",
    "\n",
    "    Returns:\n",
    "        nx.graph.Graph: converted graph\n",
    "    \"\"\"\n",
    "    g = nx.graph.Graph()\n",
    "    queue = deque([mol])\n",
    "    \n",
    "    while queue:\n",
    "        print('s')\n",
    "        mol_tree = queue.pop()\n",
    "        mol = mol_tree.root_mol\n",
    "        if g.number_of_nodes() == 0:\n",
    "            print('X')\n",
    "            g.add_node(mol_tree.idx,mol = Chem.MolToSmiles(mol))#, img=smi2svg(mol), hac=mol.GetNumAtoms())\n",
    "            \n",
    "        for child in mol_tree.children:\n",
    "            child_mol = child.root_mol\n",
    "            g.add_node(child.idx, mol = Chem.MolToSmiles(child_mol))#, img = smi2svg(mol))\n",
    "            g.add_edge(mol_tree.idx, child.idx)\n",
    "            queue.appendleft(child)\n",
    "        \n",
    "        \n",
    "    return g\n",
    "    \n"
   ]
  },
  {
   "cell_type": "code",
   "execution_count": 207,
   "metadata": {},
   "outputs": [
    {
     "name": "stdout",
     "output_type": "stream",
     "text": [
      "CCN.S\n",
      "C1CN1\n",
      "C1CN1.S\n",
      "C1CN1.c1ccccc1\n",
      "SC1CN1\n",
      "SC1CN1\n",
      "S.SC1CN1\n",
      "N1C2SC12\n",
      "S.SC1CN1\n",
      "N1C2SC12\n",
      "SC1(S)CN1\n",
      "SC1NC1S\n",
      "N1C2SC12.S\n",
      "N1C2SC12.c1ccnc1\n",
      "B.N1C2SC12\n",
      "SC1(S)CN1\n",
      "SC1NC1S\n",
      "N1C2SC12.S\n",
      "N1C2SC12.c1ccnc1\n",
      "B.N1C2SC12\n",
      "S.SC1(S)CN1\n",
      "SC12NC1S2\n",
      "s\n",
      "X\n",
      "s\n",
      "s\n",
      "s\n",
      "s\n",
      "s\n",
      "s\n",
      "s\n",
      "s\n",
      "s\n",
      "s\n",
      "s\n",
      "s\n",
      "s\n",
      "s\n",
      "s\n",
      "s\n",
      "s\n",
      "s\n",
      "s\n",
      "s\n",
      "s\n",
      "s\n"
     ]
    }
   ],
   "source": [
    "model = BaseLine(54,300,17)\n",
    "handler = Handler('af',model,env)\n",
    "mol = Chem.RWMol(Chem.MolFromSmiles('CC-N'))\n",
    "tree = handler.treeSearch(mol,3,12)\n",
    "graph = GraphFromMolTree(tree)"
   ]
  },
  {
   "cell_type": "code",
   "execution_count": 220,
   "metadata": {},
   "outputs": [
    {
     "data": {
      "application/vnd.jupyter.widget-view+json": {
       "model_id": "b0f8540da86f417884de94af12a9a1f6",
       "version_major": 2,
       "version_minor": 0
      },
      "text/plain": [
       "Cytoscape(data={'data': [], 'directed': False, 'multigraph': False, 'elements': {'nodes': [{'data': {'mol': 'C…"
      ]
     },
     "metadata": {},
     "output_type": "display_data"
    }
   ],
   "source": [
    "\n",
    "cy_g = cytoscape_data(graph)\n",
    "stobj=[\n",
    "  {'style': [{'css': {\n",
    "      'shape' : 'circle',\n",
    "      'width':100,\n",
    "      'height':100,\n",
    "#       'border-color': 'rgb(0,0,0)',\n",
    "#       'border-opacity': .5,\n",
    "#       'border-width': 0.0,\n",
    "#       'color': '#4579e8',\n",
    "      'label': 'data(mol)',\n",
    "      'font-size' : 40,\n",
    "      'layout': {'name' : 'grid'}\n",
    "#       'background-fit':'contain'\n",
    "                    },\n",
    "                      \n",
    "    'selector': 'node'},\n",
    "             \n",
    "             \n",
    "             \n",
    "             \n",
    "             \n",
    "            {'css': {\n",
    "                'width': 10.0,\n",
    "                \"target-arrow-shape\": \"triangle\",\n",
    "                \"line-color\": \"#9dbaea\",\n",
    "                \"target-arrow-color\": \"#9dbaea\",\n",
    "                \"curve-style\": \"bezier\"\n",
    "            },\n",
    "            'selector': 'edge'}\n",
    "            ],\n",
    "  }]\n",
    "\n",
    "cyobj=Cytoscape(data=cy_g, visual_style=stobj[0]['style'])\n",
    "cyobj\n"
   ]
  },
  {
   "cell_type": "code",
   "execution_count": 224,
   "metadata": {},
   "outputs": [
    {
     "data": {
      "image/png": "[encoded data removed]",
      "text/plain": [
       "<rdkit.Chem.rdchem.Mol at 0x16880d210>"
      ]
     },
     "execution_count": 224,
     "metadata": {},
     "output_type": "execute_result"
    }
   ],
   "source": [
    "Chem.MolFromSmiles('N1C2SC12')"
   ]
  },
  {
   "cell_type": "code",
   "execution_count": 216,
   "metadata": {
    "scrolled": true
   },
   "outputs": [
    {
     "data": {
      "text/plain": [
       "{'data': [],\n",
       " 'directed': False,\n",
       " 'multigraph': False,\n",
       " 'elements': {'nodes': [{'data': {'mol': 'CCN',\n",
       "     'id': '0',\n",
       "     'value': 0,\n",
       "     'name': '0'}},\n",
       "   {'data': {'mol': 'CCN.S', 'id': '1', 'value': 1, 'name': '1'}},\n",
       "   {'data': {'mol': 'C1CN1', 'id': '2', 'value': 2, 'name': '2'}},\n",
       "   {'data': {'mol': 'C1CN1.S', 'id': '3', 'value': 3, 'name': '3'}},\n",
       "   {'data': {'mol': 'C1CN1.c1ccccc1', 'id': '4', 'value': 4, 'name': '4'}},\n",
       "   {'data': {'mol': 'SC1CN1', 'id': '5', 'value': 5, 'name': '5'}},\n",
       "   {'data': {'mol': 'SC1CN1', 'id': '6', 'value': 6, 'name': '6'}},\n",
       "   {'data': {'mol': 'S.SC1CN1', 'id': '7', 'value': 7, 'name': '7'}},\n",
       "   {'data': {'mol': 'N1C2SC12', 'id': '8', 'value': 8, 'name': '8'}},\n",
       "   {'data': {'mol': 'S.SC1CN1', 'id': '9', 'value': 9, 'name': '9'}},\n",
       "   {'data': {'mol': 'N1C2SC12', 'id': '10', 'value': 10, 'name': '10'}},\n",
       "   {'data': {'mol': 'SC1(S)CN1', 'id': '11', 'value': 11, 'name': '11'}},\n",
       "   {'data': {'mol': 'SC1NC1S', 'id': '12', 'value': 12, 'name': '12'}},\n",
       "   {'data': {'mol': 'N1C2SC12.S', 'id': '13', 'value': 13, 'name': '13'}},\n",
       "   {'data': {'mol': 'N1C2SC12.c1ccnc1',\n",
       "     'id': '14',\n",
       "     'value': 14,\n",
       "     'name': '14'}},\n",
       "   {'data': {'mol': 'B.N1C2SC12', 'id': '15', 'value': 15, 'name': '15'}},\n",
       "   {'data': {'mol': 'SC1(S)CN1', 'id': '16', 'value': 16, 'name': '16'}},\n",
       "   {'data': {'mol': 'SC1NC1S', 'id': '17', 'value': 17, 'name': '17'}},\n",
       "   {'data': {'mol': 'N1C2SC12.S', 'id': '18', 'value': 18, 'name': '18'}},\n",
       "   {'data': {'mol': 'N1C2SC12.c1ccnc1',\n",
       "     'id': '19',\n",
       "     'value': 19,\n",
       "     'name': '19'}},\n",
       "   {'data': {'mol': 'B.N1C2SC12', 'id': '20', 'value': 20, 'name': '20'}},\n",
       "   {'data': {'mol': 'S.SC1(S)CN1', 'id': '21', 'value': 21, 'name': '21'}},\n",
       "   {'data': {'mol': 'SC12NC1S2', 'id': '22', 'value': 22, 'name': '22'}}],\n",
       "  'edges': [{'data': {'source': 0, 'target': 1}},\n",
       "   {'data': {'source': 0, 'target': 2}},\n",
       "   {'data': {'source': 2, 'target': 3}},\n",
       "   {'data': {'source': 2, 'target': 4}},\n",
       "   {'data': {'source': 3, 'target': 5}},\n",
       "   {'data': {'source': 3, 'target': 6}},\n",
       "   {'data': {'source': 5, 'target': 7}},\n",
       "   {'data': {'source': 5, 'target': 8}},\n",
       "   {'data': {'source': 6, 'target': 9}},\n",
       "   {'data': {'source': 6, 'target': 10}},\n",
       "   {'data': {'source': 7, 'target': 11}},\n",
       "   {'data': {'source': 7, 'target': 12}},\n",
       "   {'data': {'source': 8, 'target': 13}},\n",
       "   {'data': {'source': 8, 'target': 14}},\n",
       "   {'data': {'source': 8, 'target': 15}},\n",
       "   {'data': {'source': 9, 'target': 16}},\n",
       "   {'data': {'source': 9, 'target': 17}},\n",
       "   {'data': {'source': 10, 'target': 18}},\n",
       "   {'data': {'source': 10, 'target': 19}},\n",
       "   {'data': {'source': 10, 'target': 20}},\n",
       "   {'data': {'source': 11, 'target': 21}},\n",
       "   {'data': {'source': 11, 'target': 22}}]}}"
      ]
     },
     "execution_count": 216,
     "metadata": {},
     "output_type": "execute_result"
    }
   ],
   "source": [
    "cy_g"
   ]
  },
  {
   "cell_type": "code",
   "execution_count": 217,
   "metadata": {},
   "outputs": [],
   "source": [
    "cyg = {'data' : [],\n",
    "       'directed': True,\n",
    "       'multigraph': False,\n",
    "    \n",
    "    'elements': {\n",
    "    'nodes': [\n",
    "      { 'data': { id: 0 } },\n",
    "      { 'data': { id: 1 } },\n",
    "      { 'data': { id: 2 } },\n",
    "      { 'data': { id: 3 } },\n",
    "      { 'data': { id: 4 } },\n",
    "      { 'data': { id: 5 } },\n",
    "      { 'data': { id: 6 } },\n",
    "      { 'data': { id: 7 } },\n",
    "      { 'data': { id: 8 } },\n",
    "      { 'data': { id: 9 } },\n",
    "      { 'data': { id: 10 } },\n",
    "      { 'data': { id: 11 } },\n",
    "      { 'data': { id: 12 } },\n",
    "      { 'data': { id: 13 } },\n",
    "      { 'data': { id: 14 } },\n",
    "      { 'data': { id: 15 } },\n",
    "      { 'data': { id: 16 } }\n",
    "    ],\n",
    "    'edges': [\n",
    "      { 'data': { 'source': 0, 'target': 1 } },\n",
    "      { 'data': { 'source': 1, 'target': 2 } },\n",
    "      { 'data': { 'source': 1, 'target': 3 } },\n",
    "      { 'data': { 'source': 4, 'target': 5 } },\n",
    "      { 'data': { 'source': 4, 'target': 6 } },\n",
    "      { 'data': { 'source': 6, 'target': 7 } },\n",
    "      { 'data': { 'source': 6, 'target': 8 } },\n",
    "      { 'data': { 'source': 8, 'target': 9 } },\n",
    "      { 'data': { 'source': 8, 'target': 10 } },\n",
    "      { 'data': { 'source': 11, 'target': 12 } },\n",
    "      { 'data': { 'source': 12, 'target': 13 } },\n",
    "      { 'data': { 'source': 13, 'target': 14 } },\n",
    "      { 'data': { 'source': 13, 'target': 15 } }\n",
    "    ]\n",
    "  }}"
   ]
  },
  {
   "cell_type": "code",
   "execution_count": 218,
   "metadata": {},
   "outputs": [
    {
     "data": {
      "application/vnd.jupyter.widget-view+json": {
       "model_id": "0b11ca4a3a714a21957ae794817ffcc5",
       "version_major": 2,
       "version_minor": 0
      },
      "text/plain": [
       "Cytoscape(data={'data': [], 'directed': True, 'multigraph': False, 'elements': {'nodes': [{'data': {<built-in …"
      ]
     },
     "metadata": {},
     "output_type": "display_data"
    }
   ],
   "source": [
    "cyobj=Cytoscape(data=cyg, visual_style=stobj[0]['style'])#, layout_name='circle')\n",
    "cyobj"
   ]
  },
  {
   "cell_type": "code",
   "execution_count": null,
   "metadata": {},
   "outputs": [],
   "source": []
  }
 ],
 "metadata": {
  "interpreter": {
   "hash": "ec606fc085fe86530c35cef2373cc343a007c8f5f2b5ac3b7e79a3e17604272c"
  },
  "kernelspec": {
   "display_name": "Python 3",
   "language": "python",
   "name": "python3"
  },
  "language_info": {
   "codemirror_mode": {
    "name": "ipython",
    "version": 3
   },
   "file_extension": ".py",
   "mimetype": "text/x-python",
   "name": "python",
   "nbconvert_exporter": "python",
   "pygments_lexer": "ipython3",
   "version": "3.7.10"
  }
 },
 "nbformat": 4,
 "nbformat_minor": 2
}
