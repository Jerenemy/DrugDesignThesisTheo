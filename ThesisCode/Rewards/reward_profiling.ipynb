{
 "cells": [
  {
   "cell_type": "code",
   "execution_count": 2,
   "metadata": {},
   "outputs": [],
   "source": [
    "from torch import Size\n",
    "import rewards\n",
    "\n",
    "\n",
    "import pandas as pd \n",
    "import numpy as np\n",
    "\n",
    "from scipy.stats import norm, skewnorm\n",
    "import matplotlib.pyplot as plt\n",
    "import matplotlib.mlab as mlab\n",
    "from rdkit import Chem\n",
    "drugs = pd.read_csv('../TrainingUtils/SupervisedTraining/SmallDrug.csv',error_bad_lines=False,delimiter=';')\n",
    "smiles_values = drugs['Smiles'].values\n"
   ]
  },
  {
   "cell_type": "code",
   "execution_count": 8,
   "metadata": {},
   "outputs": [
    {
     "name": "stderr",
     "output_type": "stream",
     "text": [
      "/home/theo/anaconda3/envs/prawn/lib/python3.7/site-packages/ipykernel_launcher.py:38: FutureWarning: The error_bad_lines argument has been deprecated and will be removed in a future version.\n",
      "\n",
      "\n"
     ]
    },
    {
     "name": "stdout",
     "output_type": "stream",
     "text": [
      "succesfuly read in 38597 molecules, failed on 86\n"
     ]
    }
   ],
   "source": [
    "class RewardProfiler():\n",
    "    def __init__(self,path):\n",
    "        \n",
    "        drugs = pd.read_csv(path,error_bad_lines=False,delimiter=';')\n",
    "        smiles_values = drugs['Smiles']\n",
    "        \n",
    "        self.mols  = []\n",
    "        self.bad_smiles = []\n",
    "        \n",
    "        for smile in smiles_values:\n",
    "            try:\n",
    "                mol = Chem.MolFromSmiles(smile)\n",
    "                self.mols.append(mol)\n",
    "            \n",
    "            except:\n",
    "                self.bad_smiles.append(smile)\n",
    "                \n",
    "        print(f'succesfuly read in {len(self.mols)} molecules, failed on {len(self.bad_smiles)}')\n",
    "        \n",
    "    def profile(self,reward_module: rewards.SingleReward):\n",
    "        rewards = list(map(lambda x: reward_module.giveReward(x), self.mols))            \n",
    "        ae, loce, scalee = skewnorm.fit(rewards)\n",
    "        mean = np.mean(rewards)\n",
    "        \n",
    "        plt.figure()\n",
    "        plt.hist(rewards, alpha=0.6, color='g',bins=[(i-12)/20 for i in range(60)])\n",
    "        # plt.hist(rewards, bins=[i for i in range(10)], density=True, alpha=0.6, color='g')\n",
    "        # xmin, xmax = plt.xlim()\n",
    "        # x = np.linspace(xmin, xmax, 40)\n",
    "        # p = skewnorm.pdf(x,ae, loce, scalee)\n",
    "        # plt.plot(x, p, 'k', linewidth=2)\n",
    "        \n",
    "        \n",
    "        # plt.xlabel('Reward Value')\n",
    "        # plt.ylabel('Probability')\n",
    "        # plt.title(f'Histogram of {reward_module.name()} Mean: {mean:.3f}')\n",
    "                \n",
    "rewardProfiler = RewardProfiler('../TrainingUtils/SupervisedTraining/SmallDrug.csv')        "
   ]
  },
  {
   "cell_type": "code",
   "execution_count": 9,
   "metadata": {},
   "outputs": [
    {
     "data": {
      "image/png": "[encoded data removed]",
      "text/plain": [
       "<Figure size 432x288 with 1 Axes>"
      ]
     },
     "metadata": {
      "needs_background": "light"
     },
     "output_type": "display_data"
    }
   ],
   "source": [
    "rewardProfiler.profile(rewards.SizeReward(Wandb=False))"
   ]
  },
  {
   "cell_type": "code",
   "execution_count": 25,
   "metadata": {},
   "outputs": [
    {
     "name": "stdout",
     "output_type": "stream",
     "text": [
      "Synth Reward Succesfully initialized\n"
     ]
    },
    {
     "data": {
      "text/plain": [
       "1.6538815862972296"
      ]
     },
     "execution_count": 25,
     "metadata": {},
     "output_type": "execute_result"
    }
   ],
   "source": [
    "s = SynthReward(False)\n",
    "s.giveReward(mol)"
   ]
  },
  {
   "cell_type": "code",
   "execution_count": 13,
   "metadata": {},
   "outputs": [
    {
     "name": "stderr",
     "output_type": "stream",
     "text": [
      "RDKit ERROR: [15:15:02] Can't kekulize mol.  Unkekulized atoms: 1 2 3 4 10\n",
      "[15:15:02] Can't kekulize mol.  Unkekulized atoms: 1 2 3 4 10\n",
      "\n",
      "RDKit ERROR: \n"
     ]
    },
    {
     "data": {
      "image/png": "[encoded data removed]",
      "text/plain": [
       "<rdkit.Chem.rdchem.Mol at 0x7f5b93551620>"
      ]
     },
     "execution_count": 13,
     "metadata": {},
     "output_type": "execute_result"
    }
   ],
   "source": [
    "Chem.MolFromSmiles('Sc1nnc(-c2cnon2)n1', False)"
   ]
  },
  {
   "cell_type": "code",
   "execution_count": 22,
   "metadata": {},
   "outputs": [
    {
     "name": "stdout",
     "output_type": "stream",
     "text": [
      "SINGLE\n",
      "AROMATIC\n",
      "AROMATIC\n",
      "AROMATIC\n",
      "SINGLE\n",
      "AROMATIC\n",
      "AROMATIC\n",
      "AROMATIC\n",
      "AROMATIC\n",
      "AROMATIC\n",
      "AROMATIC\n",
      "AROMATIC\n"
     ]
    },
    {
     "name": "stderr",
     "output_type": "stream",
     "text": [
      "RDKit ERROR: [15:16:50] Can't kekulize mol.  Unkekulized atoms: 1 2 3 4 5\n",
      "RDKit ERROR: \n",
      "[15:16:50] Can't kekulize mol.  Unkekulized atoms: 1 2 3 4 5\n",
      "\n",
      "RDKit ERROR: [15:16:50] Can't kekulize mol.  Unkekulized atoms: 1 2 3 4 5\n",
      "RDKit ERROR: \n",
      "[15:16:50] Can't kekulize mol.  Unkekulized atoms: 1 2 3 4 5\n",
      "\n"
     ]
    }
   ],
   "source": [
    "for bond in (AdjustAromaticNs(Chem.MolFromSmiles('Sc1nnc(-c2cnon2)n1', False))).GetBonds():\n",
    "    print(bond.GetBondType())\n",
    "    \n",
    "mol = AdjustAromaticNs(Chem.MolFromSmiles('Sc1nnc(-c2cnon2)n1', False))"
   ]
  },
  {
   "cell_type": "code",
   "execution_count": null,
   "metadata": {},
   "outputs": [],
   "source": []
  }
 ],
 "metadata": {
  "interpreter": {
   "hash": "ec606fc085fe86530c35cef2373cc343a007c8f5f2b5ac3b7e79a3e17604272c"
  },
  "kernelspec": {
   "display_name": "Python 3.7.10 ('lab1')",
   "language": "python",
   "name": "python3"
  },
  "language_info": {
   "codemirror_mode": {
    "name": "ipython",
    "version": 3
   },
   "file_extension": ".py",
   "mimetype": "text/x-python",
   "name": "python",
   "nbconvert_exporter": "python",
   "pygments_lexer": "ipython3",
   "version": "3.7.11"
  },
  "orig_nbformat": 4
 },
 "nbformat": 4,
 "nbformat_minor": 2
}
