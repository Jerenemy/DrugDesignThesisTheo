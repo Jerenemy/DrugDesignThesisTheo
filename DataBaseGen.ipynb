{
 "cells": [
  {
   "cell_type": "code",
   "execution_count": 3,
   "id": "7752d321",
   "metadata": {},
   "outputs": [],
   "source": [
    "device = torch.device(\"cuda:0\" if torch.cuda.is_available() else \"cpu\")\n"
   ]
  },
  {
   "cell_type": "code",
   "execution_count": 3,
   "id": "4c7a9e7a",
   "metadata": {},
   "outputs": [
    {
     "name": "stderr",
     "output_type": "stream",
     "text": [
      "Using backend: pytorch[09:57:12] /opt/dgl/src/runtime/tensordispatch.cc:43: TensorDispatcher: dlopen failed: /home/theo/anaconda3/envs/prawn/lib/python3.7/site-packages/dgl/tensoradapter/pytorch/libtensoradapter_pytorch_1.9.1.so: cannot open shared object file: No such file or directory\n",
      "\n",
      "/home/theo/anaconda3/envs/prawn/lib/python3.7/site-packages/torch/cuda/__init__.py:52: UserWarning: CUDA initialization: Unexpected error from cudaGetDeviceCount(). Did you run some cuda functions before calling NumCudaDevices() that might have already set an error? Error 804: forward compatibility was attempted on non supported HW (Triggered internally at  /opt/conda/conda-bld/pytorch_1631630836880/work/c10/cuda/CUDAFunctions.cpp:115.)\n",
      "  return torch._C._cuda_getDeviceCount() > 0\n"
     ]
    }
   ],
   "source": [
    "import numpy as np\n",
    "import numpy as np\n",
    "import torch\n",
    "from pysmiles import read_smiles\n",
    "import networkx as nx\n",
    "import dgllife\n",
    "from rdkit import Chem\n",
    "import random\n",
    "import dgl.nn.pytorch as dglnn\n",
    "import torch.nn as nn\n",
    "import dgl\n",
    "from dgl import DGLGraph\n",
    "from torch.nn.utils.rnn import pad_sequence\n",
    "from collections import Counter\n",
    "import pandas\n",
    "import csv\n",
    "import dgl.data\n",
    "import torch\n",
    "import torch.nn as nn\n",
    "import torch.nn.functional as F\n",
    "import dgl.function as fn\n",
    "from torch.distributions import Categorical\n",
    "import matplotlib.pyplot as plt\n",
    "import functools\n",
    "#%run MoleculeGenerator2.ipynb\n",
    "%run Discrim.ipynb\n",
    "%run ChemEnv.ipynb\n",
    "%run MolUtils.ipynb\n",
    "%run Tests.ipynb\n",
    "\n"
   ]
  },
  {
   "cell_type": "code",
   "execution_count": 2,
   "id": "23f779e3",
   "metadata": {},
   "outputs": [],
   "source": [
    "batch = dgl.load_graphs('./graph_decomp/chunk_0')"
   ]
  },
  {
   "cell_type": "code",
   "execution_count": 14,
   "id": "4d79c9ab",
   "metadata": {},
   "outputs": [
    {
     "data": {
      "image/png": "[encoded data removed]",
      "text/plain": [
       "<rdkit.Chem.rdchem.Mol at 0x7fbf333eb8f0>"
      ]
     },
     "execution_count": 14,
     "metadata": {},
     "output_type": "execute_result"
    }
   ],
   "source": [
    "MolFromGraphsFULL(batch[0][10])"
   ]
  },
  {
   "cell_type": "code",
   "execution_count": 4,
   "id": "fd79d3eb",
   "metadata": {},
   "outputs": [
    {
     "name": "stderr",
     "output_type": "stream",
     "text": [
      "/home/theo/anaconda3/envs/prawn/lib/python3.7/site-packages/IPython/core/interactiveshell.py:3444: FutureWarning: The error_bad_lines argument has been deprecated and will be removed in a future version.\n",
      "\n",
      "\n",
      "  exec(code_obj, self.user_global_ns, self.user_ns)\n"
     ]
    }
   ],
   "source": [
    "drugs = pandas.read_csv('SmallDrug.csv',error_bad_lines=False,delimiter=';')\n",
    "smiles_values = drugs['Smiles'].values\n"
   ]
  },
  {
   "cell_type": "code",
   "execution_count": 5,
   "id": "b8bdf2d0",
   "metadata": {},
   "outputs": [
    {
     "data": {
      "text/plain": [
       "38683"
      ]
     },
     "execution_count": 5,
     "metadata": {},
     "output_type": "execute_result"
    }
   ],
   "source": [
    "len(smiles_values)"
   ]
  },
  {
   "cell_type": "code",
   "execution_count": 6,
   "id": "f29dbfb9",
   "metadata": {},
   "outputs": [],
   "source": [
    "def data_base_generator(smiles,chunk_size, path):\n",
    "    '''function for generating and storing decomposition trajectories'''\n",
    "    i = chunk_size \n",
    "    j=0\n",
    "    while i < len(smiles):\n",
    "        graphs = []\n",
    "        last_action_nodes = []\n",
    "        actions = []\n",
    "        smiles_chunk = smiles[i-chunk_size: i]\n",
    "        \n",
    "        for smile in smiles_chunk:\n",
    "            if mol_checker(smile,'SMILES'):\n",
    "                graph = smiles_to_graph([smile])[0]\n",
    "                graphs_single,last_action_nodes_single, actions_single = full_graph_decomp(graph)\n",
    "                \n",
    "                graphs.extend(graphs_single)\n",
    "                last_action_nodes.extend(last_action_nodes_single)\n",
    "                actions.extend(actions_single)\n",
    "        print(torch.tensor(last_action_nodes).shape)\n",
    "        print(torch.tensor(actions).shape)\n",
    "        \n",
    "        graph_labels = {\"last_action\" : torch.tensor(last_action_nodes), \n",
    "                        \"actions\" : torch.tensor(actions)}\n",
    "        \n",
    "    \n",
    "        dgl.save_graphs('./graph_decomp/chunk_' + str(j),graphs, graph_labels)\n",
    "        j+=1\n",
    "        i+= chunk_size\n",
    "        print(i)\n",
    "    \n",
    "    \n",
    "    "
   ]
  },
  {
   "cell_type": "code",
   "execution_count": 7,
   "id": "c0bc6df6",
   "metadata": {},
   "outputs": [],
   "source": [
    "def DataBaseGeneration(smiles,chunk_size):\n",
    "    i = chunk_size\n",
    "    j = 0\n",
    "    atom_types = ['N','C','O','S','F','Cl','Na','P','Br','Si','B','Se','K']\n",
    "\n",
    "    while i < len(smiles):\n",
    "        state_list = []\n",
    "        action_list = []\n",
    "        smiles_chunk = smiles[i-chunk_size: i]\n",
    "        \n",
    "        for smile in smiles_chunk:\n",
    "            try:\n",
    "                mol = Chem.MolFromSmiles(smile)\n",
    "            except:\n",
    "                continue\n",
    "            if all([atom.GetSymbol() in atom_types for atom in mol.GetAtoms()]) and all([bond.GetBondType() != Chem.BondType.TRIPLE for bond in mol.GetBonds()]):\n",
    "                states,actions = FullMolDecomp(mol)\n",
    "                state_list.extend(states)\n",
    "                action_list.extend(actions)\n",
    "                \n",
    "                \n",
    "        zipped = list(zip(state_list,action_list))\n",
    "        random.shuffle(zipped)\n",
    "        state_list_shuffle,action_list_shuffle = zip(*zipped)\n",
    "        graph_list, last_action_node_list, last_atom_feat_list = zip(*state_list_shuffle)\n",
    "        \n",
    "        graph_labels = {\"last_action\" : torch.tensor(last_action_node_list),\n",
    "                        \"last_atom_feats\" : torch.cat(last_atom_feat_list,dim=0),\n",
    "                        \"actions\" : torch.tensor(action_list_shuffle)}\n",
    "        #print(llen(graphen(graph_labels[\"last_action\"],len(graph_labels[\"last_atom_feats\"]),len(graph_labels[\"actions\"])))\n",
    "        print(type(graph_list))\n",
    "        dgl.save_graphs('./graph_decomp/chunk_' + str(j),list(graph_list), graph_labels)\n",
    "        j+=1\n",
    "        i+= chunk_size\n",
    "        print(i)\n",
    "        \n",
    "        \n",
    "        "
   ]
  },
  {
   "cell_type": "code",
   "execution_count": 8,
   "id": "32ee9adb",
   "metadata": {},
   "outputs": [],
   "source": [
    "def DataBaseGenerationBIGSHUFFLE(smiles,chunk_size):\n",
    "    i = 0\n",
    "    j = 0\n",
    "    atom_types = ['N','C','O','S','F','Cl','Na','P','Br','Si','B','Se','K']\n",
    "    \n",
    "    state_list = []\n",
    "    action_list = []\n",
    "\n",
    "    for smile in smiles:\n",
    "        try:\n",
    "            mol = Chem.MolFromSmiles(smile)\n",
    "        except:\n",
    "            continue\n",
    "        if all([atom.GetSymbol() in atom_types for atom in mol.GetAtoms()]) and all([bond.GetBondType() != Chem.BondType.TRIPLE for bond in mol.GetBonds()]):\n",
    "            states,actions = FullMolDecomp(mol)\n",
    "            state_list.extend(states)\n",
    "            action_list.extend(actions)\n",
    "            \n",
    "            \n",
    "            \n",
    "    zipped = list(zip(state_list,action_list))\n",
    "    random.shuffle(zipped)\n",
    "    state_list_shuffle,action_list_shuffle = zip(*zipped)\n",
    "    graph_list, last_action_node_list, last_atom_feat_list = zip(*state_list_shuffle)\n",
    "\n",
    "    while i < len(state_list) - chunk_size:\n",
    "        _slice = slice(i,i+chunk_size)\n",
    "        \n",
    "        last_action_node_list_slice = last_action_node_list[_slice]\n",
    "        last_atom_feat_list_slice = last_atom_feat_list[_slice]\n",
    "        \n",
    "        graph_list_slice = graph_list[_slice]\n",
    "        \n",
    "        action_list_slice = action_list_shuffle[_slice]\n",
    "        \n",
    "        graph_labels = {\"last_action\" : torch.tensor(last_action_node_list_slice),\n",
    "                        \"last_atom_feats\" : torch.cat(last_atom_feat_list_slice,dim=0),\n",
    "                        \"actions\" : torch.tensor(action_list_slice)}\n",
    "        \n",
    "        dgl.save_graphs('./graph_decomp/chunk_' + str(j),list(graph_list_slice), graph_labels)\n",
    "        j+=1\n",
    "        i+= chunk_size\n",
    "        print(i)\n",
    "        \n",
    "        \n",
    "        "
   ]
  },
  {
   "cell_type": "code",
   "execution_count": 19,
   "id": "18ad7d4b",
   "metadata": {},
   "outputs": [],
   "source": [
    "def DataBaseGenerationONEFILE(smiles):\n",
    "    i = 0\n",
    "    j = 0\n",
    "    atom_types = ['N','C','O','S','F','Cl','Na','P','Br','Si','B','Se','K']\n",
    "    \n",
    "    state_list = []\n",
    "    action_list = []\n",
    "\n",
    "    for i,smile in enumerate(smiles):\n",
    "        if i%1000 == 0:\n",
    "            print(i)\n",
    "        try:\n",
    "            mol = Chem.MolFromSmiles(smile)\n",
    "        except:\n",
    "            continue\n",
    "        if all([atom.GetSymbol() in atom_types for atom in mol.GetAtoms()]) and all([bond.GetBondType() != Chem.BondType.TRIPLE for bond in mol.GetBonds()]):\n",
    "            states,actions = FullMolDecomp(mol)\n",
    "#             for state in states:\n",
    "#                 print(state)\n",
    "            state_list.extend(states)\n",
    "            action_list.extend(actions)\n",
    "            \n",
    "            \n",
    "            \n",
    "#     zipped = list(zip(state_list,action_list))\n",
    "#     random.shuffle(zipped)\n",
    "#     state_list_shuffle,action_list_shuffle = zip(*zipped)\n",
    "#     graph_list, last_action_node_list, last_atom_feat_list = zip(*state_list_shuffle)\n",
    "    \n",
    "#     print(torch.tensor(last_action_node_list).shape,torch.stack(last_atom_feat_list,dim=0).shape)\n",
    "    graph_list, last_action_node_list, last_atom_feat_list = zip(*state_list)\n",
    "    \n",
    "    graph_labels = {\"last_action\" : torch.tensor(last_action_node_list),\n",
    "                    \"last_atom_feats\" : torch.cat(last_atom_feat_list,dim=0),\n",
    "                    \"actions\" : torch.tensor(action_list)}\n",
    "\n",
    "    dgl.save_graphs('./graph_decomp/full_chunka',list(graph_list), graph_labels)\n",
    "\n",
    "        \n",
    "        \n",
    "        "
   ]
  },
  {
   "cell_type": "code",
   "execution_count": 34,
   "id": "a9b0bf95",
   "metadata": {},
   "outputs": [
    {
     "name": "stdout",
     "output_type": "stream",
     "text": [
      "0\n",
      "1000\n",
      "2000\n",
      "3000\n",
      "4000\n",
      "5000\n",
      "6000\n",
      "7000\n",
      "8000\n",
      "9000\n",
      "10000\n",
      "11000\n",
      "12000\n",
      "13000\n",
      "14000\n",
      "15000\n",
      "16000\n",
      "17000\n",
      "18000\n",
      "19000\n",
      "20000\n",
      "21000\n",
      "22000\n",
      "23000\n",
      "24000\n",
      "25000\n",
      "26000\n",
      "27000\n",
      "28000\n",
      "29000\n",
      "30000\n",
      "31000\n",
      "32000\n",
      "33000\n",
      "34000\n",
      "35000\n",
      "36000\n",
      "37000\n",
      "38000\n"
     ]
    }
   ],
   "source": [
    "DataBaseGenerationONEFILE(smiles_values)"
   ]
  },
  {
   "cell_type": "code",
   "execution_count": 22,
   "id": "cfa6ce84",
   "metadata": {},
   "outputs": [],
   "source": [
    "graphs = dgl.load_graphs('./graph_decomp/full_chunka')"
   ]
  },
  {
   "cell_type": "code",
   "execution_count": 24,
   "id": "6b62d2a6",
   "metadata": {},
   "outputs": [],
   "source": [
    "graphs, g_dict = graphs"
   ]
  },
  {
   "cell_type": "code",
   "execution_count": 33,
   "id": "371064a1",
   "metadata": {},
   "outputs": [
    {
     "name": "stdout",
     "output_type": "stream",
     "text": [
      "tensor(2.) tensor(0.)\n"
     ]
    },
    {
     "data": {
      "image/png": "[encoded data removed]",
      "text/plain": [
       "<rdkit.Chem.rdchem.Mol at 0x7f598b4227b0>"
      ]
     },
     "execution_count": 33,
     "metadata": {},
     "output_type": "execute_result"
    }
   ],
   "source": [
    "i = 3\n",
    "print(g_dict['actions'][i], g_dict['last_action'][i])\n",
    "MolFromGraphsFULL(graphs[i])"
   ]
  },
  {
   "cell_type": "code",
   "execution_count": 11,
   "id": "672c3ef6",
   "metadata": {},
   "outputs": [],
   "source": [
    "def FullMolDecomp(mol, return_mol = False):\n",
    "    \n",
    "    \n",
    "    \n",
    "    graph = selfLoop(mol_to_graph_full(mol))\n",
    "    last_action_node = torch.zeros((1,1)).to(device)\n",
    "    \n",
    "    #states = [graph, last_action_node, torch.unsqueeze(graph.ndata['atomic'][-1],dim=0)]\n",
    "    obs = (graph, last_action_node, torch.unsqueeze(graph.ndata['atomic'][-1],dim=0))\n",
    "    states = [obs]\n",
    "    actions = [torch.zeros(1)]\n",
    "    mol_list = [mol]\n",
    "    \n",
    "    \n",
    "    i = 1\n",
    "    success = True\n",
    "    while success:\n",
    "        mol, obs, action, success = MolDecompStep(mol)\n",
    "        if success:\n",
    "            states.append(obs)\n",
    "            actions.append(action)\n",
    "            mol_list.append(mol)\n",
    "    if return_mol:\n",
    "        return mol_list, states, actions\n",
    "    \n",
    "    return states,actions\n",
    "        \n",
    "        \n",
    "        \n",
    "    "
   ]
  },
  {
   "cell_type": "code",
   "execution_count": 12,
   "id": "3a3e808a",
   "metadata": {},
   "outputs": [],
   "source": [
    "def MolDecompStep(mol):\n",
    "    '''\n",
    "    input: RDKit Mol \n",
    "    Output: (RDKit Mol, last action node, node features) \n",
    "    \n",
    "    Priority:\n",
    "    \n",
    "    1. Remove Lone Node/Aromatic ring\n",
    "    2. Disconnect Aromatic Ring\n",
    "    3. Disconnect Atom\n",
    "    4. Break Cycle\n",
    "    '''\n",
    "    mol_copy = permute_mol(mol, lambda x: x) \n",
    "    Chem.SanitizeMol(mol_copy)\n",
    "    success = False\n",
    "    \n",
    "    if not success:\n",
    "        mol, obs, action, success = remove_node(mol_copy)\n",
    "    \n",
    "    if not success:\n",
    "        mol, obs, action, success = remove_aro_ring(mol_copy)\n",
    "    \n",
    "        \n",
    "    if not success:\n",
    "        mol, obs, action, success = remove_ring_edge(mol_copy)\n",
    "        \n",
    "    if not success:\n",
    "        mol, obs, action, success = remove_node_edge(mol_copy)    \n",
    "              \n",
    "    if not success:\n",
    "        mol, obs, action, success = break_cycle(mol_copy)\n",
    "      \n",
    "        \n",
    "    if success and mol.GetNumAtoms()>1:\n",
    "        return mol, obs, action, success \n",
    "    \n",
    "    return None, None, None, False\n",
    "    \n",
    "    \n",
    "    \n",
    "    \n",
    "    \n",
    "    \n",
    "    "
   ]
  },
  {
   "cell_type": "code",
   "execution_count": null,
   "id": "4061eca5",
   "metadata": {},
   "outputs": [],
   "source": []
  },
  {
   "cell_type": "code",
   "execution_count": 13,
   "id": "68dfd83d",
   "metadata": {},
   "outputs": [],
   "source": [
    "def _remove_edge(mol, atom1_idx, atom2_idx,len_node_actions=16):\n",
    "    if atom1_idx == mol.GetNumAtoms()-1:\n",
    "        atom1_idx, atom2_idx = atom2_idx, atom1_idx\n",
    "    new_mol = permuteAtomToEnd(mol,atom2_idx)\n",
    "    b = new_mol.GetBondBetweenAtoms(new_mol.GetNumAtoms()-1,atom1_idx)\n",
    "    bt = b.GetBondType()\n",
    "    \n",
    "    if bt == 'SINGLE':\n",
    "        bt_int = 0\n",
    "    else:\n",
    "        bt_int = 1\n",
    "        \n",
    "    new_mol.RemoveBond(new_mol.GetNumAtoms()-1,atom1_idx)\n",
    "    action =  2*atom1_idx + len_node_actions + bt_int\n",
    "    \n",
    "    return new_mol, action\n",
    "    \n"
   ]
  },
  {
   "cell_type": "code",
   "execution_count": 14,
   "id": "8aba55cd",
   "metadata": {},
   "outputs": [],
   "source": [
    "def remove_node(mol):\n",
    "    \n",
    "    atom_list = ['N','C','O','S','F','Cl','Na','P','Br','Si','B','Se','K', 'Aro']    \n",
    "    for atom in mol.GetAtoms():\n",
    "        if atom.GetDegree() == 0:\n",
    "            atom_idx = atom.GetIdx()\n",
    "            atom_symbol = atom.GetSymbol() \n",
    "\n",
    "            action = atom_list.index(atom_symbol) + 1\n",
    "            mol.RemoveAtom(atom_idx)\n",
    "            \n",
    "            \n",
    "            try:\n",
    "                Chem.SanitizeMol(mol)\n",
    "                graph = mol_to_graph_full(mol)\n",
    "                last_action_node = torch.zeros((1,1)).to(device)\n",
    "                obs = graph, last_action_node, torch.unsqueeze(graph.ndata['atomic'][-1], dim = 0)                \n",
    "                return mol, obs, action, True\n",
    "            except Chem.rdchem.KekulizeException:\n",
    "                return (None,None,None), -1, False \n",
    "    \n",
    "    \n",
    "    return None, (None,None,None), -1, False\n",
    "        \n",
    "        \n",
    "        "
   ]
  },
  {
   "cell_type": "code",
   "execution_count": 15,
   "id": "1ed0a691",
   "metadata": {},
   "outputs": [],
   "source": [
    "#decide on aromatic ring ordering \n",
    "#ORDERING WILL BE OFF UNTILL DECIDING ON HOW MANY RINGS TO ALLOW\n",
    "def remove_aro_ring(mol):\n",
    "    aro_dict_list = [{'C': 6}, {'N': 1, 'C': 5}, {'N': 1, 'C': 4}]\n",
    "    aro_list = ['Benz', 'Pyri', 'Pyrr']\n",
    "    cycles = list(mol.GetRingInfo().AtomRings())\n",
    "    \n",
    "    for cycle in cycles:\n",
    "        if all([mol.GetAtomWithIdx(atom_id).GetIsAromatic() for atom_id in cycle]) and all([mol.GetAtomWithIdx(atom_id).GetDegree() == 2 for atom_id in cycle]):\n",
    "            aro_cycle = cycle\n",
    "            atom_types_dict = (Counter([mol.GetAtomWithIdx(atom_id).GetSymbol() for atom_id in cycle]))\n",
    "            \n",
    "            try:\n",
    "                aro_idx = aro_dict_list.index(atom_types_dict)\n",
    "            except:\n",
    "                continue\n",
    "            aro_idx_name = aro_list[aro_idx]\n",
    "    \n",
    "            for atom_idx in sorted(aro_cycle, reverse = True):\n",
    "                mol.RemoveAtom(atom_idx)\n",
    "            action = 1 + 13 + aro_idx\n",
    "            \n",
    "            if mol.GetNumAtoms() == 0:\n",
    "                    return None, (None,None,None), -1, False \n",
    "            try:\n",
    "                Chem.SanitizeMol(mol)\n",
    "                graph = mol_to_graph_full(mol)\n",
    "                last_action_node = torch.zeros((1,1)).to(device)\n",
    "                obs = graph, last_action_node, torch.unsqueeze(graph.ndata['atomic'][-1], dim = 0)   \n",
    "                \n",
    "                return mol, obs, action, True\n",
    "            except Chem.rdchem.KekulizeException:\n",
    "                return None, (None,None,None), -1, False \n",
    "        \n",
    "    \n",
    "    return None, (None,None,None), -1, False \n",
    "            \n",
    "                \n",
    "    "
   ]
  },
  {
   "cell_type": "code",
   "execution_count": 16,
   "id": "e7f6e8d2",
   "metadata": {},
   "outputs": [],
   "source": [
    "#edge_type \n",
    "def remove_node_edge(mol):    \n",
    "    for atom in mol.GetAtoms():\n",
    "        if atom.GetDegree() == 1:\n",
    "            atom_idx = atom.GetIdx()\n",
    "            b = list(atom.GetBonds())[0]\n",
    "            other_atom_idx = b.GetOtherAtom(atom).GetIdx()\n",
    "            new_mol, action = _remove_edge(mol,other_atom_idx,atom_idx)\n",
    "            \n",
    "            try:\n",
    "                Chem.SanitizeMol(new_mol)\n",
    "                graph = mol_to_graph_full(new_mol)\n",
    "                last_action_node = torch.ones((1,1)).to(device)\n",
    "                obs = graph, last_action_node, torch.unsqueeze(graph.ndata['atomic'][-1], dim = 0)                \n",
    "                return new_mol, obs, action, True\n",
    "            except Chem.rdchem.KekulizeException:\n",
    "                return None, (None,None,None), -1, False \n",
    "            \n",
    "                \n",
    "    \n",
    "    return None, (None,None,None), -1, False"
   ]
  },
  {
   "cell_type": "code",
   "execution_count": 17,
   "id": "50a3703f",
   "metadata": {},
   "outputs": [],
   "source": [
    "def remove_ring_edge(mol):\n",
    "    cycles = list(mol.GetRingInfo().AtomRings())\n",
    "    for cycle in cycles:\n",
    "        degrees = [mol.GetAtomWithIdx(cycle_idx).GetDegree() for cycle_idx in cycle] \n",
    "        is_aromatic = [mol.GetAtomWithIdx(cycle_idx).GetIsAromatic() for cycle_idx in cycle] \n",
    "        if sum(degrees) == (len(degrees) * 2) + 1 and all(is_aromatic):\n",
    "            idx_in_cycle = degrees.index(3)\n",
    "            \n",
    "            atom_idx = cycle[idx_in_cycle]\n",
    "            atom = mol.GetAtomWithIdx(atom_idx)\n",
    "            b_list = list(atom.GetBonds())\n",
    "            \n",
    "            \n",
    "            for b in b_list:\n",
    "                bt = b.GetBondType()\n",
    "                if bt != Chem.rdchem.BondType.AROMATIC:\n",
    "                    break\n",
    "            else:\n",
    "                continue\n",
    "                \n",
    "                \n",
    "            other_atom_idx = b.GetOtherAtom(atom).GetIdx()\n",
    "            new_mol, action = _remove_edge(mol,atom_idx,other_atom_idx)\n",
    "            \n",
    "            \n",
    "            \n",
    "            try:\n",
    "                Chem.SanitizeMol(new_mol)\n",
    "                graph = mol_to_graph_full(new_mol)\n",
    "                last_action_node = torch.ones((1,1)).to(device)\n",
    "                obs = graph, last_action_node, torch.unsqueeze(graph.ndata['atomic'][-1], dim = 0)                \n",
    "                return new_mol, obs, action, True\n",
    "            except Chem.rdchem.KekulizeException:\n",
    "                return None, (None,None,None), -1, False \n",
    "                \n",
    "        \n",
    "    \n",
    "    return None, (None,None,None), -1, False \n",
    "            \n",
    "            \n",
    "            \n",
    "            "
   ]
  },
  {
   "cell_type": "code",
   "execution_count": 18,
   "id": "c4389a8b",
   "metadata": {},
   "outputs": [],
   "source": [
    "def break_cycle(mol):\n",
    "        for atom_i in range(mol.GetNumAtoms()):\n",
    "            if mol.GetAtomWithIdx(atom_i).GetIsAromatic():\n",
    "                continue\n",
    "            for atom_j in range(atom_i+1, mol.GetNumAtoms()):\n",
    "                if mol.GetAtomWithIdx(atom_j).GetIsAromatic():\n",
    "                    continue\n",
    "                bond = mol.GetBondBetweenAtoms(atom_i,atom_j)\n",
    "                if bond == None:\n",
    "                    continue\n",
    "                \n",
    "                bond_type_int = bondTypeInt(bond.GetBondType())\n",
    "                mol_copy = permute_mol(mol,lambda x: x)\n",
    "                mol_copy.RemoveBond(atom_i,atom_j)\n",
    "                if not nx.is_connected(mol_to_graph(mol_copy).to_networkx().to_undirected()):\n",
    "                    continue\n",
    "                new_mol, action = _remove_edge(mol,atom_i,atom_j)\n",
    "                graph = mol_to_graph_full(new_mol)\n",
    "                last_action_node = torch.ones((1,1)).to(device)\n",
    "                obs = graph, last_action_node, torch.unsqueeze(graph.ndata['atomic'][-1], dim = 0)\n",
    "                Chem.SanitizeMol(new_mol)\n",
    "                return new_mol, obs, action, True\n",
    "        else:\n",
    "            return None, (None,None,None), -1, False \n",
    "            \n",
    "                    \n",
    "                    "
   ]
  },
  {
   "cell_type": "code",
   "execution_count": 16,
   "id": "5f08a8a5",
   "metadata": {},
   "outputs": [
    {
     "ename": "DGLError",
     "evalue": "[17:29:24] /opt/dgl/third_party/dmlc-core/src/io/local_filesys.cc:43: Check failed: !std::fseek(fp_, static_cast<long>(pos), SEEK_SET): \nStack trace:\n  [bt] (0) /home/theo/anaconda3/envs/prawn/lib/python3.7/site-packages/dgl/libdgl.so(dmlc::LogMessageFatal::~LogMessageFatal()+0x4f) [0x7fb41d61aeef]\n  [bt] (1) /home/theo/anaconda3/envs/prawn/lib/python3.7/site-packages/dgl/libdgl.so(dmlc::io::FileStream::Seek(unsigned long)+0x73) [0x7fb41e905d73]\n  [bt] (2) /home/theo/anaconda3/envs/prawn/lib/python3.7/site-packages/dgl/libdgl.so(dgl::serialize::LoadHeteroGraphs(std::string const&, std::vector<unsigned long, std::allocator<unsigned long> >)+0x3d2) [0x7fb41deabb92]\n  [bt] (3) /home/theo/anaconda3/envs/prawn/lib/python3.7/site-packages/dgl/libdgl.so(+0xe39e6f) [0x7fb41dea4e6f]\n  [bt] (4) /home/theo/anaconda3/envs/prawn/lib/python3.7/site-packages/dgl/libdgl.so(DGLFuncCall+0x48) [0x7fb41ddb1bb8]\n  [bt] (5) /home/theo/anaconda3/envs/prawn/lib/python3.7/site-packages/dgl/_ffi/_cy3/core.cpython-37m-x86_64-linux-gnu.so(+0x17663) [0x7fb588027663]\n  [bt] (6) /home/theo/anaconda3/envs/prawn/lib/python3.7/site-packages/dgl/_ffi/_cy3/core.cpython-37m-x86_64-linux-gnu.so(+0x1798b) [0x7fb58802798b]\n  [bt] (7) /home/theo/anaconda3/envs/prawn/bin/python(_PyObject_FastCallKeywords+0x15c) [0x563c65e5188c]\n  [bt] (8) /home/theo/anaconda3/envs/prawn/bin/python(_PyEval_EvalFrameDefault+0x47e5) [0x563c65e99545]\n\n",
     "output_type": "error",
     "traceback": [
      "\u001b[0;31m---------------------------------------------------------------------------\u001b[0m",
      "\u001b[0;31mDGLError\u001b[0m                                  Traceback (most recent call last)",
      "\u001b[0;32m/tmp/ipykernel_25312/3354216167.py\u001b[0m in \u001b[0;36m<module>\u001b[0;34m\u001b[0m\n\u001b[0;32m----> 1\u001b[0;31m \u001b[0mgraph_l\u001b[0m\u001b[0;34m,\u001b[0m \u001b[0mdic\u001b[0m \u001b[0;34m=\u001b[0m \u001b[0mdgl\u001b[0m\u001b[0;34m.\u001b[0m\u001b[0mload_graphs\u001b[0m\u001b[0;34m(\u001b[0m\u001b[0;34m'./graph_decomp/full_chunk0'\u001b[0m\u001b[0;34m)\u001b[0m\u001b[0;34m\u001b[0m\u001b[0;34m\u001b[0m\u001b[0m\n\u001b[0m",
      "\u001b[0;32m~/anaconda3/envs/prawn/lib/python3.7/site-packages/dgl/data/graph_serialize.py\u001b[0m in \u001b[0;36mload_graphs\u001b[0;34m(filename, idx_list)\u001b[0m\n\u001b[1;32m    180\u001b[0m         \u001b[0;32mreturn\u001b[0m \u001b[0mload_graph_v1\u001b[0m\u001b[0;34m(\u001b[0m\u001b[0mfilename\u001b[0m\u001b[0;34m,\u001b[0m \u001b[0midx_list\u001b[0m\u001b[0;34m)\u001b[0m\u001b[0;34m\u001b[0m\u001b[0;34m\u001b[0m\u001b[0m\n\u001b[1;32m    181\u001b[0m     \u001b[0;32melif\u001b[0m \u001b[0mversion\u001b[0m \u001b[0;34m==\u001b[0m \u001b[0;36m2\u001b[0m\u001b[0;34m:\u001b[0m\u001b[0;34m\u001b[0m\u001b[0;34m\u001b[0m\u001b[0m\n\u001b[0;32m--> 182\u001b[0;31m         \u001b[0;32mreturn\u001b[0m \u001b[0mload_graph_v2\u001b[0m\u001b[0;34m(\u001b[0m\u001b[0mfilename\u001b[0m\u001b[0;34m,\u001b[0m \u001b[0midx_list\u001b[0m\u001b[0;34m)\u001b[0m\u001b[0;34m\u001b[0m\u001b[0;34m\u001b[0m\u001b[0m\n\u001b[0m\u001b[1;32m    183\u001b[0m     \u001b[0;32melse\u001b[0m\u001b[0;34m:\u001b[0m\u001b[0;34m\u001b[0m\u001b[0;34m\u001b[0m\u001b[0m\n\u001b[1;32m    184\u001b[0m         \u001b[0;32mraise\u001b[0m \u001b[0mDGLError\u001b[0m\u001b[0;34m(\u001b[0m\u001b[0;34m\"Invalid DGL Version Number.\"\u001b[0m\u001b[0;34m)\u001b[0m\u001b[0;34m\u001b[0m\u001b[0;34m\u001b[0m\u001b[0m\n",
      "\u001b[0;32m~/anaconda3/envs/prawn/lib/python3.7/site-packages/dgl/data/graph_serialize.py\u001b[0m in \u001b[0;36mload_graph_v2\u001b[0;34m(filename, idx_list)\u001b[0m\n\u001b[1;32m    190\u001b[0m         \u001b[0midx_list\u001b[0m \u001b[0;34m=\u001b[0m \u001b[0;34m[\u001b[0m\u001b[0;34m]\u001b[0m\u001b[0;34m\u001b[0m\u001b[0;34m\u001b[0m\u001b[0m\n\u001b[1;32m    191\u001b[0m     \u001b[0;32massert\u001b[0m \u001b[0misinstance\u001b[0m\u001b[0;34m(\u001b[0m\u001b[0midx_list\u001b[0m\u001b[0;34m,\u001b[0m \u001b[0mlist\u001b[0m\u001b[0;34m)\u001b[0m\u001b[0;34m\u001b[0m\u001b[0;34m\u001b[0m\u001b[0m\n\u001b[0;32m--> 192\u001b[0;31m     \u001b[0mheterograph_list\u001b[0m \u001b[0;34m=\u001b[0m \u001b[0m_CAPI_LoadGraphFiles_V2\u001b[0m\u001b[0;34m(\u001b[0m\u001b[0mfilename\u001b[0m\u001b[0;34m,\u001b[0m \u001b[0midx_list\u001b[0m\u001b[0;34m)\u001b[0m\u001b[0;34m\u001b[0m\u001b[0;34m\u001b[0m\u001b[0m\n\u001b[0m\u001b[1;32m    193\u001b[0m     \u001b[0mlabel_dict\u001b[0m \u001b[0;34m=\u001b[0m \u001b[0mload_labels_v2\u001b[0m\u001b[0;34m(\u001b[0m\u001b[0mfilename\u001b[0m\u001b[0;34m)\u001b[0m\u001b[0;34m\u001b[0m\u001b[0;34m\u001b[0m\u001b[0m\n\u001b[1;32m    194\u001b[0m     \u001b[0;32mreturn\u001b[0m \u001b[0;34m[\u001b[0m\u001b[0mgdata\u001b[0m\u001b[0;34m.\u001b[0m\u001b[0mget_graph\u001b[0m\u001b[0;34m(\u001b[0m\u001b[0;34m)\u001b[0m \u001b[0;32mfor\u001b[0m \u001b[0mgdata\u001b[0m \u001b[0;32min\u001b[0m \u001b[0mheterograph_list\u001b[0m\u001b[0;34m]\u001b[0m\u001b[0;34m,\u001b[0m \u001b[0mlabel_dict\u001b[0m\u001b[0;34m\u001b[0m\u001b[0;34m\u001b[0m\u001b[0m\n",
      "\u001b[0;32mdgl/_ffi/_cython/./function.pxi\u001b[0m in \u001b[0;36mdgl._ffi._cy3.core.FunctionBase.__call__\u001b[0;34m()\u001b[0m\n",
      "\u001b[0;32mdgl/_ffi/_cython/./function.pxi\u001b[0m in \u001b[0;36mdgl._ffi._cy3.core.FuncCall\u001b[0;34m()\u001b[0m\n",
      "\u001b[0;32mdgl/_ffi/_cython/./function.pxi\u001b[0m in \u001b[0;36mdgl._ffi._cy3.core.FuncCall3\u001b[0;34m()\u001b[0m\n",
      "\u001b[0;32mdgl/_ffi/_cython/./base.pxi\u001b[0m in \u001b[0;36mdgl._ffi._cy3.core.CALL\u001b[0;34m()\u001b[0m\n",
      "\u001b[0;31mDGLError\u001b[0m: [17:29:24] /opt/dgl/third_party/dmlc-core/src/io/local_filesys.cc:43: Check failed: !std::fseek(fp_, static_cast<long>(pos), SEEK_SET): \nStack trace:\n  [bt] (0) /home/theo/anaconda3/envs/prawn/lib/python3.7/site-packages/dgl/libdgl.so(dmlc::LogMessageFatal::~LogMessageFatal()+0x4f) [0x7fb41d61aeef]\n  [bt] (1) /home/theo/anaconda3/envs/prawn/lib/python3.7/site-packages/dgl/libdgl.so(dmlc::io::FileStream::Seek(unsigned long)+0x73) [0x7fb41e905d73]\n  [bt] (2) /home/theo/anaconda3/envs/prawn/lib/python3.7/site-packages/dgl/libdgl.so(dgl::serialize::LoadHeteroGraphs(std::string const&, std::vector<unsigned long, std::allocator<unsigned long> >)+0x3d2) [0x7fb41deabb92]\n  [bt] (3) /home/theo/anaconda3/envs/prawn/lib/python3.7/site-packages/dgl/libdgl.so(+0xe39e6f) [0x7fb41dea4e6f]\n  [bt] (4) /home/theo/anaconda3/envs/prawn/lib/python3.7/site-packages/dgl/libdgl.so(DGLFuncCall+0x48) [0x7fb41ddb1bb8]\n  [bt] (5) /home/theo/anaconda3/envs/prawn/lib/python3.7/site-packages/dgl/_ffi/_cy3/core.cpython-37m-x86_64-linux-gnu.so(+0x17663) [0x7fb588027663]\n  [bt] (6) /home/theo/anaconda3/envs/prawn/lib/python3.7/site-packages/dgl/_ffi/_cy3/core.cpython-37m-x86_64-linux-gnu.so(+0x1798b) [0x7fb58802798b]\n  [bt] (7) /home/theo/anaconda3/envs/prawn/bin/python(_PyObject_FastCallKeywords+0x15c) [0x563c65e5188c]\n  [bt] (8) /home/theo/anaconda3/envs/prawn/bin/python(_PyEval_EvalFrameDefault+0x47e5) [0x563c65e99545]\n\n"
     ]
    }
   ],
   "source": [
    "graph_l, dic = dgl.load_graphs('./graph_decomp/full_chunk0')"
   ]
  },
  {
   "cell_type": "code",
   "execution_count": 18,
   "id": "6b4c5022",
   "metadata": {},
   "outputs": [],
   "source": [
    "#check value 23"
   ]
  },
  {
   "cell_type": "code",
   "execution_count": 19,
   "id": "6d56ee0e",
   "metadata": {},
   "outputs": [
    {
     "ename": "NameError",
     "evalue": "name 'smiles_values' is not defined",
     "output_type": "error",
     "traceback": [
      "\u001b[0;31m---------------------------------------------------------------------------\u001b[0m",
      "\u001b[0;31mNameError\u001b[0m                                 Traceback (most recent call last)",
      "\u001b[0;32m/tmp/ipykernel_25102/3288437225.py\u001b[0m in \u001b[0;36m<module>\u001b[0;34m\u001b[0m\n\u001b[0;32m----> 1\u001b[0;31m \u001b[0mtest_mol\u001b[0m \u001b[0;34m=\u001b[0m \u001b[0mChem\u001b[0m\u001b[0;34m.\u001b[0m\u001b[0mMolFromSmiles\u001b[0m\u001b[0;34m(\u001b[0m\u001b[0msmiles_values\u001b[0m\u001b[0;34m[\u001b[0m\u001b[0;36m19\u001b[0m\u001b[0;34m]\u001b[0m\u001b[0;34m)\u001b[0m\u001b[0;34m\u001b[0m\u001b[0;34m\u001b[0m\u001b[0m\n\u001b[0m\u001b[1;32m      2\u001b[0m \u001b[0mmoldecomp\u001b[0m \u001b[0;34m=\u001b[0m \u001b[0mFullMolDecomp\u001b[0m\u001b[0;34m(\u001b[0m\u001b[0mtest_mol\u001b[0m\u001b[0;34m,\u001b[0m\u001b[0mreturn_mol\u001b[0m\u001b[0;34m=\u001b[0m\u001b[0;32mTrue\u001b[0m\u001b[0;34m)\u001b[0m\u001b[0;34m\u001b[0m\u001b[0;34m\u001b[0m\u001b[0m\n\u001b[1;32m      3\u001b[0m \u001b[0mtest_mol\u001b[0m\u001b[0;34m\u001b[0m\u001b[0;34m\u001b[0m\u001b[0m\n",
      "\u001b[0;31mNameError\u001b[0m: name 'smiles_values' is not defined"
     ]
    }
   ],
   "source": [
    "test_mol = Chem.MolFromSmiles(smiles_values[19])\n",
    "moldecomp = FullMolDecomp(test_mol,return_mol=True)\n",
    "test_mol"
   ]
  },
  {
   "cell_type": "code",
   "execution_count": 215,
   "id": "c166a81e",
   "metadata": {},
   "outputs": [
    {
     "name": "stdout",
     "output_type": "stream",
     "text": [
      "14\n"
     ]
    },
    {
     "data": {
      "image/png": "[encoded data removed]",
      "text/plain": [
       "<rdkit.Chem.rdchem.RWMol at 0x7f9963f5c2f0>"
      ]
     },
     "execution_count": 215,
     "metadata": {},
     "output_type": "execute_result"
    }
   ],
   "source": [
    "i = 5\n",
    "print(moldecomp[2][i])\n",
    "moldecomp[0][i]"
   ]
  },
  {
   "cell_type": "code",
   "execution_count": 196,
   "id": "7d0611f2",
   "metadata": {},
   "outputs": [
    {
     "name": "stdout",
     "output_type": "stream",
     "text": [
      "25\n"
     ]
    },
    {
     "data": {
      "image/png": "[encoded data removed]",
      "text/plain": [
       "<rdkit.Chem.rdchem.RWMol at 0x7f99645034b0>"
      ]
     },
     "execution_count": 196,
     "metadata": {},
     "output_type": "execute_result"
    }
   ],
   "source": [
    "dmol,obs,action,val = MolDecompStep(dmol)\n",
    "print(action)\n",
    "dmol\n"
   ]
  },
  {
   "cell_type": "code",
   "execution_count": 192,
   "id": "62c8a4de",
   "metadata": {},
   "outputs": [
    {
     "name": "stdout",
     "output_type": "stream",
     "text": [
      "tensor(25.)\n"
     ]
    },
    {
     "data": {
      "image/png": "[encoded data removed]",
      "text/plain": [
       "<rdkit.Chem.rdchem.Mol at 0x7f996448d0d0>"
      ]
     },
     "execution_count": 192,
     "metadata": {},
     "output_type": "execute_result"
    }
   ],
   "source": [
    "i = 4\n",
    "print(dic['actions'][i])\n",
    "mol_x = MolFromGraphsFULL(graph_l[i])\n",
    "mol_x"
   ]
  },
  {
   "cell_type": "code",
   "execution_count": 149,
   "id": "bf96381d",
   "metadata": {},
   "outputs": [
    {
     "data": {
      "image/png": "[encoded data removed]",
      "text/plain": [
       "<rdkit.Chem.rdchem.RWMol at 0x7f996468c570>"
      ]
     },
     "execution_count": 149,
     "metadata": {},
     "output_type": "execute_result"
    }
   ],
   "source": [
    "cvt.Clear\n",
    "cvt.AssignMol(mol_x)\n",
    "cvt.Step(int(dic['actions'][i]+4))\n",
    "cvt.GetMol()"
   ]
  },
  {
   "cell_type": "code",
   "execution_count": 129,
   "id": "d46757a1",
   "metadata": {},
   "outputs": [
    {
     "name": "stdout",
     "output_type": "stream",
     "text": [
      "33\n"
     ]
    }
   ],
   "source": [
    "n_mol, obs, action, value = remove_ring_edge(mol)\n",
    "print(action)"
   ]
  },
  {
   "cell_type": "code",
   "execution_count": 130,
   "id": "d2e517bd",
   "metadata": {},
   "outputs": [
    {
     "name": "stdout",
     "output_type": "stream",
     "text": [
      "33\n"
     ]
    },
    {
     "data": {
      "image/png": "[encoded data removed]",
      "text/plain": [
       "<rdkit.Chem.rdchem.RWMol at 0x7f9964964730>"
      ]
     },
     "execution_count": 130,
     "metadata": {},
     "output_type": "execute_result"
    }
   ],
   "source": [
    "cvt.Clear\n",
    "cvt.AssignMol(n_mol)\n",
    "print(action)\n",
    "cvt.Step(action)\n",
    "cvt.GetMol()"
   ]
  },
  {
   "cell_type": "code",
   "execution_count": 260,
   "id": "95d2b0a6",
   "metadata": {},
   "outputs": [],
   "source": [
    "wgraph, wdict = dgl.load_graphs('./graph_decomp/full_chunkx0')"
   ]
  },
  {
   "cell_type": "code",
   "execution_count": 262,
   "id": "ca7d2b24",
   "metadata": {},
   "outputs": [
    {
     "name": "stdout",
     "output_type": "stream",
     "text": [
      "tensor(14.)\n"
     ]
    },
    {
     "data": {
      "image/png": "[encoded data removed]",
      "text/plain": [
       "<rdkit.Chem.rdchem.Mol at 0x7f9963e63a30>"
      ]
     },
     "execution_count": 262,
     "metadata": {},
     "output_type": "execute_result"
    }
   ],
   "source": [
    "i = 1\n",
    "print(wdict['actions'][i])\n",
    "MolFromGraphsFULL(wgraph[i])"
   ]
  },
  {
   "cell_type": "code",
   "execution_count": 228,
   "id": "8db941b2",
   "metadata": {},
   "outputs": [
    {
     "data": {
      "image/png": "[encoded data removed]",
      "text/plain": [
       "<rdkit.Chem.rdchem.Mol at 0x7f99640f3ee0>"
      ]
     },
     "execution_count": 228,
     "metadata": {},
     "output_type": "execute_result"
    }
   ],
   "source": [
    "test_mol = Chem.MolFromSmiles(smiles_values[19])\n",
    "moldecomp = FullMolDecomp(test_mol,return_mol=True)\n",
    "test_mol"
   ]
  },
  {
   "cell_type": "code",
   "execution_count": 268,
   "id": "2dacc33a",
   "metadata": {},
   "outputs": [
    {
     "name": "stdout",
     "output_type": "stream",
     "text": [
      "14\n"
     ]
    },
    {
     "data": {
      "image/png": "[encoded data removed]",
      "text/plain": [
       "<rdkit.Chem.rdchem.RWMol at 0x7f9963e3b730>"
      ]
     },
     "execution_count": 268,
     "metadata": {},
     "output_type": "execute_result"
    }
   ],
   "source": [
    "j = 5\n",
    "\n",
    "print(int(moldecomp[2][j]))\n",
    "moldecomp[0][j]"
   ]
  },
  {
   "cell_type": "code",
   "execution_count": null,
   "id": "0711341e",
   "metadata": {},
   "outputs": [],
   "source": []
  }
 ],
 "metadata": {
  "kernelspec": {
   "display_name": "Python 3 (ipykernel)",
   "language": "python",
   "name": "python3"
  },
  "language_info": {
   "codemirror_mode": {
    "name": "ipython",
    "version": 3
   },
   "file_extension": ".py",
   "mimetype": "text/x-python",
   "name": "python",
   "nbconvert_exporter": "python",
   "pygments_lexer": "ipython3",
   "version": "3.7.11"
  }
 },
 "nbformat": 4,
 "nbformat_minor": 5
}
